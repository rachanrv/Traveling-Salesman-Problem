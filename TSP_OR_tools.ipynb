{
  "nbformat": 4,
  "nbformat_minor": 2,
  "metadata": {
    "colab": {
      "name": "TSP#OR tools.ipynb",
      "provenance": [],
      "collapsed_sections": [],
      "toc_visible": true
    },
    "kernelspec": {
      "name": "python3",
      "display_name": "Python 3"
    }
  },
  "cells": [
    {
      "cell_type": "markdown",
      "source": [
        "# **TRAVELING SALESMAN PROBLEM USING OR-TOOLS**\r\n",
        "\r\n",
        "\r\n",
        "\r\n",
        "This project presents an example that shows how to solve the Traveling Salesman Problem (TSP) using OR tools for given any 23 locations to keep it easy.\r\n",
        "\r\n",
        "\r\n",
        "Resources:\r\n",
        "* https://developers.google.com/optimization/routing/tsp\r\n"
      ],
      "metadata": {
        "id": "dPaFRpUpiZRq"
      }
    },
    {
      "cell_type": "markdown",
      "source": [
        "<image src=\"https://media3.giphy.com/media/WSBcKq3IMknO1ichgo/giphy.gif\" height=\"300\">"
      ],
      "metadata": {
        "id": "0JfQwTbM2Gxd"
      }
    },
    {
      "cell_type": "markdown",
      "source": [
        "In this notebook, you will learn how to:\n",
        "1. Formulate the Traveling Salesman Problem(TSP) in service solver\n",
        "2. Use heuristics to identify solutions of the TSP problem that are infeasible\n"
      ],
      "metadata": {
        "id": "zpzm18xBIpHR"
      }
    },
    {
      "cell_type": "markdown",
      "source": [
        "# Problem Statement\n",
        "\n",
        "The TSP can be defined as follows: for a given list of cities and the distances between each pair of them, we want to find the shortest possible route that goes to each city once and returns to the origin city.\n",
        "\n",
        "There is a class of Traveling Salesman Problems that assumes that the distance of going from city i\n",
        "to city j is the same as going form city j to city i, this type of Traveling Salesman Problem is also known as the symmetric Traveling Salesman Problem. In this example, we use Manhattan distances, but the TSP model formulation is valid independent of the way in which the individual distances are determined.\n",
        "OR tools accepts Manhattan distances in determining more accurate optimal solutions."
      ],
      "metadata": {
        "id": "wuYkNvNFJTFI"
      }
    },
    {
      "cell_type": "markdown",
      "source": [
        "**Problem Scenario:**\r\n",
        "A salesman was assigned an assignment to travel to 23 locations of Fairfield County in Connecticut in the state of Connecticut. He reached his manager due to budget cut.He had to finish the travel plan in less cost possible.His manager used these heuristics available in Google OR-tools to determine the optimal route to decrease travel cost and save money for the travel with the help of Connecticut Data.We assume the cost of travel is same as the distance covered by the Salesperson who travels at constant speed."
      ],
      "metadata": {
        "id": "zZmASPUCK0Sk"
      }
    },
    {
      "cell_type": "markdown",
      "source": [
        "A heuristic technique, or a heuristic, is any approach to problem solving or self-discovery that employs a practical method that is not guaranteed to be optimal, perfect, or rational, but is nevertheless sufficient for reaching an immediate, short-term goal or approximation. \n",
        "Source: https://en.wikipedia.org/wiki/Heuristic"
      ],
      "metadata": {
        "id": "62h-MMVuLAPa"
      }
    },
    {
      "cell_type": "markdown",
      "source": [
        "# Traveling Salesman Problem"
      ],
      "metadata": {}
    },
    {
      "cell_type": "code",
      "execution_count": null,
      "source": [
        "# In this notebook, I will want to check the amount of time spent in the execution of each cell, so I need to install an additional package\r\n",
        "!pip install ipython-autotime\r\n",
        "%load_ext autotime"
      ],
      "outputs": [
        {
          "output_type": "stream",
          "name": "stdout",
          "text": [
            "Collecting ipython-autotime\n",
            "  Downloading https://files.pythonhosted.org/packages/b4/c9/b413a24f759641bc27ef98c144b590023c8038dfb8a3f09e713e9dff12c1/ipython_autotime-0.3.1-py2.py3-none-any.whl\n",
            "Requirement already satisfied: ipython in /usr/local/lib/python3.7/dist-packages (from ipython-autotime) (5.5.0)\n",
            "Requirement already satisfied: pexpect; sys_platform != \"win32\" in /usr/local/lib/python3.7/dist-packages (from ipython->ipython-autotime) (4.8.0)\n",
            "Requirement already satisfied: decorator in /usr/local/lib/python3.7/dist-packages (from ipython->ipython-autotime) (4.4.2)\n",
            "Requirement already satisfied: prompt-toolkit<2.0.0,>=1.0.4 in /usr/local/lib/python3.7/dist-packages (from ipython->ipython-autotime) (1.0.18)\n",
            "Requirement already satisfied: traitlets>=4.2 in /usr/local/lib/python3.7/dist-packages (from ipython->ipython-autotime) (5.0.5)\n",
            "Requirement already satisfied: setuptools>=18.5 in /usr/local/lib/python3.7/dist-packages (from ipython->ipython-autotime) (54.2.0)\n",
            "Requirement already satisfied: pygments in /usr/local/lib/python3.7/dist-packages (from ipython->ipython-autotime) (2.6.1)\n",
            "Requirement already satisfied: simplegeneric>0.8 in /usr/local/lib/python3.7/dist-packages (from ipython->ipython-autotime) (0.8.1)\n",
            "Requirement already satisfied: pickleshare in /usr/local/lib/python3.7/dist-packages (from ipython->ipython-autotime) (0.7.5)\n",
            "Requirement already satisfied: ptyprocess>=0.5 in /usr/local/lib/python3.7/dist-packages (from pexpect; sys_platform != \"win32\"->ipython->ipython-autotime) (0.7.0)\n",
            "Requirement already satisfied: six>=1.9.0 in /usr/local/lib/python3.7/dist-packages (from prompt-toolkit<2.0.0,>=1.0.4->ipython->ipython-autotime) (1.15.0)\n",
            "Requirement already satisfied: wcwidth in /usr/local/lib/python3.7/dist-packages (from prompt-toolkit<2.0.0,>=1.0.4->ipython->ipython-autotime) (0.2.5)\n",
            "Requirement already satisfied: ipython-genutils in /usr/local/lib/python3.7/dist-packages (from traitlets>=4.2->ipython->ipython-autotime) (0.2.0)\n",
            "Installing collected packages: ipython-autotime\n",
            "Successfully installed ipython-autotime-0.3.1\n",
            "time: 161 µs (started: 2021-04-19 15:04:15 +00:00)\n"
          ]
        }
      ],
      "metadata": {
        "colab": {
          "base_uri": "https://localhost:8080/"
        },
        "id": "aVOm8OIqYiWZ",
        "outputId": "5236a319-bb10-45ca-c823-a61ae0103ed8"
      }
    },
    {
      "cell_type": "code",
      "execution_count": null,
      "source": [
        "import time\r\n",
        "start = time.time() #start time noted"
      ],
      "outputs": [
        {
          "output_type": "stream",
          "name": "stdout",
          "text": [
            "time: 1.73 ms (started: 2021-04-19 15:04:15 +00:00)\n"
          ]
        }
      ],
      "metadata": {
        "colab": {
          "base_uri": "https://localhost:8080/"
        },
        "id": "nZmVn-CYdcuX",
        "outputId": "9ed5798d-850f-4848-affd-bceef4bc5b86"
      }
    },
    {
      "cell_type": "markdown",
      "source": [
        "## Data Preparation "
      ],
      "metadata": {
        "id": "dFL80PrFitnJ"
      }
    },
    {
      "cell_type": "markdown",
      "source": [
        "### Mount the Google Drive"
      ],
      "metadata": {
        "id": "dgybinJhjSft"
      }
    },
    {
      "cell_type": "code",
      "execution_count": null,
      "source": [
        "# from google.colab import drive, files \r\n",
        "# drive.mount('/content/drive/', force_remount=True)  #mounting drive"
      ],
      "outputs": [
        {
          "output_type": "stream",
          "name": "stdout",
          "text": [
            "time: 1.18 ms (started: 2021-04-19 15:04:15 +00:00)\n"
          ]
        }
      ],
      "metadata": {
        "colab": {
          "base_uri": "https://localhost:8080/"
        },
        "id": "Dr6TMmMqhqkc",
        "outputId": "0f5d9ef6-52b1-4b5b-eedc-787dcf241222"
      }
    },
    {
      "cell_type": "markdown",
      "source": [
        "### Install required packages\n",
        "\n",
        "\n",
        "\n"
      ],
      "metadata": {
        "id": "nwF3Z4HWjAbl"
      }
    },
    {
      "cell_type": "code",
      "execution_count": null,
      "source": [
        "#import pandas and numpy for operations\r\n",
        "import pandas as pd  #dataframes\r\n",
        "import numpy as np #arrays "
      ],
      "outputs": [
        {
          "output_type": "stream",
          "name": "stdout",
          "text": [
            "time: 1.45 ms (started: 2021-04-19 15:04:15 +00:00)\n"
          ]
        }
      ],
      "metadata": {
        "id": "IdEV5j6Wji8b",
        "colab": {
          "base_uri": "https://localhost:8080/"
        },
        "outputId": "636f2853-796f-4aac-f3a8-c9265d2430a8"
      }
    },
    {
      "cell_type": "code",
      "execution_count": null,
      "source": [
        "#import packages to calculate location distances \r\n",
        "from sklearn.metrics.pairwise import manhattan_distances #manhattan distances\r\n",
        "from math import radians"
      ],
      "outputs": [
        {
          "output_type": "stream",
          "name": "stdout",
          "text": [
            "time: 862 ms (started: 2021-04-19 15:04:15 +00:00)\n"
          ]
        }
      ],
      "metadata": {
        "id": "xDn-iPrmk6L1",
        "colab": {
          "base_uri": "https://localhost:8080/"
        },
        "outputId": "3744d652-c770-4512-842f-63d65d14e6b5"
      }
    },
    {
      "cell_type": "code",
      "execution_count": null,
      "source": [
        "#import packages to plot maps and plots\r\n",
        "import matplotlib.pyplot as plt\r\n",
        "import seaborn as sns\r\n",
        "#plotly packages\r\n",
        "import plotly.express as px \r\n",
        "import plotly.graph_objects as go\r\n",
        "import networkx as nx \r\n",
        "from pylab import * "
      ],
      "outputs": [
        {
          "output_type": "stream",
          "name": "stdout",
          "text": [
            "time: 1.77 s (started: 2021-04-19 15:04:16 +00:00)\n"
          ]
        }
      ],
      "metadata": {
        "id": "S1jj17lLlEGl",
        "colab": {
          "base_uri": "https://localhost:8080/"
        },
        "outputId": "467ba240-ab3d-4488-9856-39cf11182374"
      }
    },
    {
      "cell_type": "markdown",
      "source": [
        "### Data wrangling"
      ],
      "metadata": {
        "id": "fI6rG6cFqQ1V"
      }
    },
    {
      "cell_type": "code",
      "execution_count": null,
      "source": [
        "#Reading data for Town Centroids\r\n",
        "# https://drive.google.com/file/d/1PCuDeuLFA__tM3jfjTZZSy4G3FKpuRc6/view?usp=sharing\r\n",
        "!gdown --id 1PCuDeuLFA__tM3jfjTZZSy4G3FKpuRc6\r\n",
        "data = pd.read_csv('townCents.csv')\r\n",
        "\r\n",
        "# X-longitude,Y-latitude \r\n",
        "geogTable = data[['X', 'Y']]\r\n",
        "\r\n",
        "#check location data\r\n",
        "data "
      ],
      "outputs": [
        {
          "output_type": "stream",
          "name": "stdout",
          "text": [
            "Downloading...\n",
            "From: https://drive.google.com/uc?id=1PCuDeuLFA__tM3jfjTZZSy4G3FKpuRc6\n",
            "To: /content/townCents.csv\n",
            "\r  0% 0.00/20.1k [00:00<?, ?B/s]\r100% 20.1k/20.1k [00:00<00:00, 7.38MB/s]\n"
          ]
        },
        {
          "output_type": "execute_result",
          "data": {
            "text/html": [
              "<div>\n",
              "<style scoped>\n",
              "    .dataframe tbody tr th:only-of-type {\n",
              "        vertical-align: middle;\n",
              "    }\n",
              "\n",
              "    .dataframe tbody tr th {\n",
              "        vertical-align: top;\n",
              "    }\n",
              "\n",
              "    .dataframe thead th {\n",
              "        text-align: right;\n",
              "    }\n",
              "</style>\n",
              "<table border=\"1\" class=\"dataframe\">\n",
              "  <thead>\n",
              "    <tr style=\"text-align: right;\">\n",
              "      <th></th>\n",
              "      <th>X</th>\n",
              "      <th>Y</th>\n",
              "      <th>TOWN_NO</th>\n",
              "      <th>TOWN</th>\n",
              "      <th>TOTAL_SQMI</th>\n",
              "      <th>LAND_SQMI</th>\n",
              "      <th>WATER_SQMI</th>\n",
              "      <th>COUNTY</th>\n",
              "      <th>PLAN_ORG</th>\n",
              "      <th>DEP_DIST</th>\n",
              "      <th>COAST_AREA</th>\n",
              "    </tr>\n",
              "  </thead>\n",
              "  <tbody>\n",
              "    <tr>\n",
              "      <th>0</th>\n",
              "      <td>-73.425651</td>\n",
              "      <td>41.986019</td>\n",
              "      <td>122</td>\n",
              "      <td>Salisbury</td>\n",
              "      <td>60.5</td>\n",
              "      <td>57.6</td>\n",
              "      <td>2.9</td>\n",
              "      <td>Litchfield</td>\n",
              "      <td>Northwestern Conn</td>\n",
              "      <td>DEP Western District</td>\n",
              "      <td>NaN</td>\n",
              "    </tr>\n",
              "    <tr>\n",
              "      <th>1</th>\n",
              "      <td>-73.293569</td>\n",
              "      <td>42.022264</td>\n",
              "      <td>100</td>\n",
              "      <td>North Canaan</td>\n",
              "      <td>19.6</td>\n",
              "      <td>19.6</td>\n",
              "      <td>0.0</td>\n",
              "      <td>Litchfield</td>\n",
              "      <td>Northwestern Conn</td>\n",
              "      <td>DEP Western District</td>\n",
              "      <td>NaN</td>\n",
              "    </tr>\n",
              "    <tr>\n",
              "      <th>2</th>\n",
              "      <td>-73.196224</td>\n",
              "      <td>41.980145</td>\n",
              "      <td>98</td>\n",
              "      <td>Norfolk</td>\n",
              "      <td>46.7</td>\n",
              "      <td>45.6</td>\n",
              "      <td>1.1</td>\n",
              "      <td>Litchfield</td>\n",
              "      <td>Litchfield Hills</td>\n",
              "      <td>DEP Western District</td>\n",
              "      <td>NaN</td>\n",
              "    </tr>\n",
              "    <tr>\n",
              "      <th>3</th>\n",
              "      <td>-73.080811</td>\n",
              "      <td>42.001546</td>\n",
              "      <td>29</td>\n",
              "      <td>Colebrook</td>\n",
              "      <td>33.0</td>\n",
              "      <td>32.8</td>\n",
              "      <td>0.2</td>\n",
              "      <td>Litchfield</td>\n",
              "      <td>Litchfield Hills</td>\n",
              "      <td>DEP Western District</td>\n",
              "      <td>NaN</td>\n",
              "    </tr>\n",
              "    <tr>\n",
              "      <th>4</th>\n",
              "      <td>-72.948897</td>\n",
              "      <td>42.004293</td>\n",
              "      <td>65</td>\n",
              "      <td>Hartland</td>\n",
              "      <td>34.5</td>\n",
              "      <td>33.0</td>\n",
              "      <td>1.5</td>\n",
              "      <td>Hartford</td>\n",
              "      <td>Litchfield Hills</td>\n",
              "      <td>DEP Western District</td>\n",
              "      <td>NaN</td>\n",
              "    </tr>\n",
              "    <tr>\n",
              "      <th>...</th>\n",
              "      <td>...</td>\n",
              "      <td>...</td>\n",
              "      <td>...</td>\n",
              "      <td>...</td>\n",
              "      <td>...</td>\n",
              "      <td>...</td>\n",
              "      <td>...</td>\n",
              "      <td>...</td>\n",
              "      <td>...</td>\n",
              "      <td>...</td>\n",
              "      <td>...</td>\n",
              "    </tr>\n",
              "    <tr>\n",
              "      <th>164</th>\n",
              "      <td>-73.346495</td>\n",
              "      <td>41.145319</td>\n",
              "      <td>158</td>\n",
              "      <td>Westport</td>\n",
              "      <td>22.4</td>\n",
              "      <td>19.9</td>\n",
              "      <td>2.5</td>\n",
              "      <td>Fairfield</td>\n",
              "      <td>Southwestern Conn</td>\n",
              "      <td>DEP Western District</td>\n",
              "      <td>OLISP Coastal Area</td>\n",
              "    </tr>\n",
              "    <tr>\n",
              "      <th>165</th>\n",
              "      <td>-73.559037</td>\n",
              "      <td>41.105028</td>\n",
              "      <td>135</td>\n",
              "      <td>Stamford</td>\n",
              "      <td>38.5</td>\n",
              "      <td>37.3</td>\n",
              "      <td>1.2</td>\n",
              "      <td>Fairfield</td>\n",
              "      <td>Southwestern Conn</td>\n",
              "      <td>DEP Western District</td>\n",
              "      <td>OLISP Coastal Area</td>\n",
              "    </tr>\n",
              "    <tr>\n",
              "      <th>166</th>\n",
              "      <td>-73.422614</td>\n",
              "      <td>41.118148</td>\n",
              "      <td>103</td>\n",
              "      <td>Norwalk</td>\n",
              "      <td>27.7</td>\n",
              "      <td>23.0</td>\n",
              "      <td>4.7</td>\n",
              "      <td>Fairfield</td>\n",
              "      <td>Southwestern Conn</td>\n",
              "      <td>DEP Western District</td>\n",
              "      <td>OLISP Coastal Area</td>\n",
              "    </tr>\n",
              "    <tr>\n",
              "      <th>167</th>\n",
              "      <td>-73.638467</td>\n",
              "      <td>41.069082</td>\n",
              "      <td>57</td>\n",
              "      <td>Greenwich</td>\n",
              "      <td>50.6</td>\n",
              "      <td>47.3</td>\n",
              "      <td>3.3</td>\n",
              "      <td>Fairfield</td>\n",
              "      <td>Southwestern Conn</td>\n",
              "      <td>DEP Western District</td>\n",
              "      <td>OLISP Coastal Area</td>\n",
              "    </tr>\n",
              "    <tr>\n",
              "      <th>168</th>\n",
              "      <td>-73.482355</td>\n",
              "      <td>41.081146</td>\n",
              "      <td>35</td>\n",
              "      <td>Darien</td>\n",
              "      <td>13.7</td>\n",
              "      <td>12.9</td>\n",
              "      <td>0.8</td>\n",
              "      <td>Fairfield</td>\n",
              "      <td>Southwestern Conn</td>\n",
              "      <td>DEP Western District</td>\n",
              "      <td>OLISP Coastal Area</td>\n",
              "    </tr>\n",
              "  </tbody>\n",
              "</table>\n",
              "<p>169 rows × 11 columns</p>\n",
              "</div>"
            ],
            "text/plain": [
              "             X          Y  ...              DEP_DIST          COAST_AREA\n",
              "0   -73.425651  41.986019  ...  DEP Western District                 NaN\n",
              "1   -73.293569  42.022264  ...  DEP Western District                 NaN\n",
              "2   -73.196224  41.980145  ...  DEP Western District                 NaN\n",
              "3   -73.080811  42.001546  ...  DEP Western District                 NaN\n",
              "4   -72.948897  42.004293  ...  DEP Western District                 NaN\n",
              "..         ...        ...  ...                   ...                 ...\n",
              "164 -73.346495  41.145319  ...  DEP Western District  OLISP Coastal Area\n",
              "165 -73.559037  41.105028  ...  DEP Western District  OLISP Coastal Area\n",
              "166 -73.422614  41.118148  ...  DEP Western District  OLISP Coastal Area\n",
              "167 -73.638467  41.069082  ...  DEP Western District  OLISP Coastal Area\n",
              "168 -73.482355  41.081146  ...  DEP Western District  OLISP Coastal Area\n",
              "\n",
              "[169 rows x 11 columns]"
            ]
          },
          "metadata": {
            "tags": []
          },
          "execution_count": 9
        },
        {
          "output_type": "stream",
          "name": "stdout",
          "text": [
            "time: 1.49 s (started: 2021-04-19 15:04:17 +00:00)\n"
          ]
        }
      ],
      "metadata": {
        "colab": {
          "base_uri": "https://localhost:8080/",
          "height": 517
        },
        "id": "vMT2Lt0dj3TQ",
        "outputId": "0baed39f-2be2-427e-9acb-c1dff86b6af2"
      }
    },
    {
      "cell_type": "code",
      "execution_count": null,
      "source": [
        "data['COUNTY'].unique() # all counties available"
      ],
      "outputs": [
        {
          "output_type": "execute_result",
          "data": {
            "text/plain": [
              "array(['Litchfield', 'Hartford', 'Tolland', 'Windham', 'New London',\n",
              "       'Fairfield', 'Middlesex', 'New Haven'], dtype=object)"
            ]
          },
          "metadata": {
            "tags": []
          },
          "execution_count": 10
        },
        {
          "output_type": "stream",
          "name": "stdout",
          "text": [
            "time: 4.72 ms (started: 2021-04-19 15:04:19 +00:00)\n"
          ]
        }
      ],
      "metadata": {
        "colab": {
          "base_uri": "https://localhost:8080/"
        },
        "id": "gU8ZmxFUnk79",
        "outputId": "91b7ba89-5947-453b-ca11-d8b4b8a9bbd3"
      }
    },
    {
      "cell_type": "code",
      "execution_count": null,
      "source": [
        "#Simplify to only 23 towns...\r\n",
        "# df=data[data['COUNTY']=='Fairfield'] # get all the 23 towns in Fairfield County \r\n",
        "df = data\r\n",
        "df.shape #check shape to verify df"
      ],
      "outputs": [
        {
          "output_type": "execute_result",
          "data": {
            "text/plain": [
              "(169, 11)"
            ]
          },
          "metadata": {
            "tags": []
          },
          "execution_count": 11
        },
        {
          "output_type": "stream",
          "name": "stdout",
          "text": [
            "time: 4.17 ms (started: 2021-04-19 15:04:19 +00:00)\n"
          ]
        }
      ],
      "metadata": {
        "colab": {
          "base_uri": "https://localhost:8080/"
        },
        "id": "tChP0QOMxQN4",
        "outputId": "3cb11dcf-465d-425b-c9e9-e2c247c1e58e"
      }
    },
    {
      "cell_type": "code",
      "execution_count": null,
      "source": [
        "df.reset_index(inplace=True) #reset index"
      ],
      "outputs": [
        {
          "output_type": "stream",
          "name": "stdout",
          "text": [
            "time: 3.03 ms (started: 2021-04-19 15:04:19 +00:00)\n"
          ]
        }
      ],
      "metadata": {
        "id": "mXPhBj4FpG8y",
        "colab": {
          "base_uri": "https://localhost:8080/"
        },
        "outputId": "b3f5d06b-433d-44f5-bf93-3a6d14c4f8c7"
      }
    },
    {
      "cell_type": "code",
      "execution_count": null,
      "source": [
        "#plotting the towns on an interactive map\r\n",
        "fig = px.scatter_mapbox(df, lat=\"Y\", lon=\"X\", color=\"TOWN\",zoom=8.25) #easy format to draw maps on plotly\r\n",
        "fig.update_layout(mapbox_style=\"carto-darkmatter\",title=\"TOWN MAP\")\r\n",
        "config = dict({'scrollZoom': False}) #stopped zoom config for standard view capture\r\n",
        "fig.show(config=config)"
      ],
      "outputs": [
        {
          "output_type": "display_data",
          "data": {
            "text/html": [
              "<html>\n",
              "<head><meta charset=\"utf-8\" /></head>\n",
              "<body>\n",
              "    <div>\n",
              "            <script src=\"https://cdnjs.cloudflare.com/ajax/libs/mathjax/2.7.5/MathJax.js?config=TeX-AMS-MML_SVG\"></script><script type=\"text/javascript\">if (window.MathJax) {MathJax.Hub.Config({SVG: {font: \"STIX-Web\"}});}</script>\n",
              "                <script type=\"text/javascript\">window.PlotlyConfig = {MathJaxConfig: 'local'};</script>\n",
              "        <script src=\"https://cdn.plot.ly/plotly-latest.min.js\"></script>    \n",
              "            <div id=\"ab992f36-c319-4d57-afeb-70cba9892cca\" class=\"plotly-graph-div\" style=\"height:525px; width:100%;\"></div>\n",
              "            <script type=\"text/javascript\">\n",
              "                \n",
              "                    window.PLOTLYENV=window.PLOTLYENV || {};\n",
              "                    \n",
              "                if (document.getElementById(\"ab992f36-c319-4d57-afeb-70cba9892cca\")) {\n",
              "                    Plotly.newPlot(\n",
              "                        'ab992f36-c319-4d57-afeb-70cba9892cca',\n",
              "                        [{\"hoverlabel\": {\"namelength\": 0}, \"hovertemplate\": \"TOWN=Salisbury<br>Y=%{lat}<br>X=%{lon}\", \"lat\": [41.9860188845167], \"legendgroup\": \"TOWN=Salisbury\", \"lon\": [-73.4256505768319], \"marker\": {\"color\": \"#636efa\"}, \"mode\": \"markers\", \"name\": \"TOWN=Salisbury\", \"showlegend\": true, \"subplot\": \"mapbox\", \"type\": \"scattermapbox\"}, {\"hoverlabel\": {\"namelength\": 0}, \"hovertemplate\": \"TOWN=North Canaan<br>Y=%{lat}<br>X=%{lon}\", \"lat\": [42.022264251516795], \"legendgroup\": \"TOWN=North Canaan\", \"lon\": [-73.2935685900945], \"marker\": {\"color\": \"#EF553B\"}, \"mode\": \"markers\", \"name\": \"TOWN=North Canaan\", \"showlegend\": true, \"subplot\": \"mapbox\", \"type\": \"scattermapbox\"}, {\"hoverlabel\": {\"namelength\": 0}, \"hovertemplate\": \"TOWN=Norfolk<br>Y=%{lat}<br>X=%{lon}\", \"lat\": [41.9801449565525], \"legendgroup\": \"TOWN=Norfolk\", \"lon\": [-73.1962241920279], \"marker\": {\"color\": \"#00cc96\"}, \"mode\": \"markers\", \"name\": \"TOWN=Norfolk\", \"showlegend\": true, \"subplot\": \"mapbox\", \"type\": \"scattermapbox\"}, {\"hoverlabel\": {\"namelength\": 0}, \"hovertemplate\": \"TOWN=Colebrook<br>Y=%{lat}<br>X=%{lon}\", \"lat\": [42.0015458695464], \"legendgroup\": \"TOWN=Colebrook\", \"lon\": [-73.0808105833225], \"marker\": {\"color\": \"#ab63fa\"}, \"mode\": \"markers\", \"name\": \"TOWN=Colebrook\", \"showlegend\": true, \"subplot\": \"mapbox\", \"type\": \"scattermapbox\"}, {\"hoverlabel\": {\"namelength\": 0}, \"hovertemplate\": \"TOWN=Hartland<br>Y=%{lat}<br>X=%{lon}\", \"lat\": [42.0042931274258], \"legendgroup\": \"TOWN=Hartland\", \"lon\": [-72.9488967294987], \"marker\": {\"color\": \"#FFA15A\"}, \"mode\": \"markers\", \"name\": \"TOWN=Hartland\", \"showlegend\": true, \"subplot\": \"mapbox\", \"type\": \"scattermapbox\"}, {\"hoverlabel\": {\"namelength\": 0}, \"hovertemplate\": \"TOWN=Granby<br>Y=%{lat}<br>X=%{lon}\", \"lat\": [41.969545409347205], \"legendgroup\": \"TOWN=Granby\", \"lon\": [-72.8348515800958], \"marker\": {\"color\": \"#19d3f3\"}, \"mode\": \"markers\", \"name\": \"TOWN=Granby\", \"showlegend\": true, \"subplot\": \"mapbox\", \"type\": \"scattermapbox\"}, {\"hoverlabel\": {\"namelength\": 0}, \"hovertemplate\": \"TOWN=Suffield<br>Y=%{lat}<br>X=%{lon}\", \"lat\": [41.9944863271393], \"legendgroup\": \"TOWN=Suffield\", \"lon\": [-72.6788512497815], \"marker\": {\"color\": \"#FF6692\"}, \"mode\": \"markers\", \"name\": \"TOWN=Suffield\", \"showlegend\": true, \"subplot\": \"mapbox\", \"type\": \"scattermapbox\"}, {\"hoverlabel\": {\"namelength\": 0}, \"hovertemplate\": \"TOWN=Enfield<br>Y=%{lat}<br>X=%{lon}\", \"lat\": [41.9839789750923], \"legendgroup\": \"TOWN=Enfield\", \"lon\": [-72.55471870029], \"marker\": {\"color\": \"#B6E880\"}, \"mode\": \"markers\", \"name\": \"TOWN=Enfield\", \"showlegend\": true, \"subplot\": \"mapbox\", \"type\": \"scattermapbox\"}, {\"hoverlabel\": {\"namelength\": 0}, \"hovertemplate\": \"TOWN=Somers<br>Y=%{lat}<br>X=%{lon}\", \"lat\": [41.994879419309996], \"legendgroup\": \"TOWN=Somers\", \"lon\": [-72.4530514231731], \"marker\": {\"color\": \"#FF97FF\"}, \"mode\": \"markers\", \"name\": \"TOWN=Somers\", \"showlegend\": true, \"subplot\": \"mapbox\", \"type\": \"scattermapbox\"}, {\"hoverlabel\": {\"namelength\": 0}, \"hovertemplate\": \"TOWN=Stafford<br>Y=%{lat}<br>X=%{lon}\", \"lat\": [41.9875205371605], \"legendgroup\": \"TOWN=Stafford\", \"lon\": [-72.3123280592977], \"marker\": {\"color\": \"#FECB52\"}, \"mode\": \"markers\", \"name\": \"TOWN=Stafford\", \"showlegend\": true, \"subplot\": \"mapbox\", \"type\": \"scattermapbox\"}, {\"hoverlabel\": {\"namelength\": 0}, \"hovertemplate\": \"TOWN=Union<br>Y=%{lat}<br>X=%{lon}\", \"lat\": [41.9930248216721], \"legendgroup\": \"TOWN=Union\", \"lon\": [-72.16026431037359], \"marker\": {\"color\": \"#636efa\"}, \"mode\": \"markers\", \"name\": \"TOWN=Union\", \"showlegend\": true, \"subplot\": \"mapbox\", \"type\": \"scattermapbox\"}, {\"hoverlabel\": {\"namelength\": 0}, \"hovertemplate\": \"TOWN=Woodstock<br>Y=%{lat}<br>X=%{lon}\", \"lat\": [41.9694334934481], \"legendgroup\": \"TOWN=Woodstock\", \"lon\": [-72.0221320760756], \"marker\": {\"color\": \"#EF553B\"}, \"mode\": \"markers\", \"name\": \"TOWN=Woodstock\", \"showlegend\": true, \"subplot\": \"mapbox\", \"type\": \"scattermapbox\"}, {\"hoverlabel\": {\"namelength\": 0}, \"hovertemplate\": \"TOWN=Thompson<br>Y=%{lat}<br>X=%{lon}\", \"lat\": [41.9797342500963], \"legendgroup\": \"TOWN=Thompson\", \"lon\": [-71.8735879746113], \"marker\": {\"color\": \"#00cc96\"}, \"mode\": \"markers\", \"name\": \"TOWN=Thompson\", \"showlegend\": true, \"subplot\": \"mapbox\", \"type\": \"scattermapbox\"}, {\"hoverlabel\": {\"namelength\": 0}, \"hovertemplate\": \"TOWN=Canaan<br>Y=%{lat}<br>X=%{lon}\", \"lat\": [41.9598824529327], \"legendgroup\": \"TOWN=Canaan\", \"lon\": [-73.31004419446779], \"marker\": {\"color\": \"#ab63fa\"}, \"mode\": \"markers\", \"name\": \"TOWN=Canaan\", \"showlegend\": true, \"subplot\": \"mapbox\", \"type\": \"scattermapbox\"}, {\"hoverlabel\": {\"namelength\": 0}, \"hovertemplate\": \"TOWN=East Granby<br>Y=%{lat}<br>X=%{lon}\", \"lat\": [41.942477007580706], \"legendgroup\": \"TOWN=East Granby\", \"lon\": [-72.74113864747609], \"marker\": {\"color\": \"#FFA15A\"}, \"mode\": \"markers\", \"name\": \"TOWN=East Granby\", \"showlegend\": true, \"subplot\": \"mapbox\", \"type\": \"scattermapbox\"}, {\"hoverlabel\": {\"namelength\": 0}, \"hovertemplate\": \"TOWN=Barkhamsted<br>Y=%{lat}<br>X=%{lon}\", \"lat\": [41.9315839801224], \"legendgroup\": \"TOWN=Barkhamsted\", \"lon\": [-72.97295525251491], \"marker\": {\"color\": \"#19d3f3\"}, \"mode\": \"markers\", \"name\": \"TOWN=Barkhamsted\", \"showlegend\": true, \"subplot\": \"mapbox\", \"type\": \"scattermapbox\"}, {\"hoverlabel\": {\"namelength\": 0}, \"hovertemplate\": \"TOWN=Winchester<br>Y=%{lat}<br>X=%{lon}\", \"lat\": [41.92188246061121], \"legendgroup\": \"TOWN=Winchester\", \"lon\": [-73.10281770555859], \"marker\": {\"color\": \"#FF6692\"}, \"mode\": \"markers\", \"name\": \"TOWN=Winchester\", \"showlegend\": true, \"subplot\": \"mapbox\", \"type\": \"scattermapbox\"}, {\"hoverlabel\": {\"namelength\": 0}, \"hovertemplate\": \"TOWN=Eastford<br>Y=%{lat}<br>X=%{lon}\", \"lat\": [41.8915873961555], \"legendgroup\": \"TOWN=Eastford\", \"lon\": [-72.0919766524868], \"marker\": {\"color\": \"#B6E880\"}, \"mode\": \"markers\", \"name\": \"TOWN=Eastford\", \"showlegend\": true, \"subplot\": \"mapbox\", \"type\": \"scattermapbox\"}, {\"hoverlabel\": {\"namelength\": 0}, \"hovertemplate\": \"TOWN=Ashford<br>Y=%{lat}<br>X=%{lon}\", \"lat\": [41.8911163608229], \"legendgroup\": \"TOWN=Ashford\", \"lon\": [-72.17098562559829], \"marker\": {\"color\": \"#FF97FF\"}, \"mode\": \"markers\", \"name\": \"TOWN=Ashford\", \"showlegend\": true, \"subplot\": \"mapbox\", \"type\": \"scattermapbox\"}, {\"hoverlabel\": {\"namelength\": 0}, \"hovertemplate\": \"TOWN=Willington<br>Y=%{lat}<br>X=%{lon}\", \"lat\": [41.8895360910517], \"legendgroup\": \"TOWN=Willington\", \"lon\": [-72.2593699540284], \"marker\": {\"color\": \"#FECB52\"}, \"mode\": \"markers\", \"name\": \"TOWN=Willington\", \"showlegend\": true, \"subplot\": \"mapbox\", \"type\": \"scattermapbox\"}, {\"hoverlabel\": {\"namelength\": 0}, \"hovertemplate\": \"TOWN=Ellington<br>Y=%{lat}<br>X=%{lon}\", \"lat\": [41.9151388393704], \"legendgroup\": \"TOWN=Ellington\", \"lon\": [-72.448494217229], \"marker\": {\"color\": \"#636efa\"}, \"mode\": \"markers\", \"name\": \"TOWN=Ellington\", \"showlegend\": true, \"subplot\": \"mapbox\", \"type\": \"scattermapbox\"}, {\"hoverlabel\": {\"namelength\": 0}, \"hovertemplate\": \"TOWN=Windsor Locks<br>Y=%{lat}<br>X=%{lon}\", \"lat\": [41.9267906193425], \"legendgroup\": \"TOWN=Windsor Locks\", \"lon\": [-72.65484126141241], \"marker\": {\"color\": \"#EF553B\"}, \"mode\": \"markers\", \"name\": \"TOWN=Windsor Locks\", \"showlegend\": true, \"subplot\": \"mapbox\", \"type\": \"scattermapbox\"}, {\"hoverlabel\": {\"namelength\": 0}, \"hovertemplate\": \"TOWN=East Windsor<br>Y=%{lat}<br>X=%{lon}\", \"lat\": [41.904929960402], \"legendgroup\": \"TOWN=East Windsor\", \"lon\": [-72.56730081590659], \"marker\": {\"color\": \"#00cc96\"}, \"mode\": \"markers\", \"name\": \"TOWN=East Windsor\", \"showlegend\": true, \"subplot\": \"mapbox\", \"type\": \"scattermapbox\"}, {\"hoverlabel\": {\"namelength\": 0}, \"hovertemplate\": \"TOWN=Putnam<br>Y=%{lat}<br>X=%{lon}\", \"lat\": [41.9093194577146], \"legendgroup\": \"TOWN=Putnam\", \"lon\": [-71.8711989534025], \"marker\": {\"color\": \"#ab63fa\"}, \"mode\": \"markers\", \"name\": \"TOWN=Putnam\", \"showlegend\": true, \"subplot\": \"mapbox\", \"type\": \"scattermapbox\"}, {\"hoverlabel\": {\"namelength\": 0}, \"hovertemplate\": \"TOWN=Tolland<br>Y=%{lat}<br>X=%{lon}\", \"lat\": [41.8785788524061], \"legendgroup\": \"TOWN=Tolland\", \"lon\": [-72.3649354623998], \"marker\": {\"color\": \"#FFA15A\"}, \"mode\": \"markers\", \"name\": \"TOWN=Tolland\", \"showlegend\": true, \"subplot\": \"mapbox\", \"type\": \"scattermapbox\"}, {\"hoverlabel\": {\"namelength\": 0}, \"hovertemplate\": \"TOWN=Windsor<br>Y=%{lat}<br>X=%{lon}\", \"lat\": [41.871287740846896], \"legendgroup\": \"TOWN=Windsor\", \"lon\": [-72.6736582647048], \"marker\": {\"color\": \"#19d3f3\"}, \"mode\": \"markers\", \"name\": \"TOWN=Windsor\", \"showlegend\": true, \"subplot\": \"mapbox\", \"type\": \"scattermapbox\"}, {\"hoverlabel\": {\"namelength\": 0}, \"hovertemplate\": \"TOWN=Sharon<br>Y=%{lat}<br>X=%{lon}\", \"lat\": [41.8575043637978], \"legendgroup\": \"TOWN=Sharon\", \"lon\": [-73.4376171756981], \"marker\": {\"color\": \"#FF6692\"}, \"mode\": \"markers\", \"name\": \"TOWN=Sharon\", \"showlegend\": true, \"subplot\": \"mapbox\", \"type\": \"scattermapbox\"}, {\"hoverlabel\": {\"namelength\": 0}, \"hovertemplate\": \"TOWN=Canton<br>Y=%{lat}<br>X=%{lon}\", \"lat\": [41.8599346850351], \"legendgroup\": \"TOWN=Canton\", \"lon\": [-72.9085434023694], \"marker\": {\"color\": \"#B6E880\"}, \"mode\": \"markers\", \"name\": \"TOWN=Canton\", \"showlegend\": true, \"subplot\": \"mapbox\", \"type\": \"scattermapbox\"}, {\"hoverlabel\": {\"namelength\": 0}, \"hovertemplate\": \"TOWN=Simsbury<br>Y=%{lat}<br>X=%{lon}\", \"lat\": [41.873002196110704], \"legendgroup\": \"TOWN=Simsbury\", \"lon\": [-72.82580761596621], \"marker\": {\"color\": \"#FF97FF\"}, \"mode\": \"markers\", \"name\": \"TOWN=Simsbury\", \"showlegend\": true, \"subplot\": \"mapbox\", \"type\": \"scattermapbox\"}, {\"hoverlabel\": {\"namelength\": 0}, \"hovertemplate\": \"TOWN=Cornwall<br>Y=%{lat}<br>X=%{lon}\", \"lat\": [41.8474896133564], \"legendgroup\": \"TOWN=Cornwall\", \"lon\": [-73.3298339680571], \"marker\": {\"color\": \"#FECB52\"}, \"mode\": \"markers\", \"name\": \"TOWN=Cornwall\", \"showlegend\": true, \"subplot\": \"mapbox\", \"type\": \"scattermapbox\"}, {\"hoverlabel\": {\"namelength\": 0}, \"hovertemplate\": \"TOWN=Pomfret<br>Y=%{lat}<br>X=%{lon}\", \"lat\": [41.867044101718506], \"legendgroup\": \"TOWN=Pomfret\", \"lon\": [-71.983430263771], \"marker\": {\"color\": \"#636efa\"}, \"mode\": \"markers\", \"name\": \"TOWN=Pomfret\", \"showlegend\": true, \"subplot\": \"mapbox\", \"type\": \"scattermapbox\"}, {\"hoverlabel\": {\"namelength\": 0}, \"hovertemplate\": \"TOWN=Goshen<br>Y=%{lat}<br>X=%{lon}\", \"lat\": [41.8500986021862], \"legendgroup\": \"TOWN=Goshen\", \"lon\": [-73.2335576516127], \"marker\": {\"color\": \"#EF553B\"}, \"mode\": \"markers\", \"name\": \"TOWN=Goshen\", \"showlegend\": true, \"subplot\": \"mapbox\", \"type\": \"scattermapbox\"}, {\"hoverlabel\": {\"namelength\": 0}, \"hovertemplate\": \"TOWN=Killingly<br>Y=%{lat}<br>X=%{lon}\", \"lat\": [41.831025769004796], \"legendgroup\": \"TOWN=Killingly\", \"lon\": [-71.84996561528341], \"marker\": {\"color\": \"#00cc96\"}, \"mode\": \"markers\", \"name\": \"TOWN=Killingly\", \"showlegend\": true, \"subplot\": \"mapbox\", \"type\": \"scattermapbox\"}, {\"hoverlabel\": {\"namelength\": 0}, \"hovertemplate\": \"TOWN=Bloomfield<br>Y=%{lat}<br>X=%{lon}\", \"lat\": [41.8426291646744], \"legendgroup\": \"TOWN=Bloomfield\", \"lon\": [-72.74073779390041], \"marker\": {\"color\": \"#ab63fa\"}, \"mode\": \"markers\", \"name\": \"TOWN=Bloomfield\", \"showlegend\": true, \"subplot\": \"mapbox\", \"type\": \"scattermapbox\"}, {\"hoverlabel\": {\"namelength\": 0}, \"hovertemplate\": \"TOWN=New Hartford<br>Y=%{lat}<br>X=%{lon}\", \"lat\": [41.844227114742296], \"legendgroup\": \"TOWN=New Hartford\", \"lon\": [-73.0055296300638], \"marker\": {\"color\": \"#FFA15A\"}, \"mode\": \"markers\", \"name\": \"TOWN=New Hartford\", \"showlegend\": true, \"subplot\": \"mapbox\", \"type\": \"scattermapbox\"}, {\"hoverlabel\": {\"namelength\": 0}, \"hovertemplate\": \"TOWN=Torrington<br>Y=%{lat}<br>X=%{lon}\", \"lat\": [41.8349402852756], \"legendgroup\": \"TOWN=Torrington\", \"lon\": [-73.128075803883], \"marker\": {\"color\": \"#19d3f3\"}, \"mode\": \"markers\", \"name\": \"TOWN=Torrington\", \"showlegend\": true, \"subplot\": \"mapbox\", \"type\": \"scattermapbox\"}, {\"hoverlabel\": {\"namelength\": 0}, \"hovertemplate\": \"TOWN=Vernon<br>Y=%{lat}<br>X=%{lon}\", \"lat\": [41.836415024626604], \"legendgroup\": \"TOWN=Vernon\", \"lon\": [-72.4607471462613], \"marker\": {\"color\": \"#FF6692\"}, \"mode\": \"markers\", \"name\": \"TOWN=Vernon\", \"showlegend\": true, \"subplot\": \"mapbox\", \"type\": \"scattermapbox\"}, {\"hoverlabel\": {\"namelength\": 0}, \"hovertemplate\": \"TOWN=South Windsor<br>Y=%{lat}<br>X=%{lon}\", \"lat\": [41.8352178682275], \"legendgroup\": \"TOWN=South Windsor\", \"lon\": [-72.5734404755258], \"marker\": {\"color\": \"#B6E880\"}, \"mode\": \"markers\", \"name\": \"TOWN=South Windsor\", \"showlegend\": true, \"subplot\": \"mapbox\", \"type\": \"scattermapbox\"}, {\"hoverlabel\": {\"namelength\": 0}, \"hovertemplate\": \"TOWN=Coventry<br>Y=%{lat}<br>X=%{lon}\", \"lat\": [41.782915481050104], \"legendgroup\": \"TOWN=Coventry\", \"lon\": [-72.33940560807771], \"marker\": {\"color\": \"#FF97FF\"}, \"mode\": \"markers\", \"name\": \"TOWN=Coventry\", \"showlegend\": true, \"subplot\": \"mapbox\", \"type\": \"scattermapbox\"}, {\"hoverlabel\": {\"namelength\": 0}, \"hovertemplate\": \"TOWN=Mansfield<br>Y=%{lat}<br>X=%{lon}\", \"lat\": [41.789205393686295], \"legendgroup\": \"TOWN=Mansfield\", \"lon\": [-72.2287318574139], \"marker\": {\"color\": \"#FECB52\"}, \"mode\": \"markers\", \"name\": \"TOWN=Mansfield\", \"showlegend\": true, \"subplot\": \"mapbox\", \"type\": \"scattermapbox\"}, {\"hoverlabel\": {\"namelength\": 0}, \"hovertemplate\": \"TOWN=Chaplin<br>Y=%{lat}<br>X=%{lon}\", \"lat\": [41.7930498572278], \"legendgroup\": \"TOWN=Chaplin\", \"lon\": [-72.1277306749492], \"marker\": {\"color\": \"#636efa\"}, \"mode\": \"markers\", \"name\": \"TOWN=Chaplin\", \"showlegend\": true, \"subplot\": \"mapbox\", \"type\": \"scattermapbox\"}, {\"hoverlabel\": {\"namelength\": 0}, \"hovertemplate\": \"TOWN=Hampton<br>Y=%{lat}<br>X=%{lon}\", \"lat\": [41.7841829089636], \"legendgroup\": \"TOWN=Hampton\", \"lon\": [-72.058305704605], \"marker\": {\"color\": \"#EF553B\"}, \"mode\": \"markers\", \"name\": \"TOWN=Hampton\", \"showlegend\": true, \"subplot\": \"mapbox\", \"type\": \"scattermapbox\"}, {\"hoverlabel\": {\"namelength\": 0}, \"hovertemplate\": \"TOWN=Brooklyn<br>Y=%{lat}<br>X=%{lon}\", \"lat\": [41.786982449712205], \"legendgroup\": \"TOWN=Brooklyn\", \"lon\": [-71.9545082407126], \"marker\": {\"color\": \"#00cc96\"}, \"mode\": \"markers\", \"name\": \"TOWN=Brooklyn\", \"showlegend\": true, \"subplot\": \"mapbox\", \"type\": \"scattermapbox\"}, {\"hoverlabel\": {\"namelength\": 0}, \"hovertemplate\": \"TOWN=Avon<br>Y=%{lat}<br>X=%{lon}\", \"lat\": [41.790697032807], \"legendgroup\": \"TOWN=Avon\", \"lon\": [-72.8540158383504], \"marker\": {\"color\": \"#ab63fa\"}, \"mode\": \"markers\", \"name\": \"TOWN=Avon\", \"showlegend\": true, \"subplot\": \"mapbox\", \"type\": \"scattermapbox\"}, {\"hoverlabel\": {\"namelength\": 0}, \"hovertemplate\": \"TOWN=Manchester<br>Y=%{lat}<br>X=%{lon}\", \"lat\": [41.7752467245319], \"legendgroup\": \"TOWN=Manchester\", \"lon\": [-72.5242263078394], \"marker\": {\"color\": \"#FFA15A\"}, \"mode\": \"markers\", \"name\": \"TOWN=Manchester\", \"showlegend\": true, \"subplot\": \"mapbox\", \"type\": \"scattermapbox\"}, {\"hoverlabel\": {\"namelength\": 0}, \"hovertemplate\": \"TOWN=Burlington<br>Y=%{lat}<br>X=%{lon}\", \"lat\": [41.75987067192471], \"legendgroup\": \"TOWN=Burlington\", \"lon\": [-72.9590844223388], \"marker\": {\"color\": \"#19d3f3\"}, \"mode\": \"markers\", \"name\": \"TOWN=Burlington\", \"showlegend\": true, \"subplot\": \"mapbox\", \"type\": \"scattermapbox\"}, {\"hoverlabel\": {\"namelength\": 0}, \"hovertemplate\": \"TOWN=Hartford<br>Y=%{lat}<br>X=%{lon}\", \"lat\": [41.7660045597751], \"legendgroup\": \"TOWN=Hartford\", \"lon\": [-72.6834270445884], \"marker\": {\"color\": \"#FF6692\"}, \"mode\": \"markers\", \"name\": \"TOWN=Hartford\", \"showlegend\": true, \"subplot\": \"mapbox\", \"type\": \"scattermapbox\"}, {\"hoverlabel\": {\"namelength\": 0}, \"hovertemplate\": \"TOWN=Bolton<br>Y=%{lat}<br>X=%{lon}\", \"lat\": [41.766401884112895], \"legendgroup\": \"TOWN=Bolton\", \"lon\": [-72.439087792347], \"marker\": {\"color\": \"#B6E880\"}, \"mode\": \"markers\", \"name\": \"TOWN=Bolton\", \"showlegend\": true, \"subplot\": \"mapbox\", \"type\": \"scattermapbox\"}, {\"hoverlabel\": {\"namelength\": 0}, \"hovertemplate\": \"TOWN=West Hartford<br>Y=%{lat}<br>X=%{lon}\", \"lat\": [41.7669492878176], \"legendgroup\": \"TOWN=West Hartford\", \"lon\": [-72.7538722699359], \"marker\": {\"color\": \"#FF97FF\"}, \"mode\": \"markers\", \"name\": \"TOWN=West Hartford\", \"showlegend\": true, \"subplot\": \"mapbox\", \"type\": \"scattermapbox\"}, {\"hoverlabel\": {\"namelength\": 0}, \"hovertemplate\": \"TOWN=East Hartford<br>Y=%{lat}<br>X=%{lon}\", \"lat\": [41.763461161618096], \"legendgroup\": \"TOWN=East Hartford\", \"lon\": [-72.6152853024233], \"marker\": {\"color\": \"#FECB52\"}, \"mode\": \"markers\", \"name\": \"TOWN=East Hartford\", \"showlegend\": true, \"subplot\": \"mapbox\", \"type\": \"scattermapbox\"}, {\"hoverlabel\": {\"namelength\": 0}, \"hovertemplate\": \"TOWN=Harwinton<br>Y=%{lat}<br>X=%{lon}\", \"lat\": [41.7550048175454], \"legendgroup\": \"TOWN=Harwinton\", \"lon\": [-73.0582653297907], \"marker\": {\"color\": \"#636efa\"}, \"mode\": \"markers\", \"name\": \"TOWN=Harwinton\", \"showlegend\": true, \"subplot\": \"mapbox\", \"type\": \"scattermapbox\"}, {\"hoverlabel\": {\"namelength\": 0}, \"hovertemplate\": \"TOWN=Litchfield<br>Y=%{lat}<br>X=%{lon}\", \"lat\": [41.7413071978242], \"legendgroup\": \"TOWN=Litchfield\", \"lon\": [-73.1931458075758], \"marker\": {\"color\": \"#EF553B\"}, \"mode\": \"markers\", \"name\": \"TOWN=Litchfield\", \"showlegend\": true, \"subplot\": \"mapbox\", \"type\": \"scattermapbox\"}, {\"hoverlabel\": {\"namelength\": 0}, \"hovertemplate\": \"TOWN=Kent<br>Y=%{lat}<br>X=%{lon}\", \"lat\": [41.7299002649182], \"legendgroup\": \"TOWN=Kent\", \"lon\": [-73.4539777298338], \"marker\": {\"color\": \"#00cc96\"}, \"mode\": \"markers\", \"name\": \"TOWN=Kent\", \"showlegend\": true, \"subplot\": \"mapbox\", \"type\": \"scattermapbox\"}, {\"hoverlabel\": {\"namelength\": 0}, \"hovertemplate\": \"TOWN=Warren<br>Y=%{lat}<br>X=%{lon}\", \"lat\": [41.740546828057106], \"legendgroup\": \"TOWN=Warren\", \"lon\": [-73.34487849818741], \"marker\": {\"color\": \"#ab63fa\"}, \"mode\": \"markers\", \"name\": \"TOWN=Warren\", \"showlegend\": true, \"subplot\": \"mapbox\", \"type\": \"scattermapbox\"}, {\"hoverlabel\": {\"namelength\": 0}, \"hovertemplate\": \"TOWN=Sterling<br>Y=%{lat}<br>X=%{lon}\", \"lat\": [41.702422485965705], \"legendgroup\": \"TOWN=Sterling\", \"lon\": [-71.8184870093514], \"marker\": {\"color\": \"#FFA15A\"}, \"mode\": \"markers\", \"name\": \"TOWN=Sterling\", \"showlegend\": true, \"subplot\": \"mapbox\", \"type\": \"scattermapbox\"}, {\"hoverlabel\": {\"namelength\": 0}, \"hovertemplate\": \"TOWN=Farmington<br>Y=%{lat}<br>X=%{lon}\", \"lat\": [41.7288400459629], \"legendgroup\": \"TOWN=Farmington\", \"lon\": [-72.84094406240949], \"marker\": {\"color\": \"#19d3f3\"}, \"mode\": \"markers\", \"name\": \"TOWN=Farmington\", \"showlegend\": true, \"subplot\": \"mapbox\", \"type\": \"scattermapbox\"}, {\"hoverlabel\": {\"namelength\": 0}, \"hovertemplate\": \"TOWN=Plainfield<br>Y=%{lat}<br>X=%{lon}\", \"lat\": [41.6991630320256], \"legendgroup\": \"TOWN=Plainfield\", \"lon\": [-71.89871628600659], \"marker\": {\"color\": \"#FF6692\"}, \"mode\": \"markers\", \"name\": \"TOWN=Plainfield\", \"showlegend\": true, \"subplot\": \"mapbox\", \"type\": \"scattermapbox\"}, {\"hoverlabel\": {\"namelength\": 0}, \"hovertemplate\": \"TOWN=Andover<br>Y=%{lat}<br>X=%{lon}\", \"lat\": [41.7331340876676], \"legendgroup\": \"TOWN=Andover\", \"lon\": [-72.3761079827343], \"marker\": {\"color\": \"#B6E880\"}, \"mode\": \"markers\", \"name\": \"TOWN=Andover\", \"showlegend\": true, \"subplot\": \"mapbox\", \"type\": \"scattermapbox\"}, {\"hoverlabel\": {\"namelength\": 0}, \"hovertemplate\": \"TOWN=Canterbury<br>Y=%{lat}<br>X=%{lon}\", \"lat\": [41.697913437685706], \"legendgroup\": \"TOWN=Canterbury\", \"lon\": [-71.9997518338538], \"marker\": {\"color\": \"#FF97FF\"}, \"mode\": \"markers\", \"name\": \"TOWN=Canterbury\", \"showlegend\": true, \"subplot\": \"mapbox\", \"type\": \"scattermapbox\"}, {\"hoverlabel\": {\"namelength\": 0}, \"hovertemplate\": \"TOWN=Windham<br>Y=%{lat}<br>X=%{lon}\", \"lat\": [41.7098093290534], \"legendgroup\": \"TOWN=Windham\", \"lon\": [-72.1668123714238], \"marker\": {\"color\": \"#FECB52\"}, \"mode\": \"markers\", \"name\": \"TOWN=Windham\", \"showlegend\": true, \"subplot\": \"mapbox\", \"type\": \"scattermapbox\"}, {\"hoverlabel\": {\"namelength\": 0}, \"hovertemplate\": \"TOWN=Scotland<br>Y=%{lat}<br>X=%{lon}\", \"lat\": [41.6979385189305], \"legendgroup\": \"TOWN=Scotland\", \"lon\": [-72.0880322531898], \"marker\": {\"color\": \"#636efa\"}, \"mode\": \"markers\", \"name\": \"TOWN=Scotland\", \"showlegend\": true, \"subplot\": \"mapbox\", \"type\": \"scattermapbox\"}, {\"hoverlabel\": {\"namelength\": 0}, \"hovertemplate\": \"TOWN=Glastonbury<br>Y=%{lat}<br>X=%{lon}\", \"lat\": [41.6920472679109], \"legendgroup\": \"TOWN=Glastonbury\", \"lon\": [-72.5471809420126], \"marker\": {\"color\": \"#EF553B\"}, \"mode\": \"markers\", \"name\": \"TOWN=Glastonbury\", \"showlegend\": true, \"subplot\": \"mapbox\", \"type\": \"scattermapbox\"}, {\"hoverlabel\": {\"namelength\": 0}, \"hovertemplate\": \"TOWN=Columbia<br>Y=%{lat}<br>X=%{lon}\", \"lat\": [41.6939232200983], \"legendgroup\": \"TOWN=Columbia\", \"lon\": [-72.3069772480909], \"marker\": {\"color\": \"#00cc96\"}, \"mode\": \"markers\", \"name\": \"TOWN=Columbia\", \"showlegend\": true, \"subplot\": \"mapbox\", \"type\": \"scattermapbox\"}, {\"hoverlabel\": {\"namelength\": 0}, \"hovertemplate\": \"TOWN=Hebron<br>Y=%{lat}<br>X=%{lon}\", \"lat\": [41.6593678680616], \"legendgroup\": \"TOWN=Hebron\", \"lon\": [-72.3903209065753], \"marker\": {\"color\": \"#ab63fa\"}, \"mode\": \"markers\", \"name\": \"TOWN=Hebron\", \"showlegend\": true, \"subplot\": \"mapbox\", \"type\": \"scattermapbox\"}, {\"hoverlabel\": {\"namelength\": 0}, \"hovertemplate\": \"TOWN=Wethersfield<br>Y=%{lat}<br>X=%{lon}\", \"lat\": [41.7011868652194], \"legendgroup\": \"TOWN=Wethersfield\", \"lon\": [-72.6703646023617], \"marker\": {\"color\": \"#FFA15A\"}, \"mode\": \"markers\", \"name\": \"TOWN=Wethersfield\", \"showlegend\": true, \"subplot\": \"mapbox\", \"type\": \"scattermapbox\"}, {\"hoverlabel\": {\"namelength\": 0}, \"hovertemplate\": \"TOWN=Newington<br>Y=%{lat}<br>X=%{lon}\", \"lat\": [41.686986134308796], \"legendgroup\": \"TOWN=Newington\", \"lon\": [-72.7309184896193], \"marker\": {\"color\": \"#19d3f3\"}, \"mode\": \"markers\", \"name\": \"TOWN=Newington\", \"showlegend\": true, \"subplot\": \"mapbox\", \"type\": \"scattermapbox\"}, {\"hoverlabel\": {\"namelength\": 0}, \"hovertemplate\": \"TOWN=Bristol<br>Y=%{lat}<br>X=%{lon}\", \"lat\": [41.6810808569771], \"legendgroup\": \"TOWN=Bristol\", \"lon\": [-72.9406338211413], \"marker\": {\"color\": \"#FF6692\"}, \"mode\": \"markers\", \"name\": \"TOWN=Bristol\", \"showlegend\": true, \"subplot\": \"mapbox\", \"type\": \"scattermapbox\"}, {\"hoverlabel\": {\"namelength\": 0}, \"hovertemplate\": \"TOWN=Morris<br>Y=%{lat}<br>X=%{lon}\", \"lat\": [41.6897975797642], \"legendgroup\": \"TOWN=Morris\", \"lon\": [-73.2079925872203], \"marker\": {\"color\": \"#B6E880\"}, \"mode\": \"markers\", \"name\": \"TOWN=Morris\", \"showlegend\": true, \"subplot\": \"mapbox\", \"type\": \"scattermapbox\"}, {\"hoverlabel\": {\"namelength\": 0}, \"hovertemplate\": \"TOWN=New Britain<br>Y=%{lat}<br>X=%{lon}\", \"lat\": [41.6760020842678], \"legendgroup\": \"TOWN=New Britain\", \"lon\": [-72.7859315625518], \"marker\": {\"color\": \"#FF97FF\"}, \"mode\": \"markers\", \"name\": \"TOWN=New Britain\", \"showlegend\": true, \"subplot\": \"mapbox\", \"type\": \"scattermapbox\"}, {\"hoverlabel\": {\"namelength\": 0}, \"hovertemplate\": \"TOWN=Lebanon<br>Y=%{lat}<br>X=%{lon}\", \"lat\": [41.6313840169409], \"legendgroup\": \"TOWN=Lebanon\", \"lon\": [-72.2401323290683], \"marker\": {\"color\": \"#FECB52\"}, \"mode\": \"markers\", \"name\": \"TOWN=Lebanon\", \"showlegend\": true, \"subplot\": \"mapbox\", \"type\": \"scattermapbox\"}, {\"hoverlabel\": {\"namelength\": 0}, \"hovertemplate\": \"TOWN=Plymouth<br>Y=%{lat}<br>X=%{lon}\", \"lat\": [41.6641584144003], \"legendgroup\": \"TOWN=Plymouth\", \"lon\": [-73.0262780011343], \"marker\": {\"color\": \"#636efa\"}, \"mode\": \"markers\", \"name\": \"TOWN=Plymouth\", \"showlegend\": true, \"subplot\": \"mapbox\", \"type\": \"scattermapbox\"}, {\"hoverlabel\": {\"namelength\": 0}, \"hovertemplate\": \"TOWN=Washington<br>Y=%{lat}<br>X=%{lon}\", \"lat\": [41.6522912170332], \"legendgroup\": \"TOWN=Washington\", \"lon\": [-73.31454070999929], \"marker\": {\"color\": \"#EF553B\"}, \"mode\": \"markers\", \"name\": \"TOWN=Washington\", \"showlegend\": true, \"subplot\": \"mapbox\", \"type\": \"scattermapbox\"}, {\"hoverlabel\": {\"namelength\": 0}, \"hovertemplate\": \"TOWN=Thomaston<br>Y=%{lat}<br>X=%{lon}\", \"lat\": [41.6697057889872], \"legendgroup\": \"TOWN=Thomaston\", \"lon\": [-73.0858876745003], \"marker\": {\"color\": \"#00cc96\"}, \"mode\": \"markers\", \"name\": \"TOWN=Thomaston\", \"showlegend\": true, \"subplot\": \"mapbox\", \"type\": \"scattermapbox\"}, {\"hoverlabel\": {\"namelength\": 0}, \"hovertemplate\": \"TOWN=Plainville<br>Y=%{lat}<br>X=%{lon}\", \"lat\": [41.674147416588504], \"legendgroup\": \"TOWN=Plainville\", \"lon\": [-72.8571304957605], \"marker\": {\"color\": \"#ab63fa\"}, \"mode\": \"markers\", \"name\": \"TOWN=Plainville\", \"showlegend\": true, \"subplot\": \"mapbox\", \"type\": \"scattermapbox\"}, {\"hoverlabel\": {\"namelength\": 0}, \"hovertemplate\": \"TOWN=Marlborough<br>Y=%{lat}<br>X=%{lon}\", \"lat\": [41.6326835770749], \"legendgroup\": \"TOWN=Marlborough\", \"lon\": [-72.4544996759191], \"marker\": {\"color\": \"#FFA15A\"}, \"mode\": \"markers\", \"name\": \"TOWN=Marlborough\", \"showlegend\": true, \"subplot\": \"mapbox\", \"type\": \"scattermapbox\"}, {\"hoverlabel\": {\"namelength\": 0}, \"hovertemplate\": \"TOWN=Rocky Hill<br>Y=%{lat}<br>X=%{lon}\", \"lat\": [41.6571099624868], \"legendgroup\": \"TOWN=Rocky Hill\", \"lon\": [-72.6632873641259], \"marker\": {\"color\": \"#19d3f3\"}, \"mode\": \"markers\", \"name\": \"TOWN=Rocky Hill\", \"showlegend\": true, \"subplot\": \"mapbox\", \"type\": \"scattermapbox\"}, {\"hoverlabel\": {\"namelength\": 0}, \"hovertemplate\": \"TOWN=New Milford<br>Y=%{lat}<br>X=%{lon}\", \"lat\": [41.6040901099685], \"legendgroup\": \"TOWN=New Milford\", \"lon\": [-73.4215781633603], \"marker\": {\"color\": \"#FF6692\"}, \"mode\": \"markers\", \"name\": \"TOWN=New Milford\", \"showlegend\": true, \"subplot\": \"mapbox\", \"type\": \"scattermapbox\"}, {\"hoverlabel\": {\"namelength\": 0}, \"hovertemplate\": \"TOWN=Watertown<br>Y=%{lat}<br>X=%{lon}\", \"lat\": [41.616015824789], \"legendgroup\": \"TOWN=Watertown\", \"lon\": [-73.1177301876986], \"marker\": {\"color\": \"#B6E880\"}, \"mode\": \"markers\", \"name\": \"TOWN=Watertown\", \"showlegend\": true, \"subplot\": \"mapbox\", \"type\": \"scattermapbox\"}, {\"hoverlabel\": {\"namelength\": 0}, \"hovertemplate\": \"TOWN=Bethlehem<br>Y=%{lat}<br>X=%{lon}\", \"lat\": [41.6374955633252], \"legendgroup\": \"TOWN=Bethlehem\", \"lon\": [-73.2113934154445], \"marker\": {\"color\": \"#FF97FF\"}, \"mode\": \"markers\", \"name\": \"TOWN=Bethlehem\", \"showlegend\": true, \"subplot\": \"mapbox\", \"type\": \"scattermapbox\"}, {\"hoverlabel\": {\"namelength\": 0}, \"hovertemplate\": \"TOWN=Sherman<br>Y=%{lat}<br>X=%{lon}\", \"lat\": [41.5800698592504], \"legendgroup\": \"TOWN=Sherman\", \"lon\": [-73.49918170807399], \"marker\": {\"color\": \"#FECB52\"}, \"mode\": \"markers\", \"name\": \"TOWN=Sherman\", \"showlegend\": true, \"subplot\": \"mapbox\", \"type\": \"scattermapbox\"}, {\"hoverlabel\": {\"namelength\": 0}, \"hovertemplate\": \"TOWN=Franklin<br>Y=%{lat}<br>X=%{lon}\", \"lat\": [41.6153242786404], \"legendgroup\": \"TOWN=Franklin\", \"lon\": [-72.14324053666171], \"marker\": {\"color\": \"#636efa\"}, \"mode\": \"markers\", \"name\": \"TOWN=Franklin\", \"showlegend\": true, \"subplot\": \"mapbox\", \"type\": \"scattermapbox\"}, {\"hoverlabel\": {\"namelength\": 0}, \"hovertemplate\": \"TOWN=Sprague<br>Y=%{lat}<br>X=%{lon}\", \"lat\": [41.6304321472755], \"legendgroup\": \"TOWN=Sprague\", \"lon\": [-72.0758082998052], \"marker\": {\"color\": \"#EF553B\"}, \"mode\": \"markers\", \"name\": \"TOWN=Sprague\", \"showlegend\": true, \"subplot\": \"mapbox\", \"type\": \"scattermapbox\"}, {\"hoverlabel\": {\"namelength\": 0}, \"hovertemplate\": \"TOWN=Southington<br>Y=%{lat}<br>X=%{lon}\", \"lat\": [41.604891708861295], \"legendgroup\": \"TOWN=Southington\", \"lon\": [-72.8800272635791], \"marker\": {\"color\": \"#00cc96\"}, \"mode\": \"markers\", \"name\": \"TOWN=Southington\", \"showlegend\": true, \"subplot\": \"mapbox\", \"type\": \"scattermapbox\"}, {\"hoverlabel\": {\"namelength\": 0}, \"hovertemplate\": \"TOWN=Berlin<br>Y=%{lat}<br>X=%{lon}\", \"lat\": [41.6111577680927], \"legendgroup\": \"TOWN=Berlin\", \"lon\": [-72.77601524654371], \"marker\": {\"color\": \"#ab63fa\"}, \"mode\": \"markers\", \"name\": \"TOWN=Berlin\", \"showlegend\": true, \"subplot\": \"mapbox\", \"type\": \"scattermapbox\"}, {\"hoverlabel\": {\"namelength\": 0}, \"hovertemplate\": \"TOWN=Lisbon<br>Y=%{lat}<br>X=%{lon}\", \"lat\": [41.6014468231256], \"legendgroup\": \"TOWN=Lisbon\", \"lon\": [-72.01416336195891], \"marker\": {\"color\": \"#FFA15A\"}, \"mode\": \"markers\", \"name\": \"TOWN=Lisbon\", \"showlegend\": true, \"subplot\": \"mapbox\", \"type\": \"scattermapbox\"}, {\"hoverlabel\": {\"namelength\": 0}, \"hovertemplate\": \"TOWN=Voluntown<br>Y=%{lat}<br>X=%{lon}\", \"lat\": [41.5798896186091], \"legendgroup\": \"TOWN=Voluntown\", \"lon\": [-71.832464335089], \"marker\": {\"color\": \"#19d3f3\"}, \"mode\": \"markers\", \"name\": \"TOWN=Voluntown\", \"showlegend\": true, \"subplot\": \"mapbox\", \"type\": \"scattermapbox\"}, {\"hoverlabel\": {\"namelength\": 0}, \"hovertemplate\": \"TOWN=East Hampton<br>Y=%{lat}<br>X=%{lon}\", \"lat\": [41.569590883116], \"legendgroup\": \"TOWN=East Hampton\", \"lon\": [-72.5074074836945], \"marker\": {\"color\": \"#FF6692\"}, \"mode\": \"markers\", \"name\": \"TOWN=East Hampton\", \"showlegend\": true, \"subplot\": \"mapbox\", \"type\": \"scattermapbox\"}, {\"hoverlabel\": {\"namelength\": 0}, \"hovertemplate\": \"TOWN=Griswold<br>Y=%{lat}<br>X=%{lon}\", \"lat\": [41.5852054411731], \"legendgroup\": \"TOWN=Griswold\", \"lon\": [-71.9227438288552], \"marker\": {\"color\": \"#B6E880\"}, \"mode\": \"markers\", \"name\": \"TOWN=Griswold\", \"showlegend\": true, \"subplot\": \"mapbox\", \"type\": \"scattermapbox\"}, {\"hoverlabel\": {\"namelength\": 0}, \"hovertemplate\": \"TOWN=Wolcott<br>Y=%{lat}<br>X=%{lon}\", \"lat\": [41.6006625827308], \"legendgroup\": \"TOWN=Wolcott\", \"lon\": [-72.9731820072739], \"marker\": {\"color\": \"#FF97FF\"}, \"mode\": \"markers\", \"name\": \"TOWN=Wolcott\", \"showlegend\": true, \"subplot\": \"mapbox\", \"type\": \"scattermapbox\"}, {\"hoverlabel\": {\"namelength\": 0}, \"hovertemplate\": \"TOWN=Portland<br>Y=%{lat}<br>X=%{lon}\", \"lat\": [41.5993369576271], \"legendgroup\": \"TOWN=Portland\", \"lon\": [-72.5885378812523], \"marker\": {\"color\": \"#FECB52\"}, \"mode\": \"markers\", \"name\": \"TOWN=Portland\", \"showlegend\": true, \"subplot\": \"mapbox\", \"type\": \"scattermapbox\"}, {\"hoverlabel\": {\"namelength\": 0}, \"hovertemplate\": \"TOWN=Cromwell<br>Y=%{lat}<br>X=%{lon}\", \"lat\": [41.612159112064795], \"legendgroup\": \"TOWN=Cromwell\", \"lon\": [-72.663730492445], \"marker\": {\"color\": \"#636efa\"}, \"mode\": \"markers\", \"name\": \"TOWN=Cromwell\", \"showlegend\": true, \"subplot\": \"mapbox\", \"type\": \"scattermapbox\"}, {\"hoverlabel\": {\"namelength\": 0}, \"hovertemplate\": \"TOWN=Colchester<br>Y=%{lat}<br>X=%{lon}\", \"lat\": [41.5620266026866], \"legendgroup\": \"TOWN=Colchester\", \"lon\": [-72.34727571199859], \"marker\": {\"color\": \"#EF553B\"}, \"mode\": \"markers\", \"name\": \"TOWN=Colchester\", \"showlegend\": true, \"subplot\": \"mapbox\", \"type\": \"scattermapbox\"}, {\"hoverlabel\": {\"namelength\": 0}, \"hovertemplate\": \"TOWN=Waterbury<br>Y=%{lat}<br>X=%{lon}\", \"lat\": [41.5582594181289], \"legendgroup\": \"TOWN=Waterbury\", \"lon\": [-73.0360213515486], \"marker\": {\"color\": \"#00cc96\"}, \"mode\": \"markers\", \"name\": \"TOWN=Waterbury\", \"showlegend\": true, \"subplot\": \"mapbox\", \"type\": \"scattermapbox\"}, {\"hoverlabel\": {\"namelength\": 0}, \"hovertemplate\": \"TOWN=Woodbury<br>Y=%{lat}<br>X=%{lon}\", \"lat\": [41.561360772670604], \"legendgroup\": \"TOWN=Woodbury\", \"lon\": [-73.20720726172492], \"marker\": {\"color\": \"#ab63fa\"}, \"mode\": \"markers\", \"name\": \"TOWN=Woodbury\", \"showlegend\": true, \"subplot\": \"mapbox\", \"type\": \"scattermapbox\"}, {\"hoverlabel\": {\"namelength\": 0}, \"hovertemplate\": \"TOWN=Norwich<br>Y=%{lat}<br>X=%{lon}\", \"lat\": [41.549395531592104], \"legendgroup\": \"TOWN=Norwich\", \"lon\": [-72.0882419909586], \"marker\": {\"color\": \"#FFA15A\"}, \"mode\": \"markers\", \"name\": \"TOWN=Norwich\", \"showlegend\": true, \"subplot\": \"mapbox\", \"type\": \"scattermapbox\"}, {\"hoverlabel\": {\"namelength\": 0}, \"hovertemplate\": \"TOWN=Roxbury<br>Y=%{lat}<br>X=%{lon}\", \"lat\": [41.5539629750069], \"legendgroup\": \"TOWN=Roxbury\", \"lon\": [-73.30056856944191], \"marker\": {\"color\": \"#19d3f3\"}, \"mode\": \"markers\", \"name\": \"TOWN=Roxbury\", \"showlegend\": true, \"subplot\": \"mapbox\", \"type\": \"scattermapbox\"}, {\"hoverlabel\": {\"namelength\": 0}, \"hovertemplate\": \"TOWN=Middletown<br>Y=%{lat}<br>X=%{lon}\", \"lat\": [41.5476609967849], \"legendgroup\": \"TOWN=Middletown\", \"lon\": [-72.6545470832036], \"marker\": {\"color\": \"#FF6692\"}, \"mode\": \"markers\", \"name\": \"TOWN=Middletown\", \"showlegend\": true, \"subplot\": \"mapbox\", \"type\": \"scattermapbox\"}, {\"hoverlabel\": {\"namelength\": 0}, \"hovertemplate\": \"TOWN=Bozrah<br>Y=%{lat}<br>X=%{lon}\", \"lat\": [41.5453490766784], \"legendgroup\": \"TOWN=Bozrah\", \"lon\": [-72.17487272627521], \"marker\": {\"color\": \"#B6E880\"}, \"mode\": \"markers\", \"name\": \"TOWN=Bozrah\", \"showlegend\": true, \"subplot\": \"mapbox\", \"type\": \"scattermapbox\"}, {\"hoverlabel\": {\"namelength\": 0}, \"hovertemplate\": \"TOWN=Meriden<br>Y=%{lat}<br>X=%{lon}\", \"lat\": [41.536838375833], \"legendgroup\": \"TOWN=Meriden\", \"lon\": [-72.7944939940579], \"marker\": {\"color\": \"#FF97FF\"}, \"mode\": \"markers\", \"name\": \"TOWN=Meriden\", \"showlegend\": true, \"subplot\": \"mapbox\", \"type\": \"scattermapbox\"}, {\"hoverlabel\": {\"namelength\": 0}, \"hovertemplate\": \"TOWN=Preston<br>Y=%{lat}<br>X=%{lon}\", \"lat\": [41.5224183811399], \"legendgroup\": \"TOWN=Preston\", \"lon\": [-72.0007559246447], \"marker\": {\"color\": \"#FECB52\"}, \"mode\": \"markers\", \"name\": \"TOWN=Preston\", \"showlegend\": true, \"subplot\": \"mapbox\", \"type\": \"scattermapbox\"}, {\"hoverlabel\": {\"namelength\": 0}, \"hovertemplate\": \"TOWN=Middlebury<br>Y=%{lat}<br>X=%{lon}\", \"lat\": [41.5271246742485], \"legendgroup\": \"TOWN=Middlebury\", \"lon\": [-73.12276027340859], \"marker\": {\"color\": \"#636efa\"}, \"mode\": \"markers\", \"name\": \"TOWN=Middlebury\", \"showlegend\": true, \"subplot\": \"mapbox\", \"type\": \"scattermapbox\"}, {\"hoverlabel\": {\"namelength\": 0}, \"hovertemplate\": \"TOWN=Bridgewater<br>Y=%{lat}<br>X=%{lon}\", \"lat\": [41.5208399735827], \"legendgroup\": \"TOWN=Bridgewater\", \"lon\": [-73.3600973886368], \"marker\": {\"color\": \"#EF553B\"}, \"mode\": \"markers\", \"name\": \"TOWN=Bridgewater\", \"showlegend\": true, \"subplot\": \"mapbox\", \"type\": \"scattermapbox\"}, {\"hoverlabel\": {\"namelength\": 0}, \"hovertemplate\": \"TOWN=Cheshire<br>Y=%{lat}<br>X=%{lon}\", \"lat\": [41.5114518461356], \"legendgroup\": \"TOWN=Cheshire\", \"lon\": [-72.90399530183129], \"marker\": {\"color\": \"#00cc96\"}, \"mode\": \"markers\", \"name\": \"TOWN=Cheshire\", \"showlegend\": true, \"subplot\": \"mapbox\", \"type\": \"scattermapbox\"}, {\"hoverlabel\": {\"namelength\": 0}, \"hovertemplate\": \"TOWN=Middlefield<br>Y=%{lat}<br>X=%{lon}\", \"lat\": [41.5176869616306], \"legendgroup\": \"TOWN=Middlefield\", \"lon\": [-72.71492443300221], \"marker\": {\"color\": \"#ab63fa\"}, \"mode\": \"markers\", \"name\": \"TOWN=Middlefield\", \"showlegend\": true, \"subplot\": \"mapbox\", \"type\": \"scattermapbox\"}, {\"hoverlabel\": {\"namelength\": 0}, \"hovertemplate\": \"TOWN=Salem<br>Y=%{lat}<br>X=%{lon}\", \"lat\": [41.485381927511604], \"legendgroup\": \"TOWN=Salem\", \"lon\": [-72.26643801788471], \"marker\": {\"color\": \"#FFA15A\"}, \"mode\": \"markers\", \"name\": \"TOWN=Salem\", \"showlegend\": true, \"subplot\": \"mapbox\", \"type\": \"scattermapbox\"}, {\"hoverlabel\": {\"namelength\": 0}, \"hovertemplate\": \"TOWN=East Haddam<br>Y=%{lat}<br>X=%{lon}\", \"lat\": [41.479796473239006], \"legendgroup\": \"TOWN=East Haddam\", \"lon\": [-72.39434858053251], \"marker\": {\"color\": \"#19d3f3\"}, \"mode\": \"markers\", \"name\": \"TOWN=East Haddam\", \"showlegend\": true, \"subplot\": \"mapbox\", \"type\": \"scattermapbox\"}, {\"hoverlabel\": {\"namelength\": 0}, \"hovertemplate\": \"TOWN=New Fairfield<br>Y=%{lat}<br>X=%{lon}\", \"lat\": [41.487803860917], \"legendgroup\": \"TOWN=New Fairfield\", \"lon\": [-73.48828101582191], \"marker\": {\"color\": \"#FF6692\"}, \"mode\": \"markers\", \"name\": \"TOWN=New Fairfield\", \"showlegend\": true, \"subplot\": \"mapbox\", \"type\": \"scattermapbox\"}, {\"hoverlabel\": {\"namelength\": 0}, \"hovertemplate\": \"TOWN=Prospect<br>Y=%{lat}<br>X=%{lon}\", \"lat\": [41.4991810624054], \"legendgroup\": \"TOWN=Prospect\", \"lon\": [-72.9762778428478], \"marker\": {\"color\": \"#B6E880\"}, \"mode\": \"markers\", \"name\": \"TOWN=Prospect\", \"showlegend\": true, \"subplot\": \"mapbox\", \"type\": \"scattermapbox\"}, {\"hoverlabel\": {\"namelength\": 0}, \"hovertemplate\": \"TOWN=North Stonington<br>Y=%{lat}<br>X=%{lon}\", \"lat\": [41.469653234319104], \"legendgroup\": \"TOWN=North Stonington\", \"lon\": [-71.8753461199257], \"marker\": {\"color\": \"#FF97FF\"}, \"mode\": \"markers\", \"name\": \"TOWN=North Stonington\", \"showlegend\": true, \"subplot\": \"mapbox\", \"type\": \"scattermapbox\"}, {\"hoverlabel\": {\"namelength\": 0}, \"hovertemplate\": \"TOWN=Montville<br>Y=%{lat}<br>X=%{lon}\", \"lat\": [41.4638005936708], \"legendgroup\": \"TOWN=Montville\", \"lon\": [-72.1567159462634], \"marker\": {\"color\": \"#FECB52\"}, \"mode\": \"markers\", \"name\": \"TOWN=Montville\", \"showlegend\": true, \"subplot\": \"mapbox\", \"type\": \"scattermapbox\"}, {\"hoverlabel\": {\"namelength\": 0}, \"hovertemplate\": \"TOWN=Haddam<br>Y=%{lat}<br>X=%{lon}\", \"lat\": [41.4675703294021], \"legendgroup\": \"TOWN=Haddam\", \"lon\": [-72.54594731520359], \"marker\": {\"color\": \"#636efa\"}, \"mode\": \"markers\", \"name\": \"TOWN=Haddam\", \"showlegend\": true, \"subplot\": \"mapbox\", \"type\": \"scattermapbox\"}, {\"hoverlabel\": {\"namelength\": 0}, \"hovertemplate\": \"TOWN=Naugatuck<br>Y=%{lat}<br>X=%{lon}\", \"lat\": [41.4889777436159], \"legendgroup\": \"TOWN=Naugatuck\", \"lon\": [-73.0517676810289], \"marker\": {\"color\": \"#EF553B\"}, \"mode\": \"markers\", \"name\": \"TOWN=Naugatuck\", \"showlegend\": true, \"subplot\": \"mapbox\", \"type\": \"scattermapbox\"}, {\"hoverlabel\": {\"namelength\": 0}, \"hovertemplate\": \"TOWN=Brookfield<br>Y=%{lat}<br>X=%{lon}\", \"lat\": [41.46752965155571], \"legendgroup\": \"TOWN=Brookfield\", \"lon\": [-73.3923244597689], \"marker\": {\"color\": \"#00cc96\"}, \"mode\": \"markers\", \"name\": \"TOWN=Brookfield\", \"showlegend\": true, \"subplot\": \"mapbox\", \"type\": \"scattermapbox\"}, {\"hoverlabel\": {\"namelength\": 0}, \"hovertemplate\": \"TOWN=Wallingford<br>Y=%{lat}<br>X=%{lon}\", \"lat\": [41.4590599814914], \"legendgroup\": \"TOWN=Wallingford\", \"lon\": [-72.8041565391719], \"marker\": {\"color\": \"#ab63fa\"}, \"mode\": \"markers\", \"name\": \"TOWN=Wallingford\", \"showlegend\": true, \"subplot\": \"mapbox\", \"type\": \"scattermapbox\"}, {\"hoverlabel\": {\"namelength\": 0}, \"hovertemplate\": \"TOWN=Southbury<br>Y=%{lat}<br>X=%{lon}\", \"lat\": [41.4745319243586], \"legendgroup\": \"TOWN=Southbury\", \"lon\": [-73.23274796141651], \"marker\": {\"color\": \"#FFA15A\"}, \"mode\": \"markers\", \"name\": \"TOWN=Southbury\", \"showlegend\": true, \"subplot\": \"mapbox\", \"type\": \"scattermapbox\"}, {\"hoverlabel\": {\"namelength\": 0}, \"hovertemplate\": \"TOWN=Durham<br>Y=%{lat}<br>X=%{lon}\", \"lat\": [41.46229475074001], \"legendgroup\": \"TOWN=Durham\", \"lon\": [-72.68308644283859], \"marker\": {\"color\": \"#19d3f3\"}, \"mode\": \"markers\", \"name\": \"TOWN=Durham\", \"showlegend\": true, \"subplot\": \"mapbox\", \"type\": \"scattermapbox\"}, {\"hoverlabel\": {\"namelength\": 0}, \"hovertemplate\": \"TOWN=Oxford<br>Y=%{lat}<br>X=%{lon}\", \"lat\": [41.431314709575794], \"legendgroup\": \"TOWN=Oxford\", \"lon\": [-73.1350983140828], \"marker\": {\"color\": \"#FF6692\"}, \"mode\": \"markers\", \"name\": \"TOWN=Oxford\", \"showlegend\": true, \"subplot\": \"mapbox\", \"type\": \"scattermapbox\"}, {\"hoverlabel\": {\"namelength\": 0}, \"hovertemplate\": \"TOWN=Ledyard<br>Y=%{lat}<br>X=%{lon}\", \"lat\": [41.4399706517297], \"legendgroup\": \"TOWN=Ledyard\", \"lon\": [-72.0164775868916], \"marker\": {\"color\": \"#B6E880\"}, \"mode\": \"markers\", \"name\": \"TOWN=Ledyard\", \"showlegend\": true, \"subplot\": \"mapbox\", \"type\": \"scattermapbox\"}, {\"hoverlabel\": {\"namelength\": 0}, \"hovertemplate\": \"TOWN=Newtown<br>Y=%{lat}<br>X=%{lon}\", \"lat\": [41.398822983464605], \"legendgroup\": \"TOWN=Newtown\", \"lon\": [-73.29282774457009], \"marker\": {\"color\": \"#FF97FF\"}, \"mode\": \"markers\", \"name\": \"TOWN=Newtown\", \"showlegend\": true, \"subplot\": \"mapbox\", \"type\": \"scattermapbox\"}, {\"hoverlabel\": {\"namelength\": 0}, \"hovertemplate\": \"TOWN=Bethany<br>Y=%{lat}<br>X=%{lon}\", \"lat\": [41.425995390854396], \"legendgroup\": \"TOWN=Bethany\", \"lon\": [-72.99287956171429], \"marker\": {\"color\": \"#FECB52\"}, \"mode\": \"markers\", \"name\": \"TOWN=Bethany\", \"showlegend\": true, \"subplot\": \"mapbox\", \"type\": \"scattermapbox\"}, {\"hoverlabel\": {\"namelength\": 0}, \"hovertemplate\": \"TOWN=Beacon Falls<br>Y=%{lat}<br>X=%{lon}\", \"lat\": [41.4389273225178], \"legendgroup\": \"TOWN=Beacon Falls\", \"lon\": [-73.0568349128605], \"marker\": {\"color\": \"#636efa\"}, \"mode\": \"markers\", \"name\": \"TOWN=Beacon Falls\", \"showlegend\": true, \"subplot\": \"mapbox\", \"type\": \"scattermapbox\"}, {\"hoverlabel\": {\"namelength\": 0}, \"hovertemplate\": \"TOWN=Danbury<br>Y=%{lat}<br>X=%{lon}\", \"lat\": [41.4013640556389], \"legendgroup\": \"TOWN=Danbury\", \"lon\": [-73.4705270599115], \"marker\": {\"color\": \"#EF553B\"}, \"mode\": \"markers\", \"name\": \"TOWN=Danbury\", \"showlegend\": true, \"subplot\": \"mapbox\", \"type\": \"scattermapbox\"}, {\"hoverlabel\": {\"namelength\": 0}, \"hovertemplate\": \"TOWN=Hamden<br>Y=%{lat}<br>X=%{lon}\", \"lat\": [41.3959857885991], \"legendgroup\": \"TOWN=Hamden\", \"lon\": [-72.9215549788146], \"marker\": {\"color\": \"#00cc96\"}, \"mode\": \"markers\", \"name\": \"TOWN=Hamden\", \"showlegend\": true, \"subplot\": \"mapbox\", \"type\": \"scattermapbox\"}, {\"hoverlabel\": {\"namelength\": 0}, \"hovertemplate\": \"TOWN=East Lyme<br>Y=%{lat}<br>X=%{lon}\", \"lat\": [41.36744987979971], \"legendgroup\": \"TOWN=East Lyme\", \"lon\": [-72.235486024346], \"marker\": {\"color\": \"#ab63fa\"}, \"mode\": \"markers\", \"name\": \"TOWN=East Lyme\", \"showlegend\": true, \"subplot\": \"mapbox\", \"type\": \"scattermapbox\"}, {\"hoverlabel\": {\"namelength\": 0}, \"hovertemplate\": \"TOWN=Killingworth<br>Y=%{lat}<br>X=%{lon}\", \"lat\": [41.379066522790495], \"legendgroup\": \"TOWN=Killingworth\", \"lon\": [-72.57822866383358], \"marker\": {\"color\": \"#FFA15A\"}, \"mode\": \"markers\", \"name\": \"TOWN=Killingworth\", \"showlegend\": true, \"subplot\": \"mapbox\", \"type\": \"scattermapbox\"}, {\"hoverlabel\": {\"namelength\": 0}, \"hovertemplate\": \"TOWN=Lyme<br>Y=%{lat}<br>X=%{lon}\", \"lat\": [41.3964893416275], \"legendgroup\": \"TOWN=Lyme\", \"lon\": [-72.34377768171571], \"marker\": {\"color\": \"#19d3f3\"}, \"mode\": \"markers\", \"name\": \"TOWN=Lyme\", \"showlegend\": true, \"subplot\": \"mapbox\", \"type\": \"scattermapbox\"}, {\"hoverlabel\": {\"namelength\": 0}, \"hovertemplate\": \"TOWN=Madison<br>Y=%{lat}<br>X=%{lon}\", \"lat\": [41.3406863807877], \"legendgroup\": \"TOWN=Madison\", \"lon\": [-72.6285335304292], \"marker\": {\"color\": \"#FF6692\"}, \"mode\": \"markers\", \"name\": \"TOWN=Madison\", \"showlegend\": true, \"subplot\": \"mapbox\", \"type\": \"scattermapbox\"}, {\"hoverlabel\": {\"namelength\": 0}, \"hovertemplate\": \"TOWN=Stonington<br>Y=%{lat}<br>X=%{lon}\", \"lat\": [41.3766222042302], \"legendgroup\": \"TOWN=Stonington\", \"lon\": [-71.9023848606722], \"marker\": {\"color\": \"#B6E880\"}, \"mode\": \"markers\", \"name\": \"TOWN=Stonington\", \"showlegend\": true, \"subplot\": \"mapbox\", \"type\": \"scattermapbox\"}, {\"hoverlabel\": {\"namelength\": 0}, \"hovertemplate\": \"TOWN=North Haven<br>Y=%{lat}<br>X=%{lon}\", \"lat\": [41.3817873414325], \"legendgroup\": \"TOWN=North Haven\", \"lon\": [-72.85746892182071], \"marker\": {\"color\": \"#FF97FF\"}, \"mode\": \"markers\", \"name\": \"TOWN=North Haven\", \"showlegend\": true, \"subplot\": \"mapbox\", \"type\": \"scattermapbox\"}, {\"hoverlabel\": {\"namelength\": 0}, \"hovertemplate\": \"TOWN=Chester<br>Y=%{lat}<br>X=%{lon}\", \"lat\": [41.4059693678592], \"legendgroup\": \"TOWN=Chester\", \"lon\": [-72.4830766735014], \"marker\": {\"color\": \"#FECB52\"}, \"mode\": \"markers\", \"name\": \"TOWN=Chester\", \"showlegend\": true, \"subplot\": \"mapbox\", \"type\": \"scattermapbox\"}, {\"hoverlabel\": {\"namelength\": 0}, \"hovertemplate\": \"TOWN=Guilford<br>Y=%{lat}<br>X=%{lon}\", \"lat\": [41.3345214819421], \"legendgroup\": \"TOWN=Guilford\", \"lon\": [-72.7002976268178], \"marker\": {\"color\": \"#636efa\"}, \"mode\": \"markers\", \"name\": \"TOWN=Guilford\", \"showlegend\": true, \"subplot\": \"mapbox\", \"type\": \"scattermapbox\"}, {\"hoverlabel\": {\"namelength\": 0}, \"hovertemplate\": \"TOWN=Bethel<br>Y=%{lat}<br>X=%{lon}\", \"lat\": [41.374801560580295], \"legendgroup\": \"TOWN=Bethel\", \"lon\": [-73.39265624011591], \"marker\": {\"color\": \"#EF553B\"}, \"mode\": \"markers\", \"name\": \"TOWN=Bethel\", \"showlegend\": true, \"subplot\": \"mapbox\", \"type\": \"scattermapbox\"}, {\"hoverlabel\": {\"namelength\": 0}, \"hovertemplate\": \"TOWN=Waterford<br>Y=%{lat}<br>X=%{lon}\", \"lat\": [41.370346134318], \"legendgroup\": \"TOWN=Waterford\", \"lon\": [-72.14827239706159], \"marker\": {\"color\": \"#00cc96\"}, \"mode\": \"markers\", \"name\": \"TOWN=Waterford\", \"showlegend\": true, \"subplot\": \"mapbox\", \"type\": \"scattermapbox\"}, {\"hoverlabel\": {\"namelength\": 0}, \"hovertemplate\": \"TOWN=North Branford<br>Y=%{lat}<br>X=%{lon}\", \"lat\": [41.3644807020046], \"legendgroup\": \"TOWN=North Branford\", \"lon\": [-72.77674848592659], \"marker\": {\"color\": \"#ab63fa\"}, \"mode\": \"markers\", \"name\": \"TOWN=North Branford\", \"showlegend\": true, \"subplot\": \"mapbox\", \"type\": \"scattermapbox\"}, {\"hoverlabel\": {\"namelength\": 0}, \"hovertemplate\": \"TOWN=Seymour<br>Y=%{lat}<br>X=%{lon}\", \"lat\": [41.3810259961196], \"legendgroup\": \"TOWN=Seymour\", \"lon\": [-73.08716650266041], \"marker\": {\"color\": \"#FFA15A\"}, \"mode\": \"markers\", \"name\": \"TOWN=Seymour\", \"showlegend\": true, \"subplot\": \"mapbox\", \"type\": \"scattermapbox\"}, {\"hoverlabel\": {\"namelength\": 0}, \"hovertemplate\": \"TOWN=Groton<br>Y=%{lat}<br>X=%{lon}\", \"lat\": [41.3620893829628], \"legendgroup\": \"TOWN=Groton\", \"lon\": [-72.0278633926364], \"marker\": {\"color\": \"#19d3f3\"}, \"mode\": \"markers\", \"name\": \"TOWN=Groton\", \"showlegend\": true, \"subplot\": \"mapbox\", \"type\": \"scattermapbox\"}, {\"hoverlabel\": {\"namelength\": 0}, \"hovertemplate\": \"TOWN=Deep River<br>Y=%{lat}<br>X=%{lon}\", \"lat\": [41.368963900413796], \"legendgroup\": \"TOWN=Deep River\", \"lon\": [-72.4620688034714], \"marker\": {\"color\": \"#FF6692\"}, \"mode\": \"markers\", \"name\": \"TOWN=Deep River\", \"showlegend\": true, \"subplot\": \"mapbox\", \"type\": \"scattermapbox\"}, {\"hoverlabel\": {\"namelength\": 0}, \"hovertemplate\": \"TOWN=Woodbridge<br>Y=%{lat}<br>X=%{lon}\", \"lat\": [41.356608391724], \"legendgroup\": \"TOWN=Woodbridge\", \"lon\": [-73.01003180977209], \"marker\": {\"color\": \"#B6E880\"}, \"mode\": \"markers\", \"name\": \"TOWN=Woodbridge\", \"showlegend\": true, \"subplot\": \"mapbox\", \"type\": \"scattermapbox\"}, {\"hoverlabel\": {\"namelength\": 0}, \"hovertemplate\": \"TOWN=Monroe<br>Y=%{lat}<br>X=%{lon}\", \"lat\": [41.3379344444351], \"legendgroup\": \"TOWN=Monroe\", \"lon\": [-73.2249189440438], \"marker\": {\"color\": \"#FF97FF\"}, \"mode\": \"markers\", \"name\": \"TOWN=Monroe\", \"showlegend\": true, \"subplot\": \"mapbox\", \"type\": \"scattermapbox\"}, {\"hoverlabel\": {\"namelength\": 0}, \"hovertemplate\": \"TOWN=New London<br>Y=%{lat}<br>X=%{lon}\", \"lat\": [41.353725673210604], \"legendgroup\": \"TOWN=New London\", \"lon\": [-72.10432116854591], \"marker\": {\"color\": \"#FECB52\"}, \"mode\": \"markers\", \"name\": \"TOWN=New London\", \"showlegend\": true, \"subplot\": \"mapbox\", \"type\": \"scattermapbox\"}, {\"hoverlabel\": {\"namelength\": 0}, \"hovertemplate\": \"TOWN=Essex<br>Y=%{lat}<br>X=%{lon}\", \"lat\": [41.3500326055836], \"legendgroup\": \"TOWN=Essex\", \"lon\": [-72.4145607585472], \"marker\": {\"color\": \"#636efa\"}, \"mode\": \"markers\", \"name\": \"TOWN=Essex\", \"showlegend\": true, \"subplot\": \"mapbox\", \"type\": \"scattermapbox\"}, {\"hoverlabel\": {\"namelength\": 0}, \"hovertemplate\": \"TOWN=Ridgefield<br>Y=%{lat}<br>X=%{lon}\", \"lat\": [41.3061539956989], \"legendgroup\": \"TOWN=Ridgefield\", \"lon\": [-73.50188133191], \"marker\": {\"color\": \"#EF553B\"}, \"mode\": \"markers\", \"name\": \"TOWN=Ridgefield\", \"showlegend\": true, \"subplot\": \"mapbox\", \"type\": \"scattermapbox\"}, {\"hoverlabel\": {\"namelength\": 0}, \"hovertemplate\": \"TOWN=Shelton<br>Y=%{lat}<br>X=%{lon}\", \"lat\": [41.3060975143692], \"legendgroup\": \"TOWN=Shelton\", \"lon\": [-73.13822123369779], \"marker\": {\"color\": \"#00cc96\"}, \"mode\": \"markers\", \"name\": \"TOWN=Shelton\", \"showlegend\": true, \"subplot\": \"mapbox\", \"type\": \"scattermapbox\"}, {\"hoverlabel\": {\"namelength\": 0}, \"hovertemplate\": \"TOWN=Old Lyme<br>Y=%{lat}<br>X=%{lon}\", \"lat\": [41.3204258413288], \"legendgroup\": \"TOWN=Old Lyme\", \"lon\": [-72.3032521958035], \"marker\": {\"color\": \"#ab63fa\"}, \"mode\": \"markers\", \"name\": \"TOWN=Old Lyme\", \"showlegend\": true, \"subplot\": \"mapbox\", \"type\": \"scattermapbox\"}, {\"hoverlabel\": {\"namelength\": 0}, \"hovertemplate\": \"TOWN=East Haven<br>Y=%{lat}<br>X=%{lon}\", \"lat\": [41.2991364527903], \"legendgroup\": \"TOWN=East Haven\", \"lon\": [-72.8573471042596], \"marker\": {\"color\": \"#FFA15A\"}, \"mode\": \"markers\", \"name\": \"TOWN=East Haven\", \"showlegend\": true, \"subplot\": \"mapbox\", \"type\": \"scattermapbox\"}, {\"hoverlabel\": {\"namelength\": 0}, \"hovertemplate\": \"TOWN=Ansonia<br>Y=%{lat}<br>X=%{lon}\", \"lat\": [41.344271993997204], \"legendgroup\": \"TOWN=Ansonia\", \"lon\": [-73.0688896980701], \"marker\": {\"color\": \"#19d3f3\"}, \"mode\": \"markers\", \"name\": \"TOWN=Ansonia\", \"showlegend\": true, \"subplot\": \"mapbox\", \"type\": \"scattermapbox\"}, {\"hoverlabel\": {\"namelength\": 0}, \"hovertemplate\": \"TOWN=Derby<br>Y=%{lat}<br>X=%{lon}\", \"lat\": [41.3264492150586], \"legendgroup\": \"TOWN=Derby\", \"lon\": [-73.0829994779898], \"marker\": {\"color\": \"#FF6692\"}, \"mode\": \"markers\", \"name\": \"TOWN=Derby\", \"showlegend\": true, \"subplot\": \"mapbox\", \"type\": \"scattermapbox\"}, {\"hoverlabel\": {\"namelength\": 0}, \"hovertemplate\": \"TOWN=Redding<br>Y=%{lat}<br>X=%{lon}\", \"lat\": [41.305021333867295], \"legendgroup\": \"TOWN=Redding\", \"lon\": [-73.3913916801082], \"marker\": {\"color\": \"#B6E880\"}, \"mode\": \"markers\", \"name\": \"TOWN=Redding\", \"showlegend\": true, \"subplot\": \"mapbox\", \"type\": \"scattermapbox\"}, {\"hoverlabel\": {\"namelength\": 0}, \"hovertemplate\": \"TOWN=New Haven<br>Y=%{lat}<br>X=%{lon}\", \"lat\": [41.311528996884], \"legendgroup\": \"TOWN=New Haven\", \"lon\": [-72.924809299028], \"marker\": {\"color\": \"#FF97FF\"}, \"mode\": \"markers\", \"name\": \"TOWN=New Haven\", \"showlegend\": true, \"subplot\": \"mapbox\", \"type\": \"scattermapbox\"}, {\"hoverlabel\": {\"namelength\": 0}, \"hovertemplate\": \"TOWN=Westbrook<br>Y=%{lat}<br>X=%{lon}\", \"lat\": [41.3070099878697], \"legendgroup\": \"TOWN=Westbrook\", \"lon\": [-72.4663766397619], \"marker\": {\"color\": \"#FECB52\"}, \"mode\": \"markers\", \"name\": \"TOWN=Westbrook\", \"showlegend\": true, \"subplot\": \"mapbox\", \"type\": \"scattermapbox\"}, {\"hoverlabel\": {\"namelength\": 0}, \"hovertemplate\": \"TOWN=Old Saybrook<br>Y=%{lat}<br>X=%{lon}\", \"lat\": [41.303097687905], \"legendgroup\": \"TOWN=Old Saybrook\", \"lon\": [-72.38701975615949], \"marker\": {\"color\": \"#636efa\"}, \"mode\": \"markers\", \"name\": \"TOWN=Old Saybrook\", \"showlegend\": true, \"subplot\": \"mapbox\", \"type\": \"scattermapbox\"}, {\"hoverlabel\": {\"namelength\": 0}, \"hovertemplate\": \"TOWN=Clinton<br>Y=%{lat}<br>X=%{lon}\", \"lat\": [41.2988987084103], \"legendgroup\": \"TOWN=Clinton\", \"lon\": [-72.5299495686544], \"marker\": {\"color\": \"#EF553B\"}, \"mode\": \"markers\", \"name\": \"TOWN=Clinton\", \"showlegend\": true, \"subplot\": \"mapbox\", \"type\": \"scattermapbox\"}, {\"hoverlabel\": {\"namelength\": 0}, \"hovertemplate\": \"TOWN=Easton<br>Y=%{lat}<br>X=%{lon}\", \"lat\": [41.2648859129813], \"legendgroup\": \"TOWN=Easton\", \"lon\": [-73.30008424693729], \"marker\": {\"color\": \"#00cc96\"}, \"mode\": \"markers\", \"name\": \"TOWN=Easton\", \"showlegend\": true, \"subplot\": \"mapbox\", \"type\": \"scattermapbox\"}, {\"hoverlabel\": {\"namelength\": 0}, \"hovertemplate\": \"TOWN=Branford<br>Y=%{lat}<br>X=%{lon}\", \"lat\": [41.2859826579306], \"legendgroup\": \"TOWN=Branford\", \"lon\": [-72.79878509424591], \"marker\": {\"color\": \"#ab63fa\"}, \"mode\": \"markers\", \"name\": \"TOWN=Branford\", \"showlegend\": true, \"subplot\": \"mapbox\", \"type\": \"scattermapbox\"}, {\"hoverlabel\": {\"namelength\": 0}, \"hovertemplate\": \"TOWN=Orange<br>Y=%{lat}<br>X=%{lon}\", \"lat\": [41.2826216564714], \"legendgroup\": \"TOWN=Orange\", \"lon\": [-73.027165033765], \"marker\": {\"color\": \"#FFA15A\"}, \"mode\": \"markers\", \"name\": \"TOWN=Orange\", \"showlegend\": true, \"subplot\": \"mapbox\", \"type\": \"scattermapbox\"}, {\"hoverlabel\": {\"namelength\": 0}, \"hovertemplate\": \"TOWN=West Haven<br>Y=%{lat}<br>X=%{lon}\", \"lat\": [41.2736530384784], \"legendgroup\": \"TOWN=West Haven\", \"lon\": [-72.96647597850391], \"marker\": {\"color\": \"#19d3f3\"}, \"mode\": \"markers\", \"name\": \"TOWN=West Haven\", \"showlegend\": true, \"subplot\": \"mapbox\", \"type\": \"scattermapbox\"}, {\"hoverlabel\": {\"namelength\": 0}, \"hovertemplate\": \"TOWN=Trumbull<br>Y=%{lat}<br>X=%{lon}\", \"lat\": [41.260173481741205], \"legendgroup\": \"TOWN=Trumbull\", \"lon\": [-73.2084247211173], \"marker\": {\"color\": \"#FF6692\"}, \"mode\": \"markers\", \"name\": \"TOWN=Trumbull\", \"showlegend\": true, \"subplot\": \"mapbox\", \"type\": \"scattermapbox\"}, {\"hoverlabel\": {\"namelength\": 0}, \"hovertemplate\": \"TOWN=Milford<br>Y=%{lat}<br>X=%{lon}\", \"lat\": [41.226401304606206], \"legendgroup\": \"TOWN=Milford\", \"lon\": [-73.06040522122241], \"marker\": {\"color\": \"#B6E880\"}, \"mode\": \"markers\", \"name\": \"TOWN=Milford\", \"showlegend\": true, \"subplot\": \"mapbox\", \"type\": \"scattermapbox\"}, {\"hoverlabel\": {\"namelength\": 0}, \"hovertemplate\": \"TOWN=Weston<br>Y=%{lat}<br>X=%{lon}\", \"lat\": [41.228433019273794], \"legendgroup\": \"TOWN=Weston\", \"lon\": [-73.37256725904192], \"marker\": {\"color\": \"#FF97FF\"}, \"mode\": \"markers\", \"name\": \"TOWN=Weston\", \"showlegend\": true, \"subplot\": \"mapbox\", \"type\": \"scattermapbox\"}, {\"hoverlabel\": {\"namelength\": 0}, \"hovertemplate\": \"TOWN=Stratford<br>Y=%{lat}<br>X=%{lon}\", \"lat\": [41.2078673215556], \"legendgroup\": \"TOWN=Stratford\", \"lon\": [-73.13040399903791], \"marker\": {\"color\": \"#FECB52\"}, \"mode\": \"markers\", \"name\": \"TOWN=Stratford\", \"showlegend\": true, \"subplot\": \"mapbox\", \"type\": \"scattermapbox\"}, {\"hoverlabel\": {\"namelength\": 0}, \"hovertemplate\": \"TOWN=Wilton<br>Y=%{lat}<br>X=%{lon}\", \"lat\": [41.2069319946664], \"legendgroup\": \"TOWN=Wilton\", \"lon\": [-73.4398877871749], \"marker\": {\"color\": \"#636efa\"}, \"mode\": \"markers\", \"name\": \"TOWN=Wilton\", \"showlegend\": true, \"subplot\": \"mapbox\", \"type\": \"scattermapbox\"}, {\"hoverlabel\": {\"namelength\": 0}, \"hovertemplate\": \"TOWN=Fairfield<br>Y=%{lat}<br>X=%{lon}\", \"lat\": [41.177753851639295], \"legendgroup\": \"TOWN=Fairfield\", \"lon\": [-73.273260725136], \"marker\": {\"color\": \"#EF553B\"}, \"mode\": \"markers\", \"name\": \"TOWN=Fairfield\", \"showlegend\": true, \"subplot\": \"mapbox\", \"type\": \"scattermapbox\"}, {\"hoverlabel\": {\"namelength\": 0}, \"hovertemplate\": \"TOWN=Bridgeport<br>Y=%{lat}<br>X=%{lon}\", \"lat\": [41.192561537954894], \"legendgroup\": \"TOWN=Bridgeport\", \"lon\": [-73.1959867493456], \"marker\": {\"color\": \"#00cc96\"}, \"mode\": \"markers\", \"name\": \"TOWN=Bridgeport\", \"showlegend\": true, \"subplot\": \"mapbox\", \"type\": \"scattermapbox\"}, {\"hoverlabel\": {\"namelength\": 0}, \"hovertemplate\": \"TOWN=New Canaan<br>Y=%{lat}<br>X=%{lon}\", \"lat\": [41.159119368569705], \"legendgroup\": \"TOWN=New Canaan\", \"lon\": [-73.49922395167201], \"marker\": {\"color\": \"#ab63fa\"}, \"mode\": \"markers\", \"name\": \"TOWN=New Canaan\", \"showlegend\": true, \"subplot\": \"mapbox\", \"type\": \"scattermapbox\"}, {\"hoverlabel\": {\"namelength\": 0}, \"hovertemplate\": \"TOWN=Westport<br>Y=%{lat}<br>X=%{lon}\", \"lat\": [41.145318674426996], \"legendgroup\": \"TOWN=Westport\", \"lon\": [-73.34649487600929], \"marker\": {\"color\": \"#FFA15A\"}, \"mode\": \"markers\", \"name\": \"TOWN=Westport\", \"showlegend\": true, \"subplot\": \"mapbox\", \"type\": \"scattermapbox\"}, {\"hoverlabel\": {\"namelength\": 0}, \"hovertemplate\": \"TOWN=Stamford<br>Y=%{lat}<br>X=%{lon}\", \"lat\": [41.1050279961402], \"legendgroup\": \"TOWN=Stamford\", \"lon\": [-73.5590370224089], \"marker\": {\"color\": \"#19d3f3\"}, \"mode\": \"markers\", \"name\": \"TOWN=Stamford\", \"showlegend\": true, \"subplot\": \"mapbox\", \"type\": \"scattermapbox\"}, {\"hoverlabel\": {\"namelength\": 0}, \"hovertemplate\": \"TOWN=Norwalk<br>Y=%{lat}<br>X=%{lon}\", \"lat\": [41.1181478024976], \"legendgroup\": \"TOWN=Norwalk\", \"lon\": [-73.422614497081], \"marker\": {\"color\": \"#FF6692\"}, \"mode\": \"markers\", \"name\": \"TOWN=Norwalk\", \"showlegend\": true, \"subplot\": \"mapbox\", \"type\": \"scattermapbox\"}, {\"hoverlabel\": {\"namelength\": 0}, \"hovertemplate\": \"TOWN=Greenwich<br>Y=%{lat}<br>X=%{lon}\", \"lat\": [41.0690824769707], \"legendgroup\": \"TOWN=Greenwich\", \"lon\": [-73.6384674457496], \"marker\": {\"color\": \"#B6E880\"}, \"mode\": \"markers\", \"name\": \"TOWN=Greenwich\", \"showlegend\": true, \"subplot\": \"mapbox\", \"type\": \"scattermapbox\"}, {\"hoverlabel\": {\"namelength\": 0}, \"hovertemplate\": \"TOWN=Darien<br>Y=%{lat}<br>X=%{lon}\", \"lat\": [41.0811456463311], \"legendgroup\": \"TOWN=Darien\", \"lon\": [-73.4823550054125], \"marker\": {\"color\": \"#FF97FF\"}, \"mode\": \"markers\", \"name\": \"TOWN=Darien\", \"showlegend\": true, \"subplot\": \"mapbox\", \"type\": \"scattermapbox\"}],\n",
              "                        {\"legend\": {\"tracegroupgap\": 0}, \"mapbox\": {\"center\": {\"lat\": 41.59301323989665, \"lon\": -72.74188793267645}, \"domain\": {\"x\": [0.0, 1.0], \"y\": [0.0, 1.0]}, \"style\": \"carto-darkmatter\", \"zoom\": 8.25}, \"margin\": {\"t\": 60}, \"template\": {\"data\": {\"bar\": [{\"error_x\": {\"color\": \"#2a3f5f\"}, \"error_y\": {\"color\": \"#2a3f5f\"}, \"marker\": {\"line\": {\"color\": \"#E5ECF6\", \"width\": 0.5}}, \"type\": \"bar\"}], \"barpolar\": [{\"marker\": {\"line\": {\"color\": \"#E5ECF6\", \"width\": 0.5}}, \"type\": \"barpolar\"}], \"carpet\": [{\"aaxis\": {\"endlinecolor\": \"#2a3f5f\", \"gridcolor\": \"white\", \"linecolor\": \"white\", \"minorgridcolor\": \"white\", \"startlinecolor\": \"#2a3f5f\"}, \"baxis\": {\"endlinecolor\": \"#2a3f5f\", \"gridcolor\": \"white\", \"linecolor\": \"white\", \"minorgridcolor\": \"white\", \"startlinecolor\": \"#2a3f5f\"}, \"type\": \"carpet\"}], \"choropleth\": [{\"colorbar\": {\"outlinewidth\": 0, \"ticks\": \"\"}, \"type\": \"choropleth\"}], \"contour\": [{\"colorbar\": {\"outlinewidth\": 0, \"ticks\": \"\"}, \"colorscale\": [[0.0, \"#0d0887\"], [0.1111111111111111, \"#46039f\"], [0.2222222222222222, \"#7201a8\"], [0.3333333333333333, \"#9c179e\"], [0.4444444444444444, \"#bd3786\"], [0.5555555555555556, \"#d8576b\"], [0.6666666666666666, \"#ed7953\"], [0.7777777777777778, \"#fb9f3a\"], [0.8888888888888888, \"#fdca26\"], [1.0, \"#f0f921\"]], \"type\": \"contour\"}], \"contourcarpet\": [{\"colorbar\": {\"outlinewidth\": 0, \"ticks\": \"\"}, \"type\": \"contourcarpet\"}], \"heatmap\": [{\"colorbar\": {\"outlinewidth\": 0, \"ticks\": \"\"}, \"colorscale\": [[0.0, \"#0d0887\"], [0.1111111111111111, \"#46039f\"], [0.2222222222222222, \"#7201a8\"], [0.3333333333333333, \"#9c179e\"], [0.4444444444444444, \"#bd3786\"], [0.5555555555555556, \"#d8576b\"], [0.6666666666666666, \"#ed7953\"], [0.7777777777777778, \"#fb9f3a\"], [0.8888888888888888, \"#fdca26\"], [1.0, \"#f0f921\"]], \"type\": \"heatmap\"}], \"heatmapgl\": [{\"colorbar\": {\"outlinewidth\": 0, \"ticks\": \"\"}, \"colorscale\": [[0.0, \"#0d0887\"], [0.1111111111111111, \"#46039f\"], [0.2222222222222222, \"#7201a8\"], [0.3333333333333333, \"#9c179e\"], [0.4444444444444444, \"#bd3786\"], [0.5555555555555556, \"#d8576b\"], [0.6666666666666666, \"#ed7953\"], [0.7777777777777778, \"#fb9f3a\"], [0.8888888888888888, \"#fdca26\"], [1.0, \"#f0f921\"]], \"type\": \"heatmapgl\"}], \"histogram\": [{\"marker\": {\"colorbar\": {\"outlinewidth\": 0, \"ticks\": \"\"}}, \"type\": \"histogram\"}], \"histogram2d\": [{\"colorbar\": {\"outlinewidth\": 0, \"ticks\": \"\"}, \"colorscale\": [[0.0, \"#0d0887\"], [0.1111111111111111, \"#46039f\"], [0.2222222222222222, \"#7201a8\"], [0.3333333333333333, \"#9c179e\"], [0.4444444444444444, \"#bd3786\"], [0.5555555555555556, \"#d8576b\"], [0.6666666666666666, \"#ed7953\"], [0.7777777777777778, \"#fb9f3a\"], [0.8888888888888888, \"#fdca26\"], [1.0, \"#f0f921\"]], \"type\": \"histogram2d\"}], \"histogram2dcontour\": [{\"colorbar\": {\"outlinewidth\": 0, \"ticks\": \"\"}, \"colorscale\": [[0.0, \"#0d0887\"], [0.1111111111111111, \"#46039f\"], [0.2222222222222222, \"#7201a8\"], [0.3333333333333333, \"#9c179e\"], [0.4444444444444444, \"#bd3786\"], [0.5555555555555556, \"#d8576b\"], [0.6666666666666666, \"#ed7953\"], [0.7777777777777778, \"#fb9f3a\"], [0.8888888888888888, \"#fdca26\"], [1.0, \"#f0f921\"]], \"type\": \"histogram2dcontour\"}], \"mesh3d\": [{\"colorbar\": {\"outlinewidth\": 0, \"ticks\": \"\"}, \"type\": \"mesh3d\"}], \"parcoords\": [{\"line\": {\"colorbar\": {\"outlinewidth\": 0, \"ticks\": \"\"}}, \"type\": \"parcoords\"}], \"pie\": [{\"automargin\": true, \"type\": \"pie\"}], \"scatter\": [{\"marker\": {\"colorbar\": {\"outlinewidth\": 0, \"ticks\": \"\"}}, \"type\": \"scatter\"}], \"scatter3d\": [{\"line\": {\"colorbar\": {\"outlinewidth\": 0, \"ticks\": \"\"}}, \"marker\": {\"colorbar\": {\"outlinewidth\": 0, \"ticks\": \"\"}}, \"type\": \"scatter3d\"}], \"scattercarpet\": [{\"marker\": {\"colorbar\": {\"outlinewidth\": 0, \"ticks\": \"\"}}, \"type\": \"scattercarpet\"}], \"scattergeo\": [{\"marker\": {\"colorbar\": {\"outlinewidth\": 0, \"ticks\": \"\"}}, \"type\": \"scattergeo\"}], \"scattergl\": [{\"marker\": {\"colorbar\": {\"outlinewidth\": 0, \"ticks\": \"\"}}, \"type\": \"scattergl\"}], \"scattermapbox\": [{\"marker\": {\"colorbar\": {\"outlinewidth\": 0, \"ticks\": \"\"}}, \"type\": \"scattermapbox\"}], \"scatterpolar\": [{\"marker\": {\"colorbar\": {\"outlinewidth\": 0, \"ticks\": \"\"}}, \"type\": \"scatterpolar\"}], \"scatterpolargl\": [{\"marker\": {\"colorbar\": {\"outlinewidth\": 0, \"ticks\": \"\"}}, \"type\": \"scatterpolargl\"}], \"scatterternary\": [{\"marker\": {\"colorbar\": {\"outlinewidth\": 0, \"ticks\": \"\"}}, \"type\": \"scatterternary\"}], \"surface\": [{\"colorbar\": {\"outlinewidth\": 0, \"ticks\": \"\"}, \"colorscale\": [[0.0, \"#0d0887\"], [0.1111111111111111, \"#46039f\"], [0.2222222222222222, \"#7201a8\"], [0.3333333333333333, \"#9c179e\"], [0.4444444444444444, \"#bd3786\"], [0.5555555555555556, \"#d8576b\"], [0.6666666666666666, \"#ed7953\"], [0.7777777777777778, \"#fb9f3a\"], [0.8888888888888888, \"#fdca26\"], [1.0, \"#f0f921\"]], \"type\": \"surface\"}], \"table\": [{\"cells\": {\"fill\": {\"color\": \"#EBF0F8\"}, \"line\": {\"color\": \"white\"}}, \"header\": {\"fill\": {\"color\": \"#C8D4E3\"}, \"line\": {\"color\": \"white\"}}, \"type\": \"table\"}]}, \"layout\": {\"annotationdefaults\": {\"arrowcolor\": \"#2a3f5f\", \"arrowhead\": 0, \"arrowwidth\": 1}, \"coloraxis\": {\"colorbar\": {\"outlinewidth\": 0, \"ticks\": \"\"}}, \"colorscale\": {\"diverging\": [[0, \"#8e0152\"], [0.1, \"#c51b7d\"], [0.2, \"#de77ae\"], [0.3, \"#f1b6da\"], [0.4, \"#fde0ef\"], [0.5, \"#f7f7f7\"], [0.6, \"#e6f5d0\"], [0.7, \"#b8e186\"], [0.8, \"#7fbc41\"], [0.9, \"#4d9221\"], [1, \"#276419\"]], \"sequential\": [[0.0, \"#0d0887\"], [0.1111111111111111, \"#46039f\"], [0.2222222222222222, \"#7201a8\"], [0.3333333333333333, \"#9c179e\"], [0.4444444444444444, \"#bd3786\"], [0.5555555555555556, \"#d8576b\"], [0.6666666666666666, \"#ed7953\"], [0.7777777777777778, \"#fb9f3a\"], [0.8888888888888888, \"#fdca26\"], [1.0, \"#f0f921\"]], \"sequentialminus\": [[0.0, \"#0d0887\"], [0.1111111111111111, \"#46039f\"], [0.2222222222222222, \"#7201a8\"], [0.3333333333333333, \"#9c179e\"], [0.4444444444444444, \"#bd3786\"], [0.5555555555555556, \"#d8576b\"], [0.6666666666666666, \"#ed7953\"], [0.7777777777777778, \"#fb9f3a\"], [0.8888888888888888, \"#fdca26\"], [1.0, \"#f0f921\"]]}, \"colorway\": [\"#636efa\", \"#EF553B\", \"#00cc96\", \"#ab63fa\", \"#FFA15A\", \"#19d3f3\", \"#FF6692\", \"#B6E880\", \"#FF97FF\", \"#FECB52\"], \"font\": {\"color\": \"#2a3f5f\"}, \"geo\": {\"bgcolor\": \"white\", \"lakecolor\": \"white\", \"landcolor\": \"#E5ECF6\", \"showlakes\": true, \"showland\": true, \"subunitcolor\": \"white\"}, \"hoverlabel\": {\"align\": \"left\"}, \"hovermode\": \"closest\", \"mapbox\": {\"style\": \"light\"}, \"paper_bgcolor\": \"white\", \"plot_bgcolor\": \"#E5ECF6\", \"polar\": {\"angularaxis\": {\"gridcolor\": \"white\", \"linecolor\": \"white\", \"ticks\": \"\"}, \"bgcolor\": \"#E5ECF6\", \"radialaxis\": {\"gridcolor\": \"white\", \"linecolor\": \"white\", \"ticks\": \"\"}}, \"scene\": {\"xaxis\": {\"backgroundcolor\": \"#E5ECF6\", \"gridcolor\": \"white\", \"gridwidth\": 2, \"linecolor\": \"white\", \"showbackground\": true, \"ticks\": \"\", \"zerolinecolor\": \"white\"}, \"yaxis\": {\"backgroundcolor\": \"#E5ECF6\", \"gridcolor\": \"white\", \"gridwidth\": 2, \"linecolor\": \"white\", \"showbackground\": true, \"ticks\": \"\", \"zerolinecolor\": \"white\"}, \"zaxis\": {\"backgroundcolor\": \"#E5ECF6\", \"gridcolor\": \"white\", \"gridwidth\": 2, \"linecolor\": \"white\", \"showbackground\": true, \"ticks\": \"\", \"zerolinecolor\": \"white\"}}, \"shapedefaults\": {\"line\": {\"color\": \"#2a3f5f\"}}, \"ternary\": {\"aaxis\": {\"gridcolor\": \"white\", \"linecolor\": \"white\", \"ticks\": \"\"}, \"baxis\": {\"gridcolor\": \"white\", \"linecolor\": \"white\", \"ticks\": \"\"}, \"bgcolor\": \"#E5ECF6\", \"caxis\": {\"gridcolor\": \"white\", \"linecolor\": \"white\", \"ticks\": \"\"}}, \"title\": {\"x\": 0.05}, \"xaxis\": {\"automargin\": true, \"gridcolor\": \"white\", \"linecolor\": \"white\", \"ticks\": \"\", \"title\": {\"standoff\": 15}, \"zerolinecolor\": \"white\", \"zerolinewidth\": 2}, \"yaxis\": {\"automargin\": true, \"gridcolor\": \"white\", \"linecolor\": \"white\", \"ticks\": \"\", \"title\": {\"standoff\": 15}, \"zerolinecolor\": \"white\", \"zerolinewidth\": 2}}}, \"title\": {\"text\": \"TOWN MAP\"}},\n",
              "                        {\"scrollZoom\": false, \"responsive\": true}\n",
              "                    ).then(function(){\n",
              "                            \n",
              "var gd = document.getElementById('ab992f36-c319-4d57-afeb-70cba9892cca');\n",
              "var x = new MutationObserver(function (mutations, observer) {{\n",
              "        var display = window.getComputedStyle(gd).display;\n",
              "        if (!display || display === 'none') {{\n",
              "            console.log([gd, 'removed!']);\n",
              "            Plotly.purge(gd);\n",
              "            observer.disconnect();\n",
              "        }}\n",
              "}});\n",
              "\n",
              "// Listen for the removal of the full notebook cells\n",
              "var notebookContainer = gd.closest('#notebook-container');\n",
              "if (notebookContainer) {{\n",
              "    x.observe(notebookContainer, {childList: true});\n",
              "}}\n",
              "\n",
              "// Listen for the clearing of the current output cell\n",
              "var outputEl = gd.closest('.output');\n",
              "if (outputEl) {{\n",
              "    x.observe(outputEl, {childList: true});\n",
              "}}\n",
              "\n",
              "                        })\n",
              "                };\n",
              "                \n",
              "            </script>\n",
              "        </div>\n",
              "</body>\n",
              "</html>"
            ]
          },
          "metadata": {
            "tags": []
          }
        },
        {
          "output_type": "stream",
          "name": "stdout",
          "text": [
            "time: 2.52 s (started: 2021-04-19 15:04:19 +00:00)\n"
          ]
        }
      ],
      "metadata": {
        "colab": {
          "base_uri": "https://localhost:8080/",
          "height": 561
        },
        "id": "q9X1fYOrmhzd",
        "outputId": "8ed80e9d-2a8c-4112-bc89-688f47ecaadd"
      }
    },
    {
      "cell_type": "code",
      "execution_count": null,
      "source": [
        "# X-longitude,Y-latitude \r\n",
        "geogTable = df[['TOWN','X', 'Y']] \r\n",
        "geogTable #verify geogTable"
      ],
      "outputs": [
        {
          "output_type": "execute_result",
          "data": {
            "text/html": [
              "<div>\n",
              "<style scoped>\n",
              "    .dataframe tbody tr th:only-of-type {\n",
              "        vertical-align: middle;\n",
              "    }\n",
              "\n",
              "    .dataframe tbody tr th {\n",
              "        vertical-align: top;\n",
              "    }\n",
              "\n",
              "    .dataframe thead th {\n",
              "        text-align: right;\n",
              "    }\n",
              "</style>\n",
              "<table border=\"1\" class=\"dataframe\">\n",
              "  <thead>\n",
              "    <tr style=\"text-align: right;\">\n",
              "      <th></th>\n",
              "      <th>TOWN</th>\n",
              "      <th>X</th>\n",
              "      <th>Y</th>\n",
              "    </tr>\n",
              "  </thead>\n",
              "  <tbody>\n",
              "    <tr>\n",
              "      <th>0</th>\n",
              "      <td>Salisbury</td>\n",
              "      <td>-73.425651</td>\n",
              "      <td>41.986019</td>\n",
              "    </tr>\n",
              "    <tr>\n",
              "      <th>1</th>\n",
              "      <td>North Canaan</td>\n",
              "      <td>-73.293569</td>\n",
              "      <td>42.022264</td>\n",
              "    </tr>\n",
              "    <tr>\n",
              "      <th>2</th>\n",
              "      <td>Norfolk</td>\n",
              "      <td>-73.196224</td>\n",
              "      <td>41.980145</td>\n",
              "    </tr>\n",
              "    <tr>\n",
              "      <th>3</th>\n",
              "      <td>Colebrook</td>\n",
              "      <td>-73.080811</td>\n",
              "      <td>42.001546</td>\n",
              "    </tr>\n",
              "    <tr>\n",
              "      <th>4</th>\n",
              "      <td>Hartland</td>\n",
              "      <td>-72.948897</td>\n",
              "      <td>42.004293</td>\n",
              "    </tr>\n",
              "    <tr>\n",
              "      <th>...</th>\n",
              "      <td>...</td>\n",
              "      <td>...</td>\n",
              "      <td>...</td>\n",
              "    </tr>\n",
              "    <tr>\n",
              "      <th>164</th>\n",
              "      <td>Westport</td>\n",
              "      <td>-73.346495</td>\n",
              "      <td>41.145319</td>\n",
              "    </tr>\n",
              "    <tr>\n",
              "      <th>165</th>\n",
              "      <td>Stamford</td>\n",
              "      <td>-73.559037</td>\n",
              "      <td>41.105028</td>\n",
              "    </tr>\n",
              "    <tr>\n",
              "      <th>166</th>\n",
              "      <td>Norwalk</td>\n",
              "      <td>-73.422614</td>\n",
              "      <td>41.118148</td>\n",
              "    </tr>\n",
              "    <tr>\n",
              "      <th>167</th>\n",
              "      <td>Greenwich</td>\n",
              "      <td>-73.638467</td>\n",
              "      <td>41.069082</td>\n",
              "    </tr>\n",
              "    <tr>\n",
              "      <th>168</th>\n",
              "      <td>Darien</td>\n",
              "      <td>-73.482355</td>\n",
              "      <td>41.081146</td>\n",
              "    </tr>\n",
              "  </tbody>\n",
              "</table>\n",
              "<p>169 rows × 3 columns</p>\n",
              "</div>"
            ],
            "text/plain": [
              "             TOWN          X          Y\n",
              "0       Salisbury -73.425651  41.986019\n",
              "1    North Canaan -73.293569  42.022264\n",
              "2         Norfolk -73.196224  41.980145\n",
              "3       Colebrook -73.080811  42.001546\n",
              "4        Hartland -72.948897  42.004293\n",
              "..            ...        ...        ...\n",
              "164      Westport -73.346495  41.145319\n",
              "165      Stamford -73.559037  41.105028\n",
              "166       Norwalk -73.422614  41.118148\n",
              "167     Greenwich -73.638467  41.069082\n",
              "168        Darien -73.482355  41.081146\n",
              "\n",
              "[169 rows x 3 columns]"
            ]
          },
          "metadata": {
            "tags": []
          },
          "execution_count": 14
        },
        {
          "output_type": "stream",
          "name": "stdout",
          "text": [
            "time: 41.3 ms (started: 2021-04-19 15:04:21 +00:00)\n"
          ]
        }
      ],
      "metadata": {
        "colab": {
          "base_uri": "https://localhost:8080/",
          "height": 442
        },
        "id": "8pPw4Ng9lXdA",
        "outputId": "019bb239-b0e3-4c12-b89d-59d8c95cece3"
      }
    },
    {
      "cell_type": "code",
      "execution_count": null,
      "source": [
        "#Make a back-up of the original XY data...\r\n",
        "geogTable_orig = geogTable"
      ],
      "outputs": [
        {
          "output_type": "stream",
          "name": "stdout",
          "text": [
            "time: 1.22 ms (started: 2021-04-19 15:04:21 +00:00)\n"
          ]
        }
      ],
      "metadata": {
        "id": "CpLcxr36mdL-",
        "colab": {
          "base_uri": "https://localhost:8080/"
        },
        "outputId": "90b13564-7a53-427d-f2a7-a5b4d9ac4ee2"
      }
    },
    {
      "cell_type": "code",
      "execution_count": null,
      "source": [
        "#2D map of the cities...\r\n",
        "geogTable.plot.scatter(x='X', y='Y') #x=long,Y=lat here\r\n",
        "plt.show()"
      ],
      "outputs": [
        {
          "output_type": "display_data",
          "data": {
            "image/png": "[encoded data removed]",
            "text/plain": [
              "<Figure size 432x288 with 1 Axes>"
            ]
          },
          "metadata": {
            "tags": [],
            "needs_background": "light"
          }
        },
        {
          "output_type": "stream",
          "name": "stdout",
          "text": [
            "time: 213 ms (started: 2021-04-19 15:04:21 +00:00)\n"
          ]
        }
      ],
      "metadata": {
        "colab": {
          "base_uri": "https://localhost:8080/",
          "height": 298
        },
        "id": "mwKif3Nsnop0",
        "outputId": "dab2a3c3-a172-4201-bf15-4e5c5090c77d"
      }
    },
    {
      "cell_type": "markdown",
      "source": [
        "Check your work!"
      ],
      "metadata": {
        "id": "-_9IYRsM10Hv"
      }
    },
    {
      "cell_type": "markdown",
      "source": [
        "## **USING OR TOOLS:**"
      ],
      "metadata": {
        "id": "WVbtKWGl3HuM"
      }
    },
    {
      "cell_type": "markdown",
      "source": [
        "OR-Tools is open source software for combinatorial optimization, which seeks to find the best solution to a problem out of a very large set of possible solutions. "
      ],
      "metadata": {
        "id": "zuuBceoHHIZ7"
      }
    },
    {
      "cell_type": "markdown",
      "source": [
        "##### Install OR TOOLS package"
      ],
      "metadata": {
        "id": "sCUyFrpW533v"
      }
    },
    {
      "cell_type": "code",
      "execution_count": null,
      "source": [
        "!pip install ortools"
      ],
      "outputs": [
        {
          "output_type": "stream",
          "name": "stdout",
          "text": [
            "Collecting ortools\n",
            "\u001b[?25l  Downloading https://files.pythonhosted.org/packages/8f/df/aff5a745ab55d95fcf50ec3c0aa8cbb370f807692eb818cfcda7062d607a/ortools-8.2.8710-cp37-cp37m-manylinux1_x86_64.whl (14.2MB)\n",
            "\u001b[K     |████████████████████████████████| 14.2MB 281kB/s \n",
            "\u001b[?25hRequirement already satisfied: absl-py>=0.11 in /usr/local/lib/python3.7/dist-packages (from ortools) (0.12.0)\n",
            "Collecting protobuf>=3.14.0\n",
            "\u001b[?25l  Downloading https://files.pythonhosted.org/packages/51/4e/de63de3cd9a83d3c1753a4566b11fc9d90b845f2448a132cfd36d3cb3cd1/protobuf-3.15.8-cp37-cp37m-manylinux1_x86_64.whl (1.0MB)\n",
            "\u001b[K     |████████████████████████████████| 1.0MB 42.4MB/s \n",
            "\u001b[?25hRequirement already satisfied: six in /usr/local/lib/python3.7/dist-packages (from absl-py>=0.11->ortools) (1.15.0)\n",
            "Installing collected packages: protobuf, ortools\n",
            "  Found existing installation: protobuf 3.12.4\n",
            "    Uninstalling protobuf-3.12.4:\n",
            "      Successfully uninstalled protobuf-3.12.4\n",
            "Successfully installed ortools-8.2.8710 protobuf-3.15.8\n"
          ]
        },
        {
          "output_type": "display_data",
          "data": {
            "application/vnd.colab-display-data+json": {
              "pip_warning": {
                "packages": [
                  "google"
                ]
              }
            }
          },
          "metadata": {
            "tags": []
          }
        },
        {
          "output_type": "stream",
          "name": "stdout",
          "text": [
            "time: 10.7 s (started: 2021-04-19 15:04:22 +00:00)\n"
          ]
        }
      ],
      "metadata": {
        "id": "Ql_3whuJ5L1O",
        "colab": {
          "base_uri": "https://localhost:8080/",
          "height": 390
        },
        "outputId": "498889e3-22c4-4309-a6ec-ccedadbf984a"
      }
    },
    {
      "cell_type": "markdown",
      "source": [
        " Traveling Salesman Problem is a model of simple Vehicle Routing Problem with one Vehicle and no Depot "
      ],
      "metadata": {
        "id": "MrCz25LQ7QTL"
      }
    },
    {
      "cell_type": "code",
      "execution_count": null,
      "source": [
        "from sklearn.metrics.pairwise import manhattan_distances\r\n",
        "# got the same result!\r\n",
        "# you can just call this df and reference it below for data\r\n",
        "geogDist1=np.round(manhattan_distances(geogTable[['X', 'Y']])* 6371000/1000)  # multiply by Earth radius to get kilometers\r\n",
        "#we rounded the value to compare the resullt with other solvers"
      ],
      "outputs": [
        {
          "output_type": "stream",
          "name": "stdout",
          "text": [
            "time: 7.8 ms (started: 2021-04-19 15:04:32 +00:00)\n"
          ]
        }
      ],
      "metadata": {
        "id": "mLSnpmZ0ynh3",
        "colab": {
          "base_uri": "https://localhost:8080/"
        },
        "outputId": "d89ae000-38ad-4bea-d74e-9d4518d09253"
      }
    },
    {
      "cell_type": "markdown",
      "source": [
        "\n",
        "####Import Google OR tools solver packages"
      ],
      "metadata": {
        "id": "A5yU9QnhkvPS"
      }
    },
    {
      "cell_type": "code",
      "execution_count": null,
      "source": [
        "# [START import]\r\n",
        "\r\n",
        "from ortools.constraint_solver import routing_enums_pb2\r\n",
        "from ortools.constraint_solver import pywrapcp\r\n",
        "\r\n",
        "# [END import]"
      ],
      "outputs": [
        {
          "output_type": "stream",
          "name": "stdout",
          "text": [
            "time: 237 ms (started: 2021-04-19 15:04:32 +00:00)\n"
          ]
        }
      ],
      "metadata": {
        "id": "u6KZP8I1kqU7",
        "colab": {
          "base_uri": "https://localhost:8080/"
        },
        "outputId": "45f17935-01d4-4a6c-dfb2-a28efafab938"
      }
    },
    {
      "cell_type": "markdown",
      "source": [
        "#### Create Distance matrix "
      ],
      "metadata": {
        "id": "fukU6oWzk97X"
      }
    },
    {
      "cell_type": "code",
      "execution_count": null,
      "source": [
        "# [START data_model]\r\n",
        "\r\n",
        "def create_data_model():\r\n",
        "    \"\"\"Stores the data for the problem.\"\"\"\r\n",
        "    data = {}\r\n",
        "    data['distance_matrix'] = geogDist1 #cost matrix\r\n",
        "    data['num_vehicles'] = 1 #one vehicle\r\n",
        "    data['depot'] = 0 #no depot\r\n",
        "    return data\r\n",
        "\r\n",
        "# [END data_model]"
      ],
      "outputs": [
        {
          "output_type": "stream",
          "name": "stdout",
          "text": [
            "time: 5.04 ms (started: 2021-04-19 15:04:33 +00:00)\n"
          ]
        }
      ],
      "metadata": {
        "id": "yW3RSJj0k80R",
        "colab": {
          "base_uri": "https://localhost:8080/"
        },
        "outputId": "c0f2eff5-c522-4c09-85c2-6e85f62a1ef7"
      }
    },
    {
      "cell_type": "markdown",
      "source": [
        "#### Solution print function"
      ],
      "metadata": {
        "id": "ZcJNHtmYlJYj"
      }
    },
    {
      "cell_type": "code",
      "execution_count": null,
      "source": [
        "# [START solution_printer]\r\n",
        "\r\n",
        "def print_solution(manager, routing, solution):\r\n",
        "    \"\"\"Prints solution on console.\"\"\"\r\n",
        "    print('Objective: {} km'.format(solution.ObjectiveValue())) #printing objective function\r\n",
        "    index = routing.Start(0)\r\n",
        "    plan_output = 'Route for vehicle 0:\\n'\r\n",
        "    route_distance = 0\r\n",
        "    tsp=[] #solution matrix\r\n",
        "    while not routing.IsEnd(index):\r\n",
        "        plan_output += ' {} ->'.format(manager.IndexToNode(index))\r\n",
        "        tsp.append(manager.IndexToNode(index)) #adding solution\r\n",
        "        previous_index = index\r\n",
        "        index = solution.Value(routing.NextVar(index))\r\n",
        "        route_distance += routing.GetArcCostForVehicle(previous_index, index, 0)\r\n",
        "    plan_output += ' {}\\n'.format(manager.IndexToNode(index))\r\n",
        "    print(plan_output)\r\n",
        "    plan_output += 'Route distance: {}km\\n'.format(route_distance)\r\n",
        "    return tsp\r\n",
        "\r\n",
        "# [END solution_printer]"
      ],
      "outputs": [
        {
          "output_type": "stream",
          "name": "stdout",
          "text": [
            "time: 14.7 ms (started: 2021-04-19 15:04:33 +00:00)\n"
          ]
        }
      ],
      "metadata": {
        "id": "GEWrtfKilK9Y",
        "colab": {
          "base_uri": "https://localhost:8080/"
        },
        "outputId": "ffb7b428-2736-41eb-beb3-9fab026b84e2"
      }
    },
    {
      "cell_type": "markdown",
      "source": [
        "####Create a model"
      ],
      "metadata": {
        "id": "jw1d0qDYlXYL"
      }
    },
    {
      "cell_type": "code",
      "execution_count": null,
      "source": [
        "# Instantiate the data problem.\r\n",
        "# [START data]\r\n",
        "\r\n",
        "data = create_data_model() # create model\r\n",
        "\r\n",
        "# [END data]"
      ],
      "outputs": [
        {
          "output_type": "stream",
          "name": "stdout",
          "text": [
            "time: 1.95 ms (started: 2021-04-19 15:04:33 +00:00)\n"
          ]
        }
      ],
      "metadata": {
        "id": "e-AvfKG_laim",
        "colab": {
          "base_uri": "https://localhost:8080/"
        },
        "outputId": "b72a83d3-03d4-4be2-e05a-47d975d56816"
      }
    },
    {
      "cell_type": "markdown",
      "source": [
        "#### Create the Routing Index Manager and Routing Model."
      ],
      "metadata": {
        "id": "JDOGkDxMnugH"
      }
    },
    {
      "cell_type": "code",
      "execution_count": null,
      "source": [
        "# Create the routing index manager.\r\n",
        "# [START index_manager]\r\n",
        "\r\n",
        "manager = pywrapcp.RoutingIndexManager(len(data['distance_matrix']),\r\n",
        "                                       data['num_vehicles'], data['depot'])\r\n",
        "\r\n",
        "# [END index_manager]\r\n",
        "\r\n",
        "# Create Routing Model.\r\n",
        "# [START routing_model]\r\n",
        "\r\n",
        "routing = pywrapcp.RoutingModel(manager)\r\n",
        "\r\n",
        "# [END routing_model]"
      ],
      "outputs": [
        {
          "output_type": "stream",
          "name": "stdout",
          "text": [
            "time: 7.07 ms (started: 2021-04-19 15:04:33 +00:00)\n"
          ]
        }
      ],
      "metadata": {
        "id": "2bzC6opLqBic",
        "colab": {
          "base_uri": "https://localhost:8080/"
        },
        "outputId": "70929dab-7acc-47a3-c67c-719c44d81eea"
      }
    },
    {
      "cell_type": "markdown",
      "source": [
        "####Link nodes with distance and a callback"
      ],
      "metadata": {
        "id": "DaKB4cJlqYdh"
      }
    },
    {
      "cell_type": "code",
      "execution_count": null,
      "source": [
        "# [START transit_callback]\r\n",
        "\r\n",
        "def distance_callback(from_index, to_index):\r\n",
        "    \"\"\"Returns the distance between the two nodes.\"\"\"\r\n",
        "    # Convert from routing variable Index to distance matrix Node Index.\r\n",
        "    from_node = manager.IndexToNode(from_index) #link nodes with distance\r\n",
        "    to_node = manager.IndexToNode(to_index)     #new distance matrix that OR tools understand\r\n",
        "    return data['distance_matrix'][from_node][to_node]\r\n",
        "\r\n",
        "#set a callback to the distance or cost function\r\n",
        "transit_callback_index = routing.RegisterTransitCallback(distance_callback) \r\n",
        "# [END transit_callback]"
      ],
      "outputs": [
        {
          "output_type": "stream",
          "name": "stdout",
          "text": [
            "time: 5.68 ms (started: 2021-04-19 15:04:33 +00:00)\n"
          ]
        }
      ],
      "metadata": {
        "id": "ggIgLFCrqYEG",
        "colab": {
          "base_uri": "https://localhost:8080/"
        },
        "outputId": "a10d7791-4613-494a-d2a7-e9b6295b69e7"
      }
    },
    {
      "cell_type": "markdown",
      "source": [
        "#### Define cost of each arc."
      ],
      "metadata": {
        "id": "JaE17HNkq09s"
      }
    },
    {
      "cell_type": "code",
      "execution_count": null,
      "source": [
        "# Define cost of each arc.\r\n",
        "# [START arc_cost]\r\n",
        "\r\n",
        "routing.SetArcCostEvaluatorOfAllVehicles(transit_callback_index) #use that callback to configure the objective heuristic(cost)\r\n",
        "\r\n",
        "# [END arc_cost]"
      ],
      "outputs": [
        {
          "output_type": "stream",
          "name": "stdout",
          "text": [
            "time: 2.24 ms (started: 2021-04-19 15:04:33 +00:00)\n"
          ]
        }
      ],
      "metadata": {
        "id": "zk54y3nBq0VE",
        "colab": {
          "base_uri": "https://localhost:8080/"
        },
        "outputId": "bbdfdd79-26f8-4382-f54d-76d1ea2c9bf7"
      }
    },
    {
      "cell_type": "markdown",
      "source": [
        "#### Setting first solution heuristic"
      ],
      "metadata": {
        "id": "KG03wAnDeiGj"
      }
    },
    {
      "cell_type": "markdown",
      "source": [
        "######FirstSolutionStrategy options\n",
        "\n",
        "https://developers.google.com/optimization/routing/routing_options#first_sol_options"
      ],
      "metadata": {
        "id": "bynins2_9LDm"
      }
    },
    {
      "cell_type": "code",
      "execution_count": null,
      "source": [
        "# search_parameters = pywrapcp.DefaultRoutingSearchParameters() #setting default parameters for TSP   #more options in VRP \r\n",
        "# search_parameters.first_solution_strategy = (routing_enums_pb2.FirstSolutionStrategy.AUTOMATIC) # set it to AUTOMATIC mode for strategy "
      ],
      "outputs": [
        {
          "output_type": "stream",
          "name": "stdout",
          "text": [
            "time: 1.61 ms (started: 2021-04-19 15:04:33 +00:00)\n"
          ]
        }
      ],
      "metadata": {
        "id": "VFKIWD2lYCpu",
        "colab": {
          "base_uri": "https://localhost:8080/"
        },
        "outputId": "3f83ebd3-7bdc-4e23-9de2-208f1cbf17da"
      }
    },
    {
      "cell_type": "markdown",
      "source": [
        "Option | \tDescription\n",
        "-|-\n",
        "AUTOMATIC |\tLets the solver detect which strategy to use according to the model being solved.\n",
        "PATH_CHEAPEST_ARC |\tStarting from a route \"start\" node, connect it to the node which produces the cheapest route segment, then extend the route by iterating on the last node added to the route.\n",
        "PATH_MOST_CONSTRAINED_ARC |\tSimilar to PATH_CHEAPEST_ARC, but arcs are evaluated with a comparison-based selector which will favor the most constrained arc first. To assign a selector to the routing model, use the method ArcIsMoreConstrainedThanArc().\n",
        "EVALUATOR_STRATEGY |\tSimilar to PATH_CHEAPEST_ARC, except that arc costs are evaluated using the function passed to SetFirstSolutionEvaluator().\n",
        "SAVINGS | \tSavings algorithm (Clarke & Wright). Reference: Clarke, G. & Wright, J.W.: \"Scheduling of Vehicles from a Central Depot to a Number of Delivery Points\", Operations Research, Vol. 12, 1964, pp. 568-581.\n",
        "SWEEP |\tSweep algorithm (Wren & Holliday). Reference: Anthony Wren & Alan Holliday: Computer Scheduling of Vehicles from One or More Depots to a Number of Delivery Points Operational Research Quarterly (1970-1977), Vol. 23, No. 3 (Sep., 1972), pp. 333-344.\n",
        "CHRISTOFIDES | \tChristofides algorithm (actually a variant of the Christofides algorithm using a maximal matching instead of a maximum matching, which does not guarantee the 3/2 factor of the approximation on a metric travelling salesman). Works on generic vehicle routing models by extending a route until no nodes can be inserted on it. Reference: Nicos Christofides, Worst-case analysis of a new heuristic for the travelling salesman problem, Report 388, Graduate School of Industrial Administration, CMU, 1976.\n",
        "ALL_UNPERFORMED |\tMake all nodes inactive. Only finds a solution if nodes are optional (are element of a disjunction constraint with a finite penalty cost).\n",
        "BEST_INSERTION |\tIteratively build a solution by inserting the cheapest node at its cheapest position; the cost of insertion is based on the global cost function of the routing model. As of 2/2012, only works on models with optional nodes (with finite penalty costs).\n",
        "PARALLEL_CHEAPEST_INSERTION |\tIteratively build a solution by inserting the cheapest node at its cheapest position; the cost of insertion is based on the arc cost function. Is faster than BEST_INSERTION.\n",
        "LOCAL_CHEAPEST_INSERTION |\tIteratively build a solution by inserting each node at its cheapest position; the cost of insertion is based on the arc cost function. Differs from PARALLEL_CHEAPEST_INSERTION  by the node selected for insertion; here nodes are considered in their order of creation. Is faster than PARALLEL_CHEAPEST_INSERTION.\n",
        "GLOBAL_CHEAPEST_ARC |\tIteratively connect two nodes which produce the cheapest route segment.\n",
        "LOCAL_CHEAPEST_ARC |\tSelect the first node with an unbound successor and connect it to the node which produces the cheapest route segment.\n",
        "FIRST_UNBOUND_MIN_VALUE |\tSelect the first node with an unbound successor and connect it to the first available node. This is equivalent to the CHOOSE_FIRST_UNBOUND strategy combined with ASSIGN_MIN_VALUE (cf. constraint_solver.h)."
      ],
      "metadata": {
        "id": "QqWI6uVA9Xmh"
      }
    },
    {
      "cell_type": "markdown",
      "source": [
        "######Local search options \n",
        "\n",
        "https://developers.google.com/optimization/routing/routing_options#local_search_options"
      ],
      "metadata": {
        "id": "tbPBcezG-LtH"
      }
    },
    {
      "cell_type": "code",
      "execution_count": null,
      "source": [
        "search_parameters = pywrapcp.DefaultRoutingSearchParameters()\r\n",
        "search_parameters.local_search_metaheuristic = (\r\n",
        "    routing_enums_pb2.LocalSearchMetaheuristic.AUTOMATIC)\r\n",
        "search_parameters.time_limit.seconds = 30\r\n",
        "search_parameters.log_search = True"
      ],
      "outputs": [
        {
          "output_type": "stream",
          "name": "stdout",
          "text": [
            "time: 9.67 ms (started: 2021-04-19 15:04:33 +00:00)\n"
          ]
        }
      ],
      "metadata": {
        "id": "Y0EtgdVFW9AY",
        "colab": {
          "base_uri": "https://localhost:8080/"
        },
        "outputId": "69e9defe-27c2-48fc-a170-1d0dfd8c8dc1"
      }
    },
    {
      "cell_type": "markdown",
      "source": [
        "Option |\tDescription\n",
        "-|-\n",
        "AUTOMATIC |\tLets the solver select the metaheuristic.\n",
        "GREEDY_DESCENT |\tAccepts improving (cost-reducing) local search neighbors until a local minimum is reached.\n",
        "GUIDED_LOCAL_SEARCH  |\tUses guided local search to escape local minima (cf. http://en.wikipedia.org/wiki/Guided_Local_Search); this is generally the most efficient metaheuristic for vehicle routing.\n",
        "SIMULATED_ANNEALING  |\tUses simulated annealing to escape local minima (cf. http://en.wikipedia.org/wiki/Simulated_annealing).\n",
        "TABU_SEARCH |\tUses tabu search to escape local minima (cf. http://en.wikipedia.org/wiki/Tabu_search).\n",
        "OBJECTIVE_TABU_SEARCH  |\tUses tabu search on the objective value of solution to escape local minima"
      ],
      "metadata": {
        "id": "Ng8ee2WC9--j"
      }
    },
    {
      "cell_type": "code",
      "execution_count": null,
      "source": [
        "# [START parameters]\r\n",
        "\r\n",
        "search_parameters = pywrapcp.DefaultRoutingSearchParameters() #setting default parameters for TSP   #more options in VRP \r\n",
        "search_parameters.first_solution_strategy = (routing_enums_pb2.FirstSolutionStrategy.AUTOMATIC) # set it to AUTOMATIC mode for strategy \r\n",
        "    \r\n",
        "#more strategies:https://developers.google.com/optimization/routing/routing_options#local_search_options\r\n",
        "\r\n",
        "# [END parameters]\r\n"
      ],
      "outputs": [
        {
          "output_type": "stream",
          "name": "stdout",
          "text": [
            "time: 3.88 ms (started: 2021-04-19 15:04:33 +00:00)\n"
          ]
        }
      ],
      "metadata": {
        "colab": {
          "base_uri": "https://localhost:8080/"
        },
        "id": "r365otcNea2i",
        "outputId": "bb53bc06-fa84-48cf-8a29-dcebf141afff"
      }
    },
    {
      "cell_type": "markdown",
      "source": [
        "#### Solve the problem."
      ],
      "metadata": {
        "id": "QOP07zX6-m4x"
      }
    },
    {
      "cell_type": "code",
      "execution_count": null,
      "source": [
        "# [START solve]\r\n",
        "\r\n",
        "# Solve the problem.\r\n",
        "solution = routing.SolveWithParameters(search_parameters) #solve with those parameters\r\n",
        "\r\n",
        "# [END solve]\r\n"
      ],
      "outputs": [
        {
          "output_type": "stream",
          "name": "stdout",
          "text": [
            "time: 1.14 s (started: 2021-04-19 15:04:33 +00:00)\n"
          ]
        }
      ],
      "metadata": {
        "colab": {
          "base_uri": "https://localhost:8080/"
        },
        "id": "Np-A6xuN-kM9",
        "outputId": "212d60bb-6bef-4631-ce11-29cfcf7bc871"
      }
    },
    {
      "cell_type": "markdown",
      "source": [
        "#### Print solution "
      ],
      "metadata": {
        "id": "n-ZCxI2x-u4Y"
      }
    },
    {
      "cell_type": "code",
      "execution_count": null,
      "source": [
        "# [START print_solution]\r\n",
        "\r\n",
        "#use the print function generated before to print the solution & add to tsp array\r\n",
        "if solution:\r\n",
        "    tsp=print_solution(manager, routing, solution) \r\n",
        "\r\n",
        "# [END print_solution]"
      ],
      "outputs": [
        {
          "output_type": "stream",
          "name": "stdout",
          "text": [
            "Objective: 114768 km\n",
            "Route for vehicle 0:\n",
            " 0 -> 26 -> 29 -> 53 -> 52 -> 76 -> 79 -> 106 -> 121 -> 141 -> 160 -> 163 -> 165 -> 167 -> 168 -> 166 -> 164 -> 161 -> 162 -> 159 -> 157 -> 154 -> 155 -> 148 -> 122 -> 128 -> 144 -> 153 -> 133 -> 130 -> 126 -> 124 -> 129 -> 136 -> 149 -> 151 -> 150 -> 140 -> 125 -> 143 -> 123 -> 132 -> 139 -> 135 -> 127 -> 108 -> 87 -> 85 -> 54 -> 56 -> 58 -> 84 -> 99 -> 117 -> 109 -> 97 -> 94 -> 81 -> 80 -> 69 -> 62 -> 59 -> 60 -> 41 -> 42 -> 32 -> 23 -> 12 -> 11 -> 30 -> 17 -> 10 -> 9 -> 24 -> 19 -> 18 -> 40 -> 39 -> 38 -> 57 -> 63 -> 91 -> 104 -> 105 -> 110 -> 86 -> 74 -> 61 -> 89 -> 90 -> 96 -> 103 -> 115 -> 113 -> 98 -> 83 -> 82 -> 102 -> 107 -> 119 -> 137 -> 145 -> 146 -> 134 -> 120 -> 111 -> 92 -> 88 -> 77 -> 100 -> 116 -> 114 -> 118 -> 138 -> 142 -> 156 -> 152 -> 158 -> 147 -> 131 -> 112 -> 101 -> 71 -> 95 -> 93 -> 78 -> 67 -> 51 -> 50 -> 72 -> 70 -> 66 -> 45 -> 43 -> 55 -> 73 -> 68 -> 65 -> 75 -> 64 -> 46 -> 48 -> 49 -> 37 -> 44 -> 47 -> 36 -> 20 -> 8 -> 7 -> 22 -> 21 -> 6 -> 25 -> 33 -> 14 -> 5 -> 28 -> 27 -> 34 -> 15 -> 4 -> 3 -> 16 -> 35 -> 31 -> 2 -> 1 -> 13 -> 0\n",
            "\n",
            "time: 6 ms (started: 2021-04-19 15:04:34 +00:00)\n"
          ]
        }
      ],
      "metadata": {
        "colab": {
          "base_uri": "https://localhost:8080/"
        },
        "id": "G2btvZzw-tol",
        "outputId": "24117dd4-56c5-4655-e791-9122b0c164bb"
      }
    },
    {
      "cell_type": "code",
      "execution_count": null,
      "source": [
        "tsp=np.array(tsp) \r\n",
        "tsp #solution array"
      ],
      "outputs": [
        {
          "output_type": "execute_result",
          "data": {
            "text/plain": [
              "array([  0,  26,  29,  53,  52,  76,  79, 106, 121, 141, 160, 163, 165,\n",
              "       167, 168, 166, 164, 161, 162, 159, 157, 154, 155, 148, 122, 128,\n",
              "       144, 153, 133, 130, 126, 124, 129, 136, 149, 151, 150, 140, 125,\n",
              "       143, 123, 132, 139, 135, 127, 108,  87,  85,  54,  56,  58,  84,\n",
              "        99, 117, 109,  97,  94,  81,  80,  69,  62,  59,  60,  41,  42,\n",
              "        32,  23,  12,  11,  30,  17,  10,   9,  24,  19,  18,  40,  39,\n",
              "        38,  57,  63,  91, 104, 105, 110,  86,  74,  61,  89,  90,  96,\n",
              "       103, 115, 113,  98,  83,  82, 102, 107, 119, 137, 145, 146, 134,\n",
              "       120, 111,  92,  88,  77, 100, 116, 114, 118, 138, 142, 156, 152,\n",
              "       158, 147, 131, 112, 101,  71,  95,  93,  78,  67,  51,  50,  72,\n",
              "        70,  66,  45,  43,  55,  73,  68,  65,  75,  64,  46,  48,  49,\n",
              "        37,  44,  47,  36,  20,   8,   7,  22,  21,   6,  25,  33,  14,\n",
              "         5,  28,  27,  34,  15,   4,   3,  16,  35,  31,   2,   1,  13])"
            ]
          },
          "metadata": {
            "tags": []
          },
          "execution_count": 31
        },
        {
          "output_type": "stream",
          "name": "stdout",
          "text": [
            "time: 5.14 ms (started: 2021-04-19 15:04:34 +00:00)\n"
          ]
        }
      ],
      "metadata": {
        "colab": {
          "base_uri": "https://localhost:8080/"
        },
        "id": "9vquUa0h8YZP",
        "outputId": "c5913fd9-3035-4e60-9d17-693b98a7b1c5"
      }
    },
    {
      "cell_type": "code",
      "execution_count": null,
      "source": [
        "# now reindex the original data\r\n",
        "geogTable_orig2 = geogTable_orig.reindex(tsp)\r\n",
        "#geogTable_orig2.loc[23,:]=geogTable_orig2.iloc[0,:]\r\n",
        "geogTable_orig2=geogTable_orig2.append(geogTable_orig2.iloc[0,:]) # please notice this change\r\n",
        "geogTable_orig2"
      ],
      "outputs": [
        {
          "output_type": "execute_result",
          "data": {
            "text/html": [
              "<div>\n",
              "<style scoped>\n",
              "    .dataframe tbody tr th:only-of-type {\n",
              "        vertical-align: middle;\n",
              "    }\n",
              "\n",
              "    .dataframe tbody tr th {\n",
              "        vertical-align: top;\n",
              "    }\n",
              "\n",
              "    .dataframe thead th {\n",
              "        text-align: right;\n",
              "    }\n",
              "</style>\n",
              "<table border=\"1\" class=\"dataframe\">\n",
              "  <thead>\n",
              "    <tr style=\"text-align: right;\">\n",
              "      <th></th>\n",
              "      <th>TOWN</th>\n",
              "      <th>X</th>\n",
              "      <th>Y</th>\n",
              "    </tr>\n",
              "  </thead>\n",
              "  <tbody>\n",
              "    <tr>\n",
              "      <th>0</th>\n",
              "      <td>Salisbury</td>\n",
              "      <td>-73.425651</td>\n",
              "      <td>41.986019</td>\n",
              "    </tr>\n",
              "    <tr>\n",
              "      <th>26</th>\n",
              "      <td>Sharon</td>\n",
              "      <td>-73.437617</td>\n",
              "      <td>41.857504</td>\n",
              "    </tr>\n",
              "    <tr>\n",
              "      <th>29</th>\n",
              "      <td>Cornwall</td>\n",
              "      <td>-73.329834</td>\n",
              "      <td>41.847490</td>\n",
              "    </tr>\n",
              "    <tr>\n",
              "      <th>53</th>\n",
              "      <td>Warren</td>\n",
              "      <td>-73.344878</td>\n",
              "      <td>41.740547</td>\n",
              "    </tr>\n",
              "    <tr>\n",
              "      <th>52</th>\n",
              "      <td>Kent</td>\n",
              "      <td>-73.453978</td>\n",
              "      <td>41.729900</td>\n",
              "    </tr>\n",
              "    <tr>\n",
              "      <th>...</th>\n",
              "      <td>...</td>\n",
              "      <td>...</td>\n",
              "      <td>...</td>\n",
              "    </tr>\n",
              "    <tr>\n",
              "      <th>31</th>\n",
              "      <td>Goshen</td>\n",
              "      <td>-73.233558</td>\n",
              "      <td>41.850099</td>\n",
              "    </tr>\n",
              "    <tr>\n",
              "      <th>2</th>\n",
              "      <td>Norfolk</td>\n",
              "      <td>-73.196224</td>\n",
              "      <td>41.980145</td>\n",
              "    </tr>\n",
              "    <tr>\n",
              "      <th>1</th>\n",
              "      <td>North Canaan</td>\n",
              "      <td>-73.293569</td>\n",
              "      <td>42.022264</td>\n",
              "    </tr>\n",
              "    <tr>\n",
              "      <th>13</th>\n",
              "      <td>Canaan</td>\n",
              "      <td>-73.310044</td>\n",
              "      <td>41.959882</td>\n",
              "    </tr>\n",
              "    <tr>\n",
              "      <th>0</th>\n",
              "      <td>Salisbury</td>\n",
              "      <td>-73.425651</td>\n",
              "      <td>41.986019</td>\n",
              "    </tr>\n",
              "  </tbody>\n",
              "</table>\n",
              "<p>170 rows × 3 columns</p>\n",
              "</div>"
            ],
            "text/plain": [
              "            TOWN          X          Y\n",
              "0      Salisbury -73.425651  41.986019\n",
              "26        Sharon -73.437617  41.857504\n",
              "29      Cornwall -73.329834  41.847490\n",
              "53        Warren -73.344878  41.740547\n",
              "52          Kent -73.453978  41.729900\n",
              "..           ...        ...        ...\n",
              "31        Goshen -73.233558  41.850099\n",
              "2        Norfolk -73.196224  41.980145\n",
              "1   North Canaan -73.293569  42.022264\n",
              "13        Canaan -73.310044  41.959882\n",
              "0      Salisbury -73.425651  41.986019\n",
              "\n",
              "[170 rows x 3 columns]"
            ]
          },
          "metadata": {
            "tags": []
          },
          "execution_count": 32
        },
        {
          "output_type": "stream",
          "name": "stdout",
          "text": [
            "time: 44.4 ms (started: 2021-04-19 15:04:34 +00:00)\n"
          ]
        }
      ],
      "metadata": {
        "colab": {
          "base_uri": "https://localhost:8080/",
          "height": 442
        },
        "id": "4JjW_7bQ-iCI",
        "outputId": "32bc5f8b-c20c-4643-f8e7-fec165d34598"
      }
    },
    {
      "cell_type": "markdown",
      "source": [
        "### Visualize the solution"
      ],
      "metadata": {
        "id": "LWXt0JSN_m7V"
      }
    },
    {
      "cell_type": "code",
      "execution_count": null,
      "source": [
        "mean(geogTable_orig2['X']) #for center of Map-mean longitude"
      ],
      "outputs": [
        {
          "output_type": "execute_result",
          "data": {
            "text/plain": [
              "-72.74591006587731"
            ]
          },
          "metadata": {
            "tags": []
          },
          "execution_count": 33
        },
        {
          "output_type": "stream",
          "name": "stdout",
          "text": [
            "time: 4.8 ms (started: 2021-04-19 15:04:34 +00:00)\n"
          ]
        }
      ],
      "metadata": {
        "colab": {
          "base_uri": "https://localhost:8080/"
        },
        "id": "ZG5Ls-Cy-iCM",
        "outputId": "f8807606-093d-4091-b2c0-2ccfa08212d1"
      }
    },
    {
      "cell_type": "code",
      "execution_count": null,
      "source": [
        "mean(geogTable_orig2['Y']) #for center of Map-mean latitude"
      ],
      "outputs": [
        {
          "output_type": "execute_result",
          "data": {
            "text/plain": [
              "41.59532503780617"
            ]
          },
          "metadata": {
            "tags": []
          },
          "execution_count": 34
        },
        {
          "output_type": "stream",
          "name": "stdout",
          "text": [
            "time: 4.54 ms (started: 2021-04-19 15:04:34 +00:00)\n"
          ]
        }
      ],
      "metadata": {
        "colab": {
          "base_uri": "https://localhost:8080/"
        },
        "id": "1f0jf7S8-iCM",
        "outputId": "25f8e310-742e-44b7-d8bc-aa85df8831d0"
      }
    },
    {
      "cell_type": "code",
      "execution_count": null,
      "source": [
        "fig = go.Figure(go.Scattermapbox(\r\n",
        "    mode = \"markers+lines\",\r\n",
        "    lon = geogTable_orig2['X'],\r\n",
        "    lat = geogTable_orig2['Y'],\r\n",
        "    name=\"Main Route\",\r\n",
        "    hovertext=geogTable_orig2['TOWN'],\r\n",
        "    marker = {'size': 10}))\r\n",
        "\r\n",
        "for i in range(len(geogTable_orig2)):\r\n",
        "  fig.add_trace(go.Scattermapbox(\r\n",
        "    mode = \"markers+lines\",\r\n",
        "    lon = [geogTable_orig2.iloc[i,1],geogTable_orig2.iloc[i-1,1]],\r\n",
        "    lat = [geogTable_orig2.iloc[i,2],geogTable_orig2.iloc[i-1,2]],\r\n",
        "    name=\"Route\"+str(i),\r\n",
        "    text=[geogTable_orig2.iloc[i,0]+'-'+str(i),geogTable_orig2.iloc[i-1,0]+'-'+str(i-1)],\r\n",
        "    textposition='top center',\r\n",
        "    marker = {'size': 10}))\r\n",
        "  \r\n",
        "fig.update_layout(mapbox_style=\"carto-darkmatter\", mapbox_zoom=6.25, mapbox_center_lat = 41.26878471063158,mapbox_center_lon = -73.37656607409332,\r\n",
        "    margin={\"r\":0,\"t\":0,\"l\":0,\"b\":0},title=\"TRAVELING SALESMAN ROUTE\")\r\n",
        "config = dict({'scrollZoom': False})\r\n",
        "fig.show(config=config)\r\n"
      ],
      "outputs": [
        {
          "output_type": "display_data",
          "data": {
            "text/html": [
              "<html>\n",
              "<head><meta charset=\"utf-8\" /></head>\n",
              "<body>\n",
              "    <div>\n",
              "            <script src=\"https://cdnjs.cloudflare.com/ajax/libs/mathjax/2.7.5/MathJax.js?config=TeX-AMS-MML_SVG\"></script><script type=\"text/javascript\">if (window.MathJax) {MathJax.Hub.Config({SVG: {font: \"STIX-Web\"}});}</script>\n",
              "                <script type=\"text/javascript\">window.PlotlyConfig = {MathJaxConfig: 'local'};</script>\n",
              "        <script src=\"https://cdn.plot.ly/plotly-latest.min.js\"></script>    \n",
              "            <div id=\"96392d24-78c8-4473-ab8a-733eea482b16\" class=\"plotly-graph-div\" style=\"height:525px; width:100%;\"></div>\n",
              "            <script type=\"text/javascript\">\n",
              "                \n",
              "                    window.PLOTLYENV=window.PLOTLYENV || {};\n",
              "                    \n",
              "                if (document.getElementById(\"96392d24-78c8-4473-ab8a-733eea482b16\")) {\n",
              "                    Plotly.newPlot(\n",
              "                        '96392d24-78c8-4473-ab8a-733eea482b16',\n",
              "                        [{\"hovertext\": [\"Salisbury\", \"Sharon\", \"Cornwall\", \"Warren\", \"Kent\", \"New Milford\", \"Sherman\", \"New Fairfield\", \"Danbury\", \"Ridgefield\", \"Wilton\", \"New Canaan\", \"Stamford\", \"Greenwich\", \"Darien\", \"Norwalk\", \"Westport\", \"Fairfield\", \"Bridgeport\", \"Stratford\", \"Milford\", \"Orange\", \"West Haven\", \"New Haven\", \"Hamden\", \"North Haven\", \"East Haven\", \"Branford\", \"North Branford\", \"Guilford\", \"Madison\", \"Killingworth\", \"Chester\", \"Deep River\", \"Westbrook\", \"Clinton\", \"Old Saybrook\", \"Essex\", \"Lyme\", \"Old Lyme\", \"East Lyme\", \"Waterford\", \"New London\", \"Groton\", \"Stonington\", \"North Stonington\", \"Griswold\", \"Voluntown\", \"Sterling\", \"Plainfield\", \"Canterbury\", \"Lisbon\", \"Preston\", \"Ledyard\", \"Montville\", \"Bozrah\", \"Norwich\", \"Sprague\", \"Franklin\", \"Lebanon\", \"Columbia\", \"Windham\", \"Scotland\", \"Hampton\", \"Brooklyn\", \"Killingly\", \"Putnam\", \"Thompson\", \"Woodstock\", \"Pomfret\", \"Eastford\", \"Union\", \"Stafford\", \"Tolland\", \"Willington\", \"Ashford\", \"Chaplin\", \"Mansfield\", \"Coventry\", \"Andover\", \"Hebron\", \"Colchester\", \"Salem\", \"East Haddam\", \"Haddam\", \"East Hampton\", \"Marlborough\", \"Glastonbury\", \"Portland\", \"Cromwell\", \"Middletown\", \"Middlefield\", \"Durham\", \"Wallingford\", \"Meriden\", \"Berlin\", \"Southington\", \"Cheshire\", \"Prospect\", \"Bethany\", \"Woodbridge\", \"Ansonia\", \"Derby\", \"Seymour\", \"Beacon Falls\", \"Naugatuck\", \"Waterbury\", \"Wolcott\", \"Watertown\", \"Middlebury\", \"Oxford\", \"Southbury\", \"Newtown\", \"Monroe\", \"Shelton\", \"Trumbull\", \"Easton\", \"Weston\", \"Redding\", \"Bethel\", \"Brookfield\", \"Bridgewater\", \"Washington\", \"Roxbury\", \"Woodbury\", \"Bethlehem\", \"Morris\", \"Litchfield\", \"Harwinton\", \"Thomaston\", \"Plymouth\", \"Bristol\", \"Burlington\", \"Avon\", \"Farmington\", \"Plainville\", \"New Britain\", \"Newington\", \"Rocky Hill\", \"Wethersfield\", \"Hartford\", \"West Hartford\", \"East Hartford\", \"South Windsor\", \"Manchester\", \"Bolton\", \"Vernon\", \"Ellington\", \"Somers\", \"Enfield\", \"East Windsor\", \"Windsor Locks\", \"Suffield\", \"Windsor\", \"Bloomfield\", \"East Granby\", \"Granby\", \"Simsbury\", \"Canton\", \"New Hartford\", \"Barkhamsted\", \"Hartland\", \"Colebrook\", \"Winchester\", \"Torrington\", \"Goshen\", \"Norfolk\", \"North Canaan\", \"Canaan\", \"Salisbury\"], \"lat\": [41.9860188845167, 41.8575043637978, 41.8474896133564, 41.740546828057106, 41.7299002649182, 41.6040901099685, 41.5800698592504, 41.487803860917, 41.4013640556389, 41.3061539956989, 41.2069319946664, 41.159119368569705, 41.1050279961402, 41.0690824769707, 41.0811456463311, 41.1181478024976, 41.145318674426996, 41.177753851639295, 41.192561537954894, 41.2078673215556, 41.226401304606206, 41.2826216564714, 41.2736530384784, 41.311528996884, 41.3959857885991, 41.3817873414325, 41.2991364527903, 41.2859826579306, 41.3644807020046, 41.3345214819421, 41.3406863807877, 41.379066522790495, 41.4059693678592, 41.368963900413796, 41.3070099878697, 41.2988987084103, 41.303097687905, 41.3500326055836, 41.3964893416275, 41.3204258413288, 41.36744987979971, 41.370346134318, 41.353725673210604, 41.3620893829628, 41.3766222042302, 41.469653234319104, 41.5852054411731, 41.5798896186091, 41.702422485965705, 41.6991630320256, 41.697913437685706, 41.6014468231256, 41.5224183811399, 41.4399706517297, 41.4638005936708, 41.5453490766784, 41.549395531592104, 41.6304321472755, 41.6153242786404, 41.6313840169409, 41.6939232200983, 41.7098093290534, 41.6979385189305, 41.7841829089636, 41.786982449712205, 41.831025769004796, 41.9093194577146, 41.9797342500963, 41.9694334934481, 41.867044101718506, 41.8915873961555, 41.9930248216721, 41.9875205371605, 41.8785788524061, 41.8895360910517, 41.8911163608229, 41.7930498572278, 41.789205393686295, 41.782915481050104, 41.7331340876676, 41.6593678680616, 41.5620266026866, 41.485381927511604, 41.479796473239006, 41.4675703294021, 41.569590883116, 41.6326835770749, 41.6920472679109, 41.5993369576271, 41.612159112064795, 41.5476609967849, 41.5176869616306, 41.46229475074001, 41.4590599814914, 41.536838375833, 41.6111577680927, 41.604891708861295, 41.5114518461356, 41.4991810624054, 41.425995390854396, 41.356608391724, 41.344271993997204, 41.3264492150586, 41.3810259961196, 41.4389273225178, 41.4889777436159, 41.5582594181289, 41.6006625827308, 41.616015824789, 41.5271246742485, 41.431314709575794, 41.4745319243586, 41.398822983464605, 41.3379344444351, 41.3060975143692, 41.260173481741205, 41.2648859129813, 41.228433019273794, 41.305021333867295, 41.374801560580295, 41.46752965155571, 41.5208399735827, 41.6522912170332, 41.5539629750069, 41.561360772670604, 41.6374955633252, 41.6897975797642, 41.7413071978242, 41.7550048175454, 41.6697057889872, 41.6641584144003, 41.6810808569771, 41.75987067192471, 41.790697032807, 41.7288400459629, 41.674147416588504, 41.6760020842678, 41.686986134308796, 41.6571099624868, 41.7011868652194, 41.7660045597751, 41.7669492878176, 41.763461161618096, 41.8352178682275, 41.7752467245319, 41.766401884112895, 41.836415024626604, 41.9151388393704, 41.994879419309996, 41.9839789750923, 41.904929960402, 41.9267906193425, 41.9944863271393, 41.871287740846896, 41.8426291646744, 41.942477007580706, 41.969545409347205, 41.873002196110704, 41.8599346850351, 41.844227114742296, 41.9315839801224, 42.0042931274258, 42.0015458695464, 41.92188246061121, 41.8349402852756, 41.8500986021862, 41.9801449565525, 42.022264251516795, 41.9598824529327, 41.9860188845167], \"lon\": [-73.4256505768319, -73.4376171756981, -73.3298339680571, -73.34487849818741, -73.4539777298338, -73.4215781633603, -73.49918170807399, -73.48828101582191, -73.4705270599115, -73.50188133191, -73.4398877871749, -73.49922395167201, -73.5590370224089, -73.6384674457496, -73.4823550054125, -73.422614497081, -73.34649487600929, -73.273260725136, -73.1959867493456, -73.13040399903791, -73.06040522122241, -73.027165033765, -72.96647597850391, -72.924809299028, -72.9215549788146, -72.85746892182071, -72.8573471042596, -72.79878509424591, -72.77674848592659, -72.7002976268178, -72.6285335304292, -72.57822866383358, -72.4830766735014, -72.4620688034714, -72.4663766397619, -72.5299495686544, -72.38701975615949, -72.4145607585472, -72.34377768171571, -72.3032521958035, -72.235486024346, -72.14827239706159, -72.10432116854591, -72.0278633926364, -71.9023848606722, -71.8753461199257, -71.9227438288552, -71.832464335089, -71.8184870093514, -71.89871628600659, -71.9997518338538, -72.01416336195891, -72.0007559246447, -72.0164775868916, -72.1567159462634, -72.17487272627521, -72.0882419909586, -72.0758082998052, -72.14324053666171, -72.2401323290683, -72.3069772480909, -72.1668123714238, -72.0880322531898, -72.058305704605, -71.9545082407126, -71.84996561528341, -71.8711989534025, -71.8735879746113, -72.0221320760756, -71.983430263771, -72.0919766524868, -72.16026431037359, -72.3123280592977, -72.3649354623998, -72.2593699540284, -72.17098562559829, -72.1277306749492, -72.2287318574139, -72.33940560807771, -72.3761079827343, -72.3903209065753, -72.34727571199859, -72.26643801788471, -72.39434858053251, -72.54594731520359, -72.5074074836945, -72.4544996759191, -72.5471809420126, -72.5885378812523, -72.663730492445, -72.6545470832036, -72.71492443300221, -72.68308644283859, -72.8041565391719, -72.7944939940579, -72.77601524654371, -72.8800272635791, -72.90399530183129, -72.9762778428478, -72.99287956171429, -73.01003180977209, -73.0688896980701, -73.0829994779898, -73.08716650266041, -73.0568349128605, -73.0517676810289, -73.0360213515486, -72.9731820072739, -73.1177301876986, -73.12276027340859, -73.1350983140828, -73.23274796141651, -73.29282774457009, -73.2249189440438, -73.13822123369779, -73.2084247211173, -73.30008424693729, -73.37256725904192, -73.3913916801082, -73.39265624011591, -73.3923244597689, -73.3600973886368, -73.31454070999929, -73.30056856944191, -73.20720726172492, -73.2113934154445, -73.2079925872203, -73.1931458075758, -73.0582653297907, -73.0858876745003, -73.0262780011343, -72.9406338211413, -72.9590844223388, -72.8540158383504, -72.84094406240949, -72.8571304957605, -72.7859315625518, -72.7309184896193, -72.6632873641259, -72.6703646023617, -72.6834270445884, -72.7538722699359, -72.6152853024233, -72.5734404755258, -72.5242263078394, -72.439087792347, -72.4607471462613, -72.448494217229, -72.4530514231731, -72.55471870029, -72.56730081590659, -72.65484126141241, -72.6788512497815, -72.6736582647048, -72.74073779390041, -72.74113864747609, -72.8348515800958, -72.82580761596621, -72.9085434023694, -73.0055296300638, -72.97295525251491, -72.9488967294987, -73.0808105833225, -73.10281770555859, -73.128075803883, -73.2335576516127, -73.1962241920279, -73.2935685900945, -73.31004419446779, -73.4256505768319], \"marker\": {\"size\": 10}, \"mode\": \"markers+lines\", \"name\": \"Main Route\", \"type\": \"scattermapbox\"}, {\"lat\": [41.9860188845167, 41.9860188845167], \"lon\": [-73.4256505768319, -73.4256505768319], \"marker\": {\"size\": 10}, \"mode\": \"markers+lines\", \"name\": \"Route0\", \"text\": [\"Salisbury-0\", \"Salisbury--1\"], \"textposition\": \"top center\", \"type\": \"scattermapbox\"}, {\"lat\": [41.8575043637978, 41.9860188845167], \"lon\": [-73.4376171756981, -73.4256505768319], \"marker\": {\"size\": 10}, \"mode\": \"markers+lines\", \"name\": \"Route1\", \"text\": [\"Sharon-1\", \"Salisbury-0\"], \"textposition\": \"top center\", \"type\": \"scattermapbox\"}, {\"lat\": [41.8474896133564, 41.8575043637978], \"lon\": [-73.3298339680571, -73.4376171756981], \"marker\": {\"size\": 10}, \"mode\": \"markers+lines\", \"name\": \"Route2\", \"text\": [\"Cornwall-2\", \"Sharon-1\"], \"textposition\": \"top center\", \"type\": \"scattermapbox\"}, {\"lat\": [41.740546828057106, 41.8474896133564], \"lon\": [-73.34487849818741, -73.3298339680571], \"marker\": {\"size\": 10}, \"mode\": \"markers+lines\", \"name\": \"Route3\", \"text\": [\"Warren-3\", \"Cornwall-2\"], \"textposition\": \"top center\", \"type\": \"scattermapbox\"}, {\"lat\": [41.7299002649182, 41.740546828057106], \"lon\": [-73.4539777298338, -73.34487849818741], \"marker\": {\"size\": 10}, \"mode\": \"markers+lines\", \"name\": \"Route4\", \"text\": [\"Kent-4\", \"Warren-3\"], \"textposition\": \"top center\", \"type\": \"scattermapbox\"}, {\"lat\": [41.6040901099685, 41.7299002649182], \"lon\": [-73.4215781633603, -73.4539777298338], \"marker\": {\"size\": 10}, \"mode\": \"markers+lines\", \"name\": \"Route5\", \"text\": [\"New Milford-5\", \"Kent-4\"], \"textposition\": \"top center\", \"type\": \"scattermapbox\"}, {\"lat\": [41.5800698592504, 41.6040901099685], \"lon\": [-73.49918170807399, -73.4215781633603], \"marker\": {\"size\": 10}, \"mode\": \"markers+lines\", \"name\": \"Route6\", \"text\": [\"Sherman-6\", \"New Milford-5\"], \"textposition\": \"top center\", \"type\": \"scattermapbox\"}, {\"lat\": [41.487803860917, 41.5800698592504], \"lon\": [-73.48828101582191, -73.49918170807399], \"marker\": {\"size\": 10}, \"mode\": \"markers+lines\", \"name\": \"Route7\", \"text\": [\"New Fairfield-7\", \"Sherman-6\"], \"textposition\": \"top center\", \"type\": \"scattermapbox\"}, {\"lat\": [41.4013640556389, 41.487803860917], \"lon\": [-73.4705270599115, -73.48828101582191], \"marker\": {\"size\": 10}, \"mode\": \"markers+lines\", \"name\": \"Route8\", \"text\": [\"Danbury-8\", \"New Fairfield-7\"], \"textposition\": \"top center\", \"type\": \"scattermapbox\"}, {\"lat\": [41.3061539956989, 41.4013640556389], \"lon\": [-73.50188133191, -73.4705270599115], \"marker\": {\"size\": 10}, \"mode\": \"markers+lines\", \"name\": \"Route9\", \"text\": [\"Ridgefield-9\", \"Danbury-8\"], \"textposition\": \"top center\", \"type\": \"scattermapbox\"}, {\"lat\": [41.2069319946664, 41.3061539956989], \"lon\": [-73.4398877871749, -73.50188133191], \"marker\": {\"size\": 10}, \"mode\": \"markers+lines\", \"name\": \"Route10\", \"text\": [\"Wilton-10\", \"Ridgefield-9\"], \"textposition\": \"top center\", \"type\": \"scattermapbox\"}, {\"lat\": [41.159119368569705, 41.2069319946664], \"lon\": [-73.49922395167201, -73.4398877871749], \"marker\": {\"size\": 10}, \"mode\": \"markers+lines\", \"name\": \"Route11\", \"text\": [\"New Canaan-11\", \"Wilton-10\"], \"textposition\": \"top center\", \"type\": \"scattermapbox\"}, {\"lat\": [41.1050279961402, 41.159119368569705], \"lon\": [-73.5590370224089, -73.49922395167201], \"marker\": {\"size\": 10}, \"mode\": \"markers+lines\", \"name\": \"Route12\", \"text\": [\"Stamford-12\", \"New Canaan-11\"], \"textposition\": \"top center\", \"type\": \"scattermapbox\"}, {\"lat\": [41.0690824769707, 41.1050279961402], \"lon\": [-73.6384674457496, -73.5590370224089], \"marker\": {\"size\": 10}, \"mode\": \"markers+lines\", \"name\": \"Route13\", \"text\": [\"Greenwich-13\", \"Stamford-12\"], \"textposition\": \"top center\", \"type\": \"scattermapbox\"}, {\"lat\": [41.0811456463311, 41.0690824769707], \"lon\": [-73.4823550054125, -73.6384674457496], \"marker\": {\"size\": 10}, \"mode\": \"markers+lines\", \"name\": \"Route14\", \"text\": [\"Darien-14\", \"Greenwich-13\"], \"textposition\": \"top center\", \"type\": \"scattermapbox\"}, {\"lat\": [41.1181478024976, 41.0811456463311], \"lon\": [-73.422614497081, -73.4823550054125], \"marker\": {\"size\": 10}, \"mode\": \"markers+lines\", \"name\": \"Route15\", \"text\": [\"Norwalk-15\", \"Darien-14\"], \"textposition\": \"top center\", \"type\": \"scattermapbox\"}, {\"lat\": [41.145318674426996, 41.1181478024976], \"lon\": [-73.34649487600929, -73.422614497081], \"marker\": {\"size\": 10}, \"mode\": \"markers+lines\", \"name\": \"Route16\", \"text\": [\"Westport-16\", \"Norwalk-15\"], \"textposition\": \"top center\", \"type\": \"scattermapbox\"}, {\"lat\": [41.177753851639295, 41.145318674426996], \"lon\": [-73.273260725136, -73.34649487600929], \"marker\": {\"size\": 10}, \"mode\": \"markers+lines\", \"name\": \"Route17\", \"text\": [\"Fairfield-17\", \"Westport-16\"], \"textposition\": \"top center\", \"type\": \"scattermapbox\"}, {\"lat\": [41.192561537954894, 41.177753851639295], \"lon\": [-73.1959867493456, -73.273260725136], \"marker\": {\"size\": 10}, \"mode\": \"markers+lines\", \"name\": \"Route18\", \"text\": [\"Bridgeport-18\", \"Fairfield-17\"], \"textposition\": \"top center\", \"type\": \"scattermapbox\"}, {\"lat\": [41.2078673215556, 41.192561537954894], \"lon\": [-73.13040399903791, -73.1959867493456], \"marker\": {\"size\": 10}, \"mode\": \"markers+lines\", \"name\": \"Route19\", \"text\": [\"Stratford-19\", \"Bridgeport-18\"], \"textposition\": \"top center\", \"type\": \"scattermapbox\"}, {\"lat\": [41.226401304606206, 41.2078673215556], \"lon\": [-73.06040522122241, -73.13040399903791], \"marker\": {\"size\": 10}, \"mode\": \"markers+lines\", \"name\": \"Route20\", \"text\": [\"Milford-20\", \"Stratford-19\"], \"textposition\": \"top center\", \"type\": \"scattermapbox\"}, {\"lat\": [41.2826216564714, 41.226401304606206], \"lon\": [-73.027165033765, -73.06040522122241], \"marker\": {\"size\": 10}, \"mode\": \"markers+lines\", \"name\": \"Route21\", \"text\": [\"Orange-21\", \"Milford-20\"], \"textposition\": \"top center\", \"type\": \"scattermapbox\"}, {\"lat\": [41.2736530384784, 41.2826216564714], \"lon\": [-72.96647597850391, -73.027165033765], \"marker\": {\"size\": 10}, \"mode\": \"markers+lines\", \"name\": \"Route22\", \"text\": [\"West Haven-22\", \"Orange-21\"], \"textposition\": \"top center\", \"type\": \"scattermapbox\"}, {\"lat\": [41.311528996884, 41.2736530384784], \"lon\": [-72.924809299028, -72.96647597850391], \"marker\": {\"size\": 10}, \"mode\": \"markers+lines\", \"name\": \"Route23\", \"text\": [\"New Haven-23\", \"West Haven-22\"], \"textposition\": \"top center\", \"type\": \"scattermapbox\"}, {\"lat\": [41.3959857885991, 41.311528996884], \"lon\": [-72.9215549788146, -72.924809299028], \"marker\": {\"size\": 10}, \"mode\": \"markers+lines\", \"name\": \"Route24\", \"text\": [\"Hamden-24\", \"New Haven-23\"], \"textposition\": \"top center\", \"type\": \"scattermapbox\"}, {\"lat\": [41.3817873414325, 41.3959857885991], \"lon\": [-72.85746892182071, -72.9215549788146], \"marker\": {\"size\": 10}, \"mode\": \"markers+lines\", \"name\": \"Route25\", \"text\": [\"North Haven-25\", \"Hamden-24\"], \"textposition\": \"top center\", \"type\": \"scattermapbox\"}, {\"lat\": [41.2991364527903, 41.3817873414325], \"lon\": [-72.8573471042596, -72.85746892182071], \"marker\": {\"size\": 10}, \"mode\": \"markers+lines\", \"name\": \"Route26\", \"text\": [\"East Haven-26\", \"North Haven-25\"], \"textposition\": \"top center\", \"type\": \"scattermapbox\"}, {\"lat\": [41.2859826579306, 41.2991364527903], \"lon\": [-72.79878509424591, -72.8573471042596], \"marker\": {\"size\": 10}, \"mode\": \"markers+lines\", \"name\": \"Route27\", \"text\": [\"Branford-27\", \"East Haven-26\"], \"textposition\": \"top center\", \"type\": \"scattermapbox\"}, {\"lat\": [41.3644807020046, 41.2859826579306], \"lon\": [-72.77674848592659, -72.79878509424591], \"marker\": {\"size\": 10}, \"mode\": \"markers+lines\", \"name\": \"Route28\", \"text\": [\"North Branford-28\", \"Branford-27\"], \"textposition\": \"top center\", \"type\": \"scattermapbox\"}, {\"lat\": [41.3345214819421, 41.3644807020046], \"lon\": [-72.7002976268178, -72.77674848592659], \"marker\": {\"size\": 10}, \"mode\": \"markers+lines\", \"name\": \"Route29\", \"text\": [\"Guilford-29\", \"North Branford-28\"], \"textposition\": \"top center\", \"type\": \"scattermapbox\"}, {\"lat\": [41.3406863807877, 41.3345214819421], \"lon\": [-72.6285335304292, -72.7002976268178], \"marker\": {\"size\": 10}, \"mode\": \"markers+lines\", \"name\": \"Route30\", \"text\": [\"Madison-30\", \"Guilford-29\"], \"textposition\": \"top center\", \"type\": \"scattermapbox\"}, {\"lat\": [41.379066522790495, 41.3406863807877], \"lon\": [-72.57822866383358, -72.6285335304292], \"marker\": {\"size\": 10}, \"mode\": \"markers+lines\", \"name\": \"Route31\", \"text\": [\"Killingworth-31\", \"Madison-30\"], \"textposition\": \"top center\", \"type\": \"scattermapbox\"}, {\"lat\": [41.4059693678592, 41.379066522790495], \"lon\": [-72.4830766735014, -72.57822866383358], \"marker\": {\"size\": 10}, \"mode\": \"markers+lines\", \"name\": \"Route32\", \"text\": [\"Chester-32\", \"Killingworth-31\"], \"textposition\": \"top center\", \"type\": \"scattermapbox\"}, {\"lat\": [41.368963900413796, 41.4059693678592], \"lon\": [-72.4620688034714, -72.4830766735014], \"marker\": {\"size\": 10}, \"mode\": \"markers+lines\", \"name\": \"Route33\", \"text\": [\"Deep River-33\", \"Chester-32\"], \"textposition\": \"top center\", \"type\": \"scattermapbox\"}, {\"lat\": [41.3070099878697, 41.368963900413796], \"lon\": [-72.4663766397619, -72.4620688034714], \"marker\": {\"size\": 10}, \"mode\": \"markers+lines\", \"name\": \"Route34\", \"text\": [\"Westbrook-34\", \"Deep River-33\"], \"textposition\": \"top center\", \"type\": \"scattermapbox\"}, {\"lat\": [41.2988987084103, 41.3070099878697], \"lon\": [-72.5299495686544, -72.4663766397619], \"marker\": {\"size\": 10}, \"mode\": \"markers+lines\", \"name\": \"Route35\", \"text\": [\"Clinton-35\", \"Westbrook-34\"], \"textposition\": \"top center\", \"type\": \"scattermapbox\"}, {\"lat\": [41.303097687905, 41.2988987084103], \"lon\": [-72.38701975615949, -72.5299495686544], \"marker\": {\"size\": 10}, \"mode\": \"markers+lines\", \"name\": \"Route36\", \"text\": [\"Old Saybrook-36\", \"Clinton-35\"], \"textposition\": \"top center\", \"type\": \"scattermapbox\"}, {\"lat\": [41.3500326055836, 41.303097687905], \"lon\": [-72.4145607585472, -72.38701975615949], \"marker\": {\"size\": 10}, \"mode\": \"markers+lines\", \"name\": \"Route37\", \"text\": [\"Essex-37\", \"Old Saybrook-36\"], \"textposition\": \"top center\", \"type\": \"scattermapbox\"}, {\"lat\": [41.3964893416275, 41.3500326055836], \"lon\": [-72.34377768171571, -72.4145607585472], \"marker\": {\"size\": 10}, \"mode\": \"markers+lines\", \"name\": \"Route38\", \"text\": [\"Lyme-38\", \"Essex-37\"], \"textposition\": \"top center\", \"type\": \"scattermapbox\"}, {\"lat\": [41.3204258413288, 41.3964893416275], \"lon\": [-72.3032521958035, -72.34377768171571], \"marker\": {\"size\": 10}, \"mode\": \"markers+lines\", \"name\": \"Route39\", \"text\": [\"Old Lyme-39\", \"Lyme-38\"], \"textposition\": \"top center\", \"type\": \"scattermapbox\"}, {\"lat\": [41.36744987979971, 41.3204258413288], \"lon\": [-72.235486024346, -72.3032521958035], \"marker\": {\"size\": 10}, \"mode\": \"markers+lines\", \"name\": \"Route40\", \"text\": [\"East Lyme-40\", \"Old Lyme-39\"], \"textposition\": \"top center\", \"type\": \"scattermapbox\"}, {\"lat\": [41.370346134318, 41.36744987979971], \"lon\": [-72.14827239706159, -72.235486024346], \"marker\": {\"size\": 10}, \"mode\": \"markers+lines\", \"name\": \"Route41\", \"text\": [\"Waterford-41\", \"East Lyme-40\"], \"textposition\": \"top center\", \"type\": \"scattermapbox\"}, {\"lat\": [41.353725673210604, 41.370346134318], \"lon\": [-72.10432116854591, -72.14827239706159], \"marker\": {\"size\": 10}, \"mode\": \"markers+lines\", \"name\": \"Route42\", \"text\": [\"New London-42\", \"Waterford-41\"], \"textposition\": \"top center\", \"type\": \"scattermapbox\"}, {\"lat\": [41.3620893829628, 41.353725673210604], \"lon\": [-72.0278633926364, -72.10432116854591], \"marker\": {\"size\": 10}, \"mode\": \"markers+lines\", \"name\": \"Route43\", \"text\": [\"Groton-43\", \"New London-42\"], \"textposition\": \"top center\", \"type\": \"scattermapbox\"}, {\"lat\": [41.3766222042302, 41.3620893829628], \"lon\": [-71.9023848606722, -72.0278633926364], \"marker\": {\"size\": 10}, \"mode\": \"markers+lines\", \"name\": \"Route44\", \"text\": [\"Stonington-44\", \"Groton-43\"], \"textposition\": \"top center\", \"type\": \"scattermapbox\"}, {\"lat\": [41.469653234319104, 41.3766222042302], \"lon\": [-71.8753461199257, -71.9023848606722], \"marker\": {\"size\": 10}, \"mode\": \"markers+lines\", \"name\": \"Route45\", \"text\": [\"North Stonington-45\", \"Stonington-44\"], \"textposition\": \"top center\", \"type\": \"scattermapbox\"}, {\"lat\": [41.5852054411731, 41.469653234319104], \"lon\": [-71.9227438288552, -71.8753461199257], \"marker\": {\"size\": 10}, \"mode\": \"markers+lines\", \"name\": \"Route46\", \"text\": [\"Griswold-46\", \"North Stonington-45\"], \"textposition\": \"top center\", \"type\": \"scattermapbox\"}, {\"lat\": [41.5798896186091, 41.5852054411731], \"lon\": [-71.832464335089, -71.9227438288552], \"marker\": {\"size\": 10}, \"mode\": \"markers+lines\", \"name\": \"Route47\", \"text\": [\"Voluntown-47\", \"Griswold-46\"], \"textposition\": \"top center\", \"type\": \"scattermapbox\"}, {\"lat\": [41.702422485965705, 41.5798896186091], \"lon\": [-71.8184870093514, -71.832464335089], \"marker\": {\"size\": 10}, \"mode\": \"markers+lines\", \"name\": \"Route48\", \"text\": [\"Sterling-48\", \"Voluntown-47\"], \"textposition\": \"top center\", \"type\": \"scattermapbox\"}, {\"lat\": [41.6991630320256, 41.702422485965705], \"lon\": [-71.89871628600659, -71.8184870093514], \"marker\": {\"size\": 10}, \"mode\": \"markers+lines\", \"name\": \"Route49\", \"text\": [\"Plainfield-49\", \"Sterling-48\"], \"textposition\": \"top center\", \"type\": \"scattermapbox\"}, {\"lat\": [41.697913437685706, 41.6991630320256], \"lon\": [-71.9997518338538, -71.89871628600659], \"marker\": {\"size\": 10}, \"mode\": \"markers+lines\", \"name\": \"Route50\", \"text\": [\"Canterbury-50\", \"Plainfield-49\"], \"textposition\": \"top center\", \"type\": \"scattermapbox\"}, {\"lat\": [41.6014468231256, 41.697913437685706], \"lon\": [-72.01416336195891, -71.9997518338538], \"marker\": {\"size\": 10}, \"mode\": \"markers+lines\", \"name\": \"Route51\", \"text\": [\"Lisbon-51\", \"Canterbury-50\"], \"textposition\": \"top center\", \"type\": \"scattermapbox\"}, {\"lat\": [41.5224183811399, 41.6014468231256], \"lon\": [-72.0007559246447, -72.01416336195891], \"marker\": {\"size\": 10}, \"mode\": \"markers+lines\", \"name\": \"Route52\", \"text\": [\"Preston-52\", \"Lisbon-51\"], \"textposition\": \"top center\", \"type\": \"scattermapbox\"}, {\"lat\": [41.4399706517297, 41.5224183811399], \"lon\": [-72.0164775868916, -72.0007559246447], \"marker\": {\"size\": 10}, \"mode\": \"markers+lines\", \"name\": \"Route53\", \"text\": [\"Ledyard-53\", \"Preston-52\"], \"textposition\": \"top center\", \"type\": \"scattermapbox\"}, {\"lat\": [41.4638005936708, 41.4399706517297], \"lon\": [-72.1567159462634, -72.0164775868916], \"marker\": {\"size\": 10}, \"mode\": \"markers+lines\", \"name\": \"Route54\", \"text\": [\"Montville-54\", \"Ledyard-53\"], \"textposition\": \"top center\", \"type\": \"scattermapbox\"}, {\"lat\": [41.5453490766784, 41.4638005936708], \"lon\": [-72.17487272627521, -72.1567159462634], \"marker\": {\"size\": 10}, \"mode\": \"markers+lines\", \"name\": \"Route55\", \"text\": [\"Bozrah-55\", \"Montville-54\"], \"textposition\": \"top center\", \"type\": \"scattermapbox\"}, {\"lat\": [41.549395531592104, 41.5453490766784], \"lon\": [-72.0882419909586, -72.17487272627521], \"marker\": {\"size\": 10}, \"mode\": \"markers+lines\", \"name\": \"Route56\", \"text\": [\"Norwich-56\", \"Bozrah-55\"], \"textposition\": \"top center\", \"type\": \"scattermapbox\"}, {\"lat\": [41.6304321472755, 41.549395531592104], \"lon\": [-72.0758082998052, -72.0882419909586], \"marker\": {\"size\": 10}, \"mode\": \"markers+lines\", \"name\": \"Route57\", \"text\": [\"Sprague-57\", \"Norwich-56\"], \"textposition\": \"top center\", \"type\": \"scattermapbox\"}, {\"lat\": [41.6153242786404, 41.6304321472755], \"lon\": [-72.14324053666171, -72.0758082998052], \"marker\": {\"size\": 10}, \"mode\": \"markers+lines\", \"name\": \"Route58\", \"text\": [\"Franklin-58\", \"Sprague-57\"], \"textposition\": \"top center\", \"type\": \"scattermapbox\"}, {\"lat\": [41.6313840169409, 41.6153242786404], \"lon\": [-72.2401323290683, -72.14324053666171], \"marker\": {\"size\": 10}, \"mode\": \"markers+lines\", \"name\": \"Route59\", \"text\": [\"Lebanon-59\", \"Franklin-58\"], \"textposition\": \"top center\", \"type\": \"scattermapbox\"}, {\"lat\": [41.6939232200983, 41.6313840169409], \"lon\": [-72.3069772480909, -72.2401323290683], \"marker\": {\"size\": 10}, \"mode\": \"markers+lines\", \"name\": \"Route60\", \"text\": [\"Columbia-60\", \"Lebanon-59\"], \"textposition\": \"top center\", \"type\": \"scattermapbox\"}, {\"lat\": [41.7098093290534, 41.6939232200983], \"lon\": [-72.1668123714238, -72.3069772480909], \"marker\": {\"size\": 10}, \"mode\": \"markers+lines\", \"name\": \"Route61\", \"text\": [\"Windham-61\", \"Columbia-60\"], \"textposition\": \"top center\", \"type\": \"scattermapbox\"}, {\"lat\": [41.6979385189305, 41.7098093290534], \"lon\": [-72.0880322531898, -72.1668123714238], \"marker\": {\"size\": 10}, \"mode\": \"markers+lines\", \"name\": \"Route62\", \"text\": [\"Scotland-62\", \"Windham-61\"], \"textposition\": \"top center\", \"type\": \"scattermapbox\"}, {\"lat\": [41.7841829089636, 41.6979385189305], \"lon\": [-72.058305704605, -72.0880322531898], \"marker\": {\"size\": 10}, \"mode\": \"markers+lines\", \"name\": \"Route63\", \"text\": [\"Hampton-63\", \"Scotland-62\"], \"textposition\": \"top center\", \"type\": \"scattermapbox\"}, {\"lat\": [41.786982449712205, 41.7841829089636], \"lon\": [-71.9545082407126, -72.058305704605], \"marker\": {\"size\": 10}, \"mode\": \"markers+lines\", \"name\": \"Route64\", \"text\": [\"Brooklyn-64\", \"Hampton-63\"], \"textposition\": \"top center\", \"type\": \"scattermapbox\"}, {\"lat\": [41.831025769004796, 41.786982449712205], \"lon\": [-71.84996561528341, -71.9545082407126], \"marker\": {\"size\": 10}, \"mode\": \"markers+lines\", \"name\": \"Route65\", \"text\": [\"Killingly-65\", \"Brooklyn-64\"], \"textposition\": \"top center\", \"type\": \"scattermapbox\"}, {\"lat\": [41.9093194577146, 41.831025769004796], \"lon\": [-71.8711989534025, -71.84996561528341], \"marker\": {\"size\": 10}, \"mode\": \"markers+lines\", \"name\": \"Route66\", \"text\": [\"Putnam-66\", \"Killingly-65\"], \"textposition\": \"top center\", \"type\": \"scattermapbox\"}, {\"lat\": [41.9797342500963, 41.9093194577146], \"lon\": [-71.8735879746113, -71.8711989534025], \"marker\": {\"size\": 10}, \"mode\": \"markers+lines\", \"name\": \"Route67\", \"text\": [\"Thompson-67\", \"Putnam-66\"], \"textposition\": \"top center\", \"type\": \"scattermapbox\"}, {\"lat\": [41.9694334934481, 41.9797342500963], \"lon\": [-72.0221320760756, -71.8735879746113], \"marker\": {\"size\": 10}, \"mode\": \"markers+lines\", \"name\": \"Route68\", \"text\": [\"Woodstock-68\", \"Thompson-67\"], \"textposition\": \"top center\", \"type\": \"scattermapbox\"}, {\"lat\": [41.867044101718506, 41.9694334934481], \"lon\": [-71.983430263771, -72.0221320760756], \"marker\": {\"size\": 10}, \"mode\": \"markers+lines\", \"name\": \"Route69\", \"text\": [\"Pomfret-69\", \"Woodstock-68\"], \"textposition\": \"top center\", \"type\": \"scattermapbox\"}, {\"lat\": [41.8915873961555, 41.867044101718506], \"lon\": [-72.0919766524868, -71.983430263771], \"marker\": {\"size\": 10}, \"mode\": \"markers+lines\", \"name\": \"Route70\", \"text\": [\"Eastford-70\", \"Pomfret-69\"], \"textposition\": \"top center\", \"type\": \"scattermapbox\"}, {\"lat\": [41.9930248216721, 41.8915873961555], \"lon\": [-72.16026431037359, -72.0919766524868], \"marker\": {\"size\": 10}, \"mode\": \"markers+lines\", \"name\": \"Route71\", \"text\": [\"Union-71\", \"Eastford-70\"], \"textposition\": \"top center\", \"type\": \"scattermapbox\"}, {\"lat\": [41.9875205371605, 41.9930248216721], \"lon\": [-72.3123280592977, -72.16026431037359], \"marker\": {\"size\": 10}, \"mode\": \"markers+lines\", \"name\": \"Route72\", \"text\": [\"Stafford-72\", \"Union-71\"], \"textposition\": \"top center\", \"type\": \"scattermapbox\"}, {\"lat\": [41.8785788524061, 41.9875205371605], \"lon\": [-72.3649354623998, -72.3123280592977], \"marker\": {\"size\": 10}, \"mode\": \"markers+lines\", \"name\": \"Route73\", \"text\": [\"Tolland-73\", \"Stafford-72\"], \"textposition\": \"top center\", \"type\": \"scattermapbox\"}, {\"lat\": [41.8895360910517, 41.8785788524061], \"lon\": [-72.2593699540284, -72.3649354623998], \"marker\": {\"size\": 10}, \"mode\": \"markers+lines\", \"name\": \"Route74\", \"text\": [\"Willington-74\", \"Tolland-73\"], \"textposition\": \"top center\", \"type\": \"scattermapbox\"}, {\"lat\": [41.8911163608229, 41.8895360910517], \"lon\": [-72.17098562559829, -72.2593699540284], \"marker\": {\"size\": 10}, \"mode\": \"markers+lines\", \"name\": \"Route75\", \"text\": [\"Ashford-75\", \"Willington-74\"], \"textposition\": \"top center\", \"type\": \"scattermapbox\"}, {\"lat\": [41.7930498572278, 41.8911163608229], \"lon\": [-72.1277306749492, -72.17098562559829], \"marker\": {\"size\": 10}, \"mode\": \"markers+lines\", \"name\": \"Route76\", \"text\": [\"Chaplin-76\", \"Ashford-75\"], \"textposition\": \"top center\", \"type\": \"scattermapbox\"}, {\"lat\": [41.789205393686295, 41.7930498572278], \"lon\": [-72.2287318574139, -72.1277306749492], \"marker\": {\"size\": 10}, \"mode\": \"markers+lines\", \"name\": \"Route77\", \"text\": [\"Mansfield-77\", \"Chaplin-76\"], \"textposition\": \"top center\", \"type\": \"scattermapbox\"}, {\"lat\": [41.782915481050104, 41.789205393686295], \"lon\": [-72.33940560807771, -72.2287318574139], \"marker\": {\"size\": 10}, \"mode\": \"markers+lines\", \"name\": \"Route78\", \"text\": [\"Coventry-78\", \"Mansfield-77\"], \"textposition\": \"top center\", \"type\": \"scattermapbox\"}, {\"lat\": [41.7331340876676, 41.782915481050104], \"lon\": [-72.3761079827343, -72.33940560807771], \"marker\": {\"size\": 10}, \"mode\": \"markers+lines\", \"name\": \"Route79\", \"text\": [\"Andover-79\", \"Coventry-78\"], \"textposition\": \"top center\", \"type\": \"scattermapbox\"}, {\"lat\": [41.6593678680616, 41.7331340876676], \"lon\": [-72.3903209065753, -72.3761079827343], \"marker\": {\"size\": 10}, \"mode\": \"markers+lines\", \"name\": \"Route80\", \"text\": [\"Hebron-80\", \"Andover-79\"], \"textposition\": \"top center\", \"type\": \"scattermapbox\"}, {\"lat\": [41.5620266026866, 41.6593678680616], \"lon\": [-72.34727571199859, -72.3903209065753], \"marker\": {\"size\": 10}, \"mode\": \"markers+lines\", \"name\": \"Route81\", \"text\": [\"Colchester-81\", \"Hebron-80\"], \"textposition\": \"top center\", \"type\": \"scattermapbox\"}, {\"lat\": [41.485381927511604, 41.5620266026866], \"lon\": [-72.26643801788471, -72.34727571199859], \"marker\": {\"size\": 10}, \"mode\": \"markers+lines\", \"name\": \"Route82\", \"text\": [\"Salem-82\", \"Colchester-81\"], \"textposition\": \"top center\", \"type\": \"scattermapbox\"}, {\"lat\": [41.479796473239006, 41.485381927511604], \"lon\": [-72.39434858053251, -72.26643801788471], \"marker\": {\"size\": 10}, \"mode\": \"markers+lines\", \"name\": \"Route83\", \"text\": [\"East Haddam-83\", \"Salem-82\"], \"textposition\": \"top center\", \"type\": \"scattermapbox\"}, {\"lat\": [41.4675703294021, 41.479796473239006], \"lon\": [-72.54594731520359, -72.39434858053251], \"marker\": {\"size\": 10}, \"mode\": \"markers+lines\", \"name\": \"Route84\", \"text\": [\"Haddam-84\", \"East Haddam-83\"], \"textposition\": \"top center\", \"type\": \"scattermapbox\"}, {\"lat\": [41.569590883116, 41.4675703294021], \"lon\": [-72.5074074836945, -72.54594731520359], \"marker\": {\"size\": 10}, \"mode\": \"markers+lines\", \"name\": \"Route85\", \"text\": [\"East Hampton-85\", \"Haddam-84\"], \"textposition\": \"top center\", \"type\": \"scattermapbox\"}, {\"lat\": [41.6326835770749, 41.569590883116], \"lon\": [-72.4544996759191, -72.5074074836945], \"marker\": {\"size\": 10}, \"mode\": \"markers+lines\", \"name\": \"Route86\", \"text\": [\"Marlborough-86\", \"East Hampton-85\"], \"textposition\": \"top center\", \"type\": \"scattermapbox\"}, {\"lat\": [41.6920472679109, 41.6326835770749], \"lon\": [-72.5471809420126, -72.4544996759191], \"marker\": {\"size\": 10}, \"mode\": \"markers+lines\", \"name\": \"Route87\", \"text\": [\"Glastonbury-87\", \"Marlborough-86\"], \"textposition\": \"top center\", \"type\": \"scattermapbox\"}, {\"lat\": [41.5993369576271, 41.6920472679109], \"lon\": [-72.5885378812523, -72.5471809420126], \"marker\": {\"size\": 10}, \"mode\": \"markers+lines\", \"name\": \"Route88\", \"text\": [\"Portland-88\", \"Glastonbury-87\"], \"textposition\": \"top center\", \"type\": \"scattermapbox\"}, {\"lat\": [41.612159112064795, 41.5993369576271], \"lon\": [-72.663730492445, -72.5885378812523], \"marker\": {\"size\": 10}, \"mode\": \"markers+lines\", \"name\": \"Route89\", \"text\": [\"Cromwell-89\", \"Portland-88\"], \"textposition\": \"top center\", \"type\": \"scattermapbox\"}, {\"lat\": [41.5476609967849, 41.612159112064795], \"lon\": [-72.6545470832036, -72.663730492445], \"marker\": {\"size\": 10}, \"mode\": \"markers+lines\", \"name\": \"Route90\", \"text\": [\"Middletown-90\", \"Cromwell-89\"], \"textposition\": \"top center\", \"type\": \"scattermapbox\"}, {\"lat\": [41.5176869616306, 41.5476609967849], \"lon\": [-72.71492443300221, -72.6545470832036], \"marker\": {\"size\": 10}, \"mode\": \"markers+lines\", \"name\": \"Route91\", \"text\": [\"Middlefield-91\", \"Middletown-90\"], \"textposition\": \"top center\", \"type\": \"scattermapbox\"}, {\"lat\": [41.46229475074001, 41.5176869616306], \"lon\": [-72.68308644283859, -72.71492443300221], \"marker\": {\"size\": 10}, \"mode\": \"markers+lines\", \"name\": \"Route92\", \"text\": [\"Durham-92\", \"Middlefield-91\"], \"textposition\": \"top center\", \"type\": \"scattermapbox\"}, {\"lat\": [41.4590599814914, 41.46229475074001], \"lon\": [-72.8041565391719, -72.68308644283859], \"marker\": {\"size\": 10}, \"mode\": \"markers+lines\", \"name\": \"Route93\", \"text\": [\"Wallingford-93\", \"Durham-92\"], \"textposition\": \"top center\", \"type\": \"scattermapbox\"}, {\"lat\": [41.536838375833, 41.4590599814914], \"lon\": [-72.7944939940579, -72.8041565391719], \"marker\": {\"size\": 10}, \"mode\": \"markers+lines\", \"name\": \"Route94\", \"text\": [\"Meriden-94\", \"Wallingford-93\"], \"textposition\": \"top center\", \"type\": \"scattermapbox\"}, {\"lat\": [41.6111577680927, 41.536838375833], \"lon\": [-72.77601524654371, -72.7944939940579], \"marker\": {\"size\": 10}, \"mode\": \"markers+lines\", \"name\": \"Route95\", \"text\": [\"Berlin-95\", \"Meriden-94\"], \"textposition\": \"top center\", \"type\": \"scattermapbox\"}, {\"lat\": [41.604891708861295, 41.6111577680927], \"lon\": [-72.8800272635791, -72.77601524654371], \"marker\": {\"size\": 10}, \"mode\": \"markers+lines\", \"name\": \"Route96\", \"text\": [\"Southington-96\", \"Berlin-95\"], \"textposition\": \"top center\", \"type\": \"scattermapbox\"}, {\"lat\": [41.5114518461356, 41.604891708861295], \"lon\": [-72.90399530183129, -72.8800272635791], \"marker\": {\"size\": 10}, \"mode\": \"markers+lines\", \"name\": \"Route97\", \"text\": [\"Cheshire-97\", \"Southington-96\"], \"textposition\": \"top center\", \"type\": \"scattermapbox\"}, {\"lat\": [41.4991810624054, 41.5114518461356], \"lon\": [-72.9762778428478, -72.90399530183129], \"marker\": {\"size\": 10}, \"mode\": \"markers+lines\", \"name\": \"Route98\", \"text\": [\"Prospect-98\", \"Cheshire-97\"], \"textposition\": \"top center\", \"type\": \"scattermapbox\"}, {\"lat\": [41.425995390854396, 41.4991810624054], \"lon\": [-72.99287956171429, -72.9762778428478], \"marker\": {\"size\": 10}, \"mode\": \"markers+lines\", \"name\": \"Route99\", \"text\": [\"Bethany-99\", \"Prospect-98\"], \"textposition\": \"top center\", \"type\": \"scattermapbox\"}, {\"lat\": [41.356608391724, 41.425995390854396], \"lon\": [-73.01003180977209, -72.99287956171429], \"marker\": {\"size\": 10}, \"mode\": \"markers+lines\", \"name\": \"Route100\", \"text\": [\"Woodbridge-100\", \"Bethany-99\"], \"textposition\": \"top center\", \"type\": \"scattermapbox\"}, {\"lat\": [41.344271993997204, 41.356608391724], \"lon\": [-73.0688896980701, -73.01003180977209], \"marker\": {\"size\": 10}, \"mode\": \"markers+lines\", \"name\": \"Route101\", \"text\": [\"Ansonia-101\", \"Woodbridge-100\"], \"textposition\": \"top center\", \"type\": \"scattermapbox\"}, {\"lat\": [41.3264492150586, 41.344271993997204], \"lon\": [-73.0829994779898, -73.0688896980701], \"marker\": {\"size\": 10}, \"mode\": \"markers+lines\", \"name\": \"Route102\", \"text\": [\"Derby-102\", \"Ansonia-101\"], \"textposition\": \"top center\", \"type\": \"scattermapbox\"}, {\"lat\": [41.3810259961196, 41.3264492150586], \"lon\": [-73.08716650266041, -73.0829994779898], \"marker\": {\"size\": 10}, \"mode\": \"markers+lines\", \"name\": \"Route103\", \"text\": [\"Seymour-103\", \"Derby-102\"], \"textposition\": \"top center\", \"type\": \"scattermapbox\"}, {\"lat\": [41.4389273225178, 41.3810259961196], \"lon\": [-73.0568349128605, -73.08716650266041], \"marker\": {\"size\": 10}, \"mode\": \"markers+lines\", \"name\": \"Route104\", \"text\": [\"Beacon Falls-104\", \"Seymour-103\"], \"textposition\": \"top center\", \"type\": \"scattermapbox\"}, {\"lat\": [41.4889777436159, 41.4389273225178], \"lon\": [-73.0517676810289, -73.0568349128605], \"marker\": {\"size\": 10}, \"mode\": \"markers+lines\", \"name\": \"Route105\", \"text\": [\"Naugatuck-105\", \"Beacon Falls-104\"], \"textposition\": \"top center\", \"type\": \"scattermapbox\"}, {\"lat\": [41.5582594181289, 41.4889777436159], \"lon\": [-73.0360213515486, -73.0517676810289], \"marker\": {\"size\": 10}, \"mode\": \"markers+lines\", \"name\": \"Route106\", \"text\": [\"Waterbury-106\", \"Naugatuck-105\"], \"textposition\": \"top center\", \"type\": \"scattermapbox\"}, {\"lat\": [41.6006625827308, 41.5582594181289], \"lon\": [-72.9731820072739, -73.0360213515486], \"marker\": {\"size\": 10}, \"mode\": \"markers+lines\", \"name\": \"Route107\", \"text\": [\"Wolcott-107\", \"Waterbury-106\"], \"textposition\": \"top center\", \"type\": \"scattermapbox\"}, {\"lat\": [41.616015824789, 41.6006625827308], \"lon\": [-73.1177301876986, -72.9731820072739], \"marker\": {\"size\": 10}, \"mode\": \"markers+lines\", \"name\": \"Route108\", \"text\": [\"Watertown-108\", \"Wolcott-107\"], \"textposition\": \"top center\", \"type\": \"scattermapbox\"}, {\"lat\": [41.5271246742485, 41.616015824789], \"lon\": [-73.12276027340859, -73.1177301876986], \"marker\": {\"size\": 10}, \"mode\": \"markers+lines\", \"name\": \"Route109\", \"text\": [\"Middlebury-109\", \"Watertown-108\"], \"textposition\": \"top center\", \"type\": \"scattermapbox\"}, {\"lat\": [41.431314709575794, 41.5271246742485], \"lon\": [-73.1350983140828, -73.12276027340859], \"marker\": {\"size\": 10}, \"mode\": \"markers+lines\", \"name\": \"Route110\", \"text\": [\"Oxford-110\", \"Middlebury-109\"], \"textposition\": \"top center\", \"type\": \"scattermapbox\"}, {\"lat\": [41.4745319243586, 41.431314709575794], \"lon\": [-73.23274796141651, -73.1350983140828], \"marker\": {\"size\": 10}, \"mode\": \"markers+lines\", \"name\": \"Route111\", \"text\": [\"Southbury-111\", \"Oxford-110\"], \"textposition\": \"top center\", \"type\": \"scattermapbox\"}, {\"lat\": [41.398822983464605, 41.4745319243586], \"lon\": [-73.29282774457009, -73.23274796141651], \"marker\": {\"size\": 10}, \"mode\": \"markers+lines\", \"name\": \"Route112\", \"text\": [\"Newtown-112\", \"Southbury-111\"], \"textposition\": \"top center\", \"type\": \"scattermapbox\"}, {\"lat\": [41.3379344444351, 41.398822983464605], \"lon\": [-73.2249189440438, -73.29282774457009], \"marker\": {\"size\": 10}, \"mode\": \"markers+lines\", \"name\": \"Route113\", \"text\": [\"Monroe-113\", \"Newtown-112\"], \"textposition\": \"top center\", \"type\": \"scattermapbox\"}, {\"lat\": [41.3060975143692, 41.3379344444351], \"lon\": [-73.13822123369779, -73.2249189440438], \"marker\": {\"size\": 10}, \"mode\": \"markers+lines\", \"name\": \"Route114\", \"text\": [\"Shelton-114\", \"Monroe-113\"], \"textposition\": \"top center\", \"type\": \"scattermapbox\"}, {\"lat\": [41.260173481741205, 41.3060975143692], \"lon\": [-73.2084247211173, -73.13822123369779], \"marker\": {\"size\": 10}, \"mode\": \"markers+lines\", \"name\": \"Route115\", \"text\": [\"Trumbull-115\", \"Shelton-114\"], \"textposition\": \"top center\", \"type\": \"scattermapbox\"}, {\"lat\": [41.2648859129813, 41.260173481741205], \"lon\": [-73.30008424693729, -73.2084247211173], \"marker\": {\"size\": 10}, \"mode\": \"markers+lines\", \"name\": \"Route116\", \"text\": [\"Easton-116\", \"Trumbull-115\"], \"textposition\": \"top center\", \"type\": \"scattermapbox\"}, {\"lat\": [41.228433019273794, 41.2648859129813], \"lon\": [-73.37256725904192, -73.30008424693729], \"marker\": {\"size\": 10}, \"mode\": \"markers+lines\", \"name\": \"Route117\", \"text\": [\"Weston-117\", \"Easton-116\"], \"textposition\": \"top center\", \"type\": \"scattermapbox\"}, {\"lat\": [41.305021333867295, 41.228433019273794], \"lon\": [-73.3913916801082, -73.37256725904192], \"marker\": {\"size\": 10}, \"mode\": \"markers+lines\", \"name\": \"Route118\", \"text\": [\"Redding-118\", \"Weston-117\"], \"textposition\": \"top center\", \"type\": \"scattermapbox\"}, {\"lat\": [41.374801560580295, 41.305021333867295], \"lon\": [-73.39265624011591, -73.3913916801082], \"marker\": {\"size\": 10}, \"mode\": \"markers+lines\", \"name\": \"Route119\", \"text\": [\"Bethel-119\", \"Redding-118\"], \"textposition\": \"top center\", \"type\": \"scattermapbox\"}, {\"lat\": [41.46752965155571, 41.374801560580295], \"lon\": [-73.3923244597689, -73.39265624011591], \"marker\": {\"size\": 10}, \"mode\": \"markers+lines\", \"name\": \"Route120\", \"text\": [\"Brookfield-120\", \"Bethel-119\"], \"textposition\": \"top center\", \"type\": \"scattermapbox\"}, {\"lat\": [41.5208399735827, 41.46752965155571], \"lon\": [-73.3600973886368, -73.3923244597689], \"marker\": {\"size\": 10}, \"mode\": \"markers+lines\", \"name\": \"Route121\", \"text\": [\"Bridgewater-121\", \"Brookfield-120\"], \"textposition\": \"top center\", \"type\": \"scattermapbox\"}, {\"lat\": [41.6522912170332, 41.5208399735827], \"lon\": [-73.31454070999929, -73.3600973886368], \"marker\": {\"size\": 10}, \"mode\": \"markers+lines\", \"name\": \"Route122\", \"text\": [\"Washington-122\", \"Bridgewater-121\"], \"textposition\": \"top center\", \"type\": \"scattermapbox\"}, {\"lat\": [41.5539629750069, 41.6522912170332], \"lon\": [-73.30056856944191, -73.31454070999929], \"marker\": {\"size\": 10}, \"mode\": \"markers+lines\", \"name\": \"Route123\", \"text\": [\"Roxbury-123\", \"Washington-122\"], \"textposition\": \"top center\", \"type\": \"scattermapbox\"}, {\"lat\": [41.561360772670604, 41.5539629750069], \"lon\": [-73.20720726172492, -73.30056856944191], \"marker\": {\"size\": 10}, \"mode\": \"markers+lines\", \"name\": \"Route124\", \"text\": [\"Woodbury-124\", \"Roxbury-123\"], \"textposition\": \"top center\", \"type\": \"scattermapbox\"}, {\"lat\": [41.6374955633252, 41.561360772670604], \"lon\": [-73.2113934154445, -73.20720726172492], \"marker\": {\"size\": 10}, \"mode\": \"markers+lines\", \"name\": \"Route125\", \"text\": [\"Bethlehem-125\", \"Woodbury-124\"], \"textposition\": \"top center\", \"type\": \"scattermapbox\"}, {\"lat\": [41.6897975797642, 41.6374955633252], \"lon\": [-73.2079925872203, -73.2113934154445], \"marker\": {\"size\": 10}, \"mode\": \"markers+lines\", \"name\": \"Route126\", \"text\": [\"Morris-126\", \"Bethlehem-125\"], \"textposition\": \"top center\", \"type\": \"scattermapbox\"}, {\"lat\": [41.7413071978242, 41.6897975797642], \"lon\": [-73.1931458075758, -73.2079925872203], \"marker\": {\"size\": 10}, \"mode\": \"markers+lines\", \"name\": \"Route127\", \"text\": [\"Litchfield-127\", \"Morris-126\"], \"textposition\": \"top center\", \"type\": \"scattermapbox\"}, {\"lat\": [41.7550048175454, 41.7413071978242], \"lon\": [-73.0582653297907, -73.1931458075758], \"marker\": {\"size\": 10}, \"mode\": \"markers+lines\", \"name\": \"Route128\", \"text\": [\"Harwinton-128\", \"Litchfield-127\"], \"textposition\": \"top center\", \"type\": \"scattermapbox\"}, {\"lat\": [41.6697057889872, 41.7550048175454], \"lon\": [-73.0858876745003, -73.0582653297907], \"marker\": {\"size\": 10}, \"mode\": \"markers+lines\", \"name\": \"Route129\", \"text\": [\"Thomaston-129\", \"Harwinton-128\"], \"textposition\": \"top center\", \"type\": \"scattermapbox\"}, {\"lat\": [41.6641584144003, 41.6697057889872], \"lon\": [-73.0262780011343, -73.0858876745003], \"marker\": {\"size\": 10}, \"mode\": \"markers+lines\", \"name\": \"Route130\", \"text\": [\"Plymouth-130\", \"Thomaston-129\"], \"textposition\": \"top center\", \"type\": \"scattermapbox\"}, {\"lat\": [41.6810808569771, 41.6641584144003], \"lon\": [-72.9406338211413, -73.0262780011343], \"marker\": {\"size\": 10}, \"mode\": \"markers+lines\", \"name\": \"Route131\", \"text\": [\"Bristol-131\", \"Plymouth-130\"], \"textposition\": \"top center\", \"type\": \"scattermapbox\"}, {\"lat\": [41.75987067192471, 41.6810808569771], \"lon\": [-72.9590844223388, -72.9406338211413], \"marker\": {\"size\": 10}, \"mode\": \"markers+lines\", \"name\": \"Route132\", \"text\": [\"Burlington-132\", \"Bristol-131\"], \"textposition\": \"top center\", \"type\": \"scattermapbox\"}, {\"lat\": [41.790697032807, 41.75987067192471], \"lon\": [-72.8540158383504, -72.9590844223388], \"marker\": {\"size\": 10}, \"mode\": \"markers+lines\", \"name\": \"Route133\", \"text\": [\"Avon-133\", \"Burlington-132\"], \"textposition\": \"top center\", \"type\": \"scattermapbox\"}, {\"lat\": [41.7288400459629, 41.790697032807], \"lon\": [-72.84094406240949, -72.8540158383504], \"marker\": {\"size\": 10}, \"mode\": \"markers+lines\", \"name\": \"Route134\", \"text\": [\"Farmington-134\", \"Avon-133\"], \"textposition\": \"top center\", \"type\": \"scattermapbox\"}, {\"lat\": [41.674147416588504, 41.7288400459629], \"lon\": [-72.8571304957605, -72.84094406240949], \"marker\": {\"size\": 10}, \"mode\": \"markers+lines\", \"name\": \"Route135\", \"text\": [\"Plainville-135\", \"Farmington-134\"], \"textposition\": \"top center\", \"type\": \"scattermapbox\"}, {\"lat\": [41.6760020842678, 41.674147416588504], \"lon\": [-72.7859315625518, -72.8571304957605], \"marker\": {\"size\": 10}, \"mode\": \"markers+lines\", \"name\": \"Route136\", \"text\": [\"New Britain-136\", \"Plainville-135\"], \"textposition\": \"top center\", \"type\": \"scattermapbox\"}, {\"lat\": [41.686986134308796, 41.6760020842678], \"lon\": [-72.7309184896193, -72.7859315625518], \"marker\": {\"size\": 10}, \"mode\": \"markers+lines\", \"name\": \"Route137\", \"text\": [\"Newington-137\", \"New Britain-136\"], \"textposition\": \"top center\", \"type\": \"scattermapbox\"}, {\"lat\": [41.6571099624868, 41.686986134308796], \"lon\": [-72.6632873641259, -72.7309184896193], \"marker\": {\"size\": 10}, \"mode\": \"markers+lines\", \"name\": \"Route138\", \"text\": [\"Rocky Hill-138\", \"Newington-137\"], \"textposition\": \"top center\", \"type\": \"scattermapbox\"}, {\"lat\": [41.7011868652194, 41.6571099624868], \"lon\": [-72.6703646023617, -72.6632873641259], \"marker\": {\"size\": 10}, \"mode\": \"markers+lines\", \"name\": \"Route139\", \"text\": [\"Wethersfield-139\", \"Rocky Hill-138\"], \"textposition\": \"top center\", \"type\": \"scattermapbox\"}, {\"lat\": [41.7660045597751, 41.7011868652194], \"lon\": [-72.6834270445884, -72.6703646023617], \"marker\": {\"size\": 10}, \"mode\": \"markers+lines\", \"name\": \"Route140\", \"text\": [\"Hartford-140\", \"Wethersfield-139\"], \"textposition\": \"top center\", \"type\": \"scattermapbox\"}, {\"lat\": [41.7669492878176, 41.7660045597751], \"lon\": [-72.7538722699359, -72.6834270445884], \"marker\": {\"size\": 10}, \"mode\": \"markers+lines\", \"name\": \"Route141\", \"text\": [\"West Hartford-141\", \"Hartford-140\"], \"textposition\": \"top center\", \"type\": \"scattermapbox\"}, {\"lat\": [41.763461161618096, 41.7669492878176], \"lon\": [-72.6152853024233, -72.7538722699359], \"marker\": {\"size\": 10}, \"mode\": \"markers+lines\", \"name\": \"Route142\", \"text\": [\"East Hartford-142\", \"West Hartford-141\"], \"textposition\": \"top center\", \"type\": \"scattermapbox\"}, {\"lat\": [41.8352178682275, 41.763461161618096], \"lon\": [-72.5734404755258, -72.6152853024233], \"marker\": {\"size\": 10}, \"mode\": \"markers+lines\", \"name\": \"Route143\", \"text\": [\"South Windsor-143\", \"East Hartford-142\"], \"textposition\": \"top center\", \"type\": \"scattermapbox\"}, {\"lat\": [41.7752467245319, 41.8352178682275], \"lon\": [-72.5242263078394, -72.5734404755258], \"marker\": {\"size\": 10}, \"mode\": \"markers+lines\", \"name\": \"Route144\", \"text\": [\"Manchester-144\", \"South Windsor-143\"], \"textposition\": \"top center\", \"type\": \"scattermapbox\"}, {\"lat\": [41.766401884112895, 41.7752467245319], \"lon\": [-72.439087792347, -72.5242263078394], \"marker\": {\"size\": 10}, \"mode\": \"markers+lines\", \"name\": \"Route145\", \"text\": [\"Bolton-145\", \"Manchester-144\"], \"textposition\": \"top center\", \"type\": \"scattermapbox\"}, {\"lat\": [41.836415024626604, 41.766401884112895], \"lon\": [-72.4607471462613, -72.439087792347], \"marker\": {\"size\": 10}, \"mode\": \"markers+lines\", \"name\": \"Route146\", \"text\": [\"Vernon-146\", \"Bolton-145\"], \"textposition\": \"top center\", \"type\": \"scattermapbox\"}, {\"lat\": [41.9151388393704, 41.836415024626604], \"lon\": [-72.448494217229, -72.4607471462613], \"marker\": {\"size\": 10}, \"mode\": \"markers+lines\", \"name\": \"Route147\", \"text\": [\"Ellington-147\", \"Vernon-146\"], \"textposition\": \"top center\", \"type\": \"scattermapbox\"}, {\"lat\": [41.994879419309996, 41.9151388393704], \"lon\": [-72.4530514231731, -72.448494217229], \"marker\": {\"size\": 10}, \"mode\": \"markers+lines\", \"name\": \"Route148\", \"text\": [\"Somers-148\", \"Ellington-147\"], \"textposition\": \"top center\", \"type\": \"scattermapbox\"}, {\"lat\": [41.9839789750923, 41.994879419309996], \"lon\": [-72.55471870029, -72.4530514231731], \"marker\": {\"size\": 10}, \"mode\": \"markers+lines\", \"name\": \"Route149\", \"text\": [\"Enfield-149\", \"Somers-148\"], \"textposition\": \"top center\", \"type\": \"scattermapbox\"}, {\"lat\": [41.904929960402, 41.9839789750923], \"lon\": [-72.56730081590659, -72.55471870029], \"marker\": {\"size\": 10}, \"mode\": \"markers+lines\", \"name\": \"Route150\", \"text\": [\"East Windsor-150\", \"Enfield-149\"], \"textposition\": \"top center\", \"type\": \"scattermapbox\"}, {\"lat\": [41.9267906193425, 41.904929960402], \"lon\": [-72.65484126141241, -72.56730081590659], \"marker\": {\"size\": 10}, \"mode\": \"markers+lines\", \"name\": \"Route151\", \"text\": [\"Windsor Locks-151\", \"East Windsor-150\"], \"textposition\": \"top center\", \"type\": \"scattermapbox\"}, {\"lat\": [41.9944863271393, 41.9267906193425], \"lon\": [-72.6788512497815, -72.65484126141241], \"marker\": {\"size\": 10}, \"mode\": \"markers+lines\", \"name\": \"Route152\", \"text\": [\"Suffield-152\", \"Windsor Locks-151\"], \"textposition\": \"top center\", \"type\": \"scattermapbox\"}, {\"lat\": [41.871287740846896, 41.9944863271393], \"lon\": [-72.6736582647048, -72.6788512497815], \"marker\": {\"size\": 10}, \"mode\": \"markers+lines\", \"name\": \"Route153\", \"text\": [\"Windsor-153\", \"Suffield-152\"], \"textposition\": \"top center\", \"type\": \"scattermapbox\"}, {\"lat\": [41.8426291646744, 41.871287740846896], \"lon\": [-72.74073779390041, -72.6736582647048], \"marker\": {\"size\": 10}, \"mode\": \"markers+lines\", \"name\": \"Route154\", \"text\": [\"Bloomfield-154\", \"Windsor-153\"], \"textposition\": \"top center\", \"type\": \"scattermapbox\"}, {\"lat\": [41.942477007580706, 41.8426291646744], \"lon\": [-72.74113864747609, -72.74073779390041], \"marker\": {\"size\": 10}, \"mode\": \"markers+lines\", \"name\": \"Route155\", \"text\": [\"East Granby-155\", \"Bloomfield-154\"], \"textposition\": \"top center\", \"type\": \"scattermapbox\"}, {\"lat\": [41.969545409347205, 41.942477007580706], \"lon\": [-72.8348515800958, -72.74113864747609], \"marker\": {\"size\": 10}, \"mode\": \"markers+lines\", \"name\": \"Route156\", \"text\": [\"Granby-156\", \"East Granby-155\"], \"textposition\": \"top center\", \"type\": \"scattermapbox\"}, {\"lat\": [41.873002196110704, 41.969545409347205], \"lon\": [-72.82580761596621, -72.8348515800958], \"marker\": {\"size\": 10}, \"mode\": \"markers+lines\", \"name\": \"Route157\", \"text\": [\"Simsbury-157\", \"Granby-156\"], \"textposition\": \"top center\", \"type\": \"scattermapbox\"}, {\"lat\": [41.8599346850351, 41.873002196110704], \"lon\": [-72.9085434023694, -72.82580761596621], \"marker\": {\"size\": 10}, \"mode\": \"markers+lines\", \"name\": \"Route158\", \"text\": [\"Canton-158\", \"Simsbury-157\"], \"textposition\": \"top center\", \"type\": \"scattermapbox\"}, {\"lat\": [41.844227114742296, 41.8599346850351], \"lon\": [-73.0055296300638, -72.9085434023694], \"marker\": {\"size\": 10}, \"mode\": \"markers+lines\", \"name\": \"Route159\", \"text\": [\"New Hartford-159\", \"Canton-158\"], \"textposition\": \"top center\", \"type\": \"scattermapbox\"}, {\"lat\": [41.9315839801224, 41.844227114742296], \"lon\": [-72.97295525251491, -73.0055296300638], \"marker\": {\"size\": 10}, \"mode\": \"markers+lines\", \"name\": \"Route160\", \"text\": [\"Barkhamsted-160\", \"New Hartford-159\"], \"textposition\": \"top center\", \"type\": \"scattermapbox\"}, {\"lat\": [42.0042931274258, 41.9315839801224], \"lon\": [-72.9488967294987, -72.97295525251491], \"marker\": {\"size\": 10}, \"mode\": \"markers+lines\", \"name\": \"Route161\", \"text\": [\"Hartland-161\", \"Barkhamsted-160\"], \"textposition\": \"top center\", \"type\": \"scattermapbox\"}, {\"lat\": [42.0015458695464, 42.0042931274258], \"lon\": [-73.0808105833225, -72.9488967294987], \"marker\": {\"size\": 10}, \"mode\": \"markers+lines\", \"name\": \"Route162\", \"text\": [\"Colebrook-162\", \"Hartland-161\"], \"textposition\": \"top center\", \"type\": \"scattermapbox\"}, {\"lat\": [41.92188246061121, 42.0015458695464], \"lon\": [-73.10281770555859, -73.0808105833225], \"marker\": {\"size\": 10}, \"mode\": \"markers+lines\", \"name\": \"Route163\", \"text\": [\"Winchester-163\", \"Colebrook-162\"], \"textposition\": \"top center\", \"type\": \"scattermapbox\"}, {\"lat\": [41.8349402852756, 41.92188246061121], \"lon\": [-73.128075803883, -73.10281770555859], \"marker\": {\"size\": 10}, \"mode\": \"markers+lines\", \"name\": \"Route164\", \"text\": [\"Torrington-164\", \"Winchester-163\"], \"textposition\": \"top center\", \"type\": \"scattermapbox\"}, {\"lat\": [41.8500986021862, 41.8349402852756], \"lon\": [-73.2335576516127, -73.128075803883], \"marker\": {\"size\": 10}, \"mode\": \"markers+lines\", \"name\": \"Route165\", \"text\": [\"Goshen-165\", \"Torrington-164\"], \"textposition\": \"top center\", \"type\": \"scattermapbox\"}, {\"lat\": [41.9801449565525, 41.8500986021862], \"lon\": [-73.1962241920279, -73.2335576516127], \"marker\": {\"size\": 10}, \"mode\": \"markers+lines\", \"name\": \"Route166\", \"text\": [\"Norfolk-166\", \"Goshen-165\"], \"textposition\": \"top center\", \"type\": \"scattermapbox\"}, {\"lat\": [42.022264251516795, 41.9801449565525], \"lon\": [-73.2935685900945, -73.1962241920279], \"marker\": {\"size\": 10}, \"mode\": \"markers+lines\", \"name\": \"Route167\", \"text\": [\"North Canaan-167\", \"Norfolk-166\"], \"textposition\": \"top center\", \"type\": \"scattermapbox\"}, {\"lat\": [41.9598824529327, 42.022264251516795], \"lon\": [-73.31004419446779, -73.2935685900945], \"marker\": {\"size\": 10}, \"mode\": \"markers+lines\", \"name\": \"Route168\", \"text\": [\"Canaan-168\", \"North Canaan-167\"], \"textposition\": \"top center\", \"type\": \"scattermapbox\"}, {\"lat\": [41.9860188845167, 41.9598824529327], \"lon\": [-73.4256505768319, -73.31004419446779], \"marker\": {\"size\": 10}, \"mode\": \"markers+lines\", \"name\": \"Route169\", \"text\": [\"Salisbury-169\", \"Canaan-168\"], \"textposition\": \"top center\", \"type\": \"scattermapbox\"}],\n",
              "                        {\"mapbox\": {\"center\": {\"lat\": 41.26878471063158, \"lon\": -73.37656607409332}, \"style\": \"carto-darkmatter\", \"zoom\": 6.25}, \"margin\": {\"b\": 0, \"l\": 0, \"r\": 0, \"t\": 0}, \"template\": {\"data\": {\"bar\": [{\"error_x\": {\"color\": \"#2a3f5f\"}, \"error_y\": {\"color\": \"#2a3f5f\"}, \"marker\": {\"line\": {\"color\": \"#E5ECF6\", \"width\": 0.5}}, \"type\": \"bar\"}], \"barpolar\": [{\"marker\": {\"line\": {\"color\": \"#E5ECF6\", \"width\": 0.5}}, \"type\": \"barpolar\"}], \"carpet\": [{\"aaxis\": {\"endlinecolor\": \"#2a3f5f\", \"gridcolor\": \"white\", \"linecolor\": \"white\", \"minorgridcolor\": \"white\", \"startlinecolor\": \"#2a3f5f\"}, \"baxis\": {\"endlinecolor\": \"#2a3f5f\", \"gridcolor\": \"white\", \"linecolor\": \"white\", \"minorgridcolor\": \"white\", \"startlinecolor\": \"#2a3f5f\"}, \"type\": \"carpet\"}], \"choropleth\": [{\"colorbar\": {\"outlinewidth\": 0, \"ticks\": \"\"}, \"type\": \"choropleth\"}], \"contour\": [{\"colorbar\": {\"outlinewidth\": 0, \"ticks\": \"\"}, \"colorscale\": [[0.0, \"#0d0887\"], [0.1111111111111111, \"#46039f\"], [0.2222222222222222, \"#7201a8\"], [0.3333333333333333, \"#9c179e\"], [0.4444444444444444, \"#bd3786\"], [0.5555555555555556, \"#d8576b\"], [0.6666666666666666, \"#ed7953\"], [0.7777777777777778, \"#fb9f3a\"], [0.8888888888888888, \"#fdca26\"], [1.0, \"#f0f921\"]], \"type\": \"contour\"}], \"contourcarpet\": [{\"colorbar\": {\"outlinewidth\": 0, \"ticks\": \"\"}, \"type\": \"contourcarpet\"}], \"heatmap\": [{\"colorbar\": {\"outlinewidth\": 0, \"ticks\": \"\"}, \"colorscale\": [[0.0, \"#0d0887\"], [0.1111111111111111, \"#46039f\"], [0.2222222222222222, \"#7201a8\"], [0.3333333333333333, \"#9c179e\"], [0.4444444444444444, \"#bd3786\"], [0.5555555555555556, \"#d8576b\"], [0.6666666666666666, \"#ed7953\"], [0.7777777777777778, \"#fb9f3a\"], [0.8888888888888888, \"#fdca26\"], [1.0, \"#f0f921\"]], \"type\": \"heatmap\"}], \"heatmapgl\": [{\"colorbar\": {\"outlinewidth\": 0, \"ticks\": \"\"}, \"colorscale\": [[0.0, \"#0d0887\"], [0.1111111111111111, \"#46039f\"], [0.2222222222222222, \"#7201a8\"], [0.3333333333333333, \"#9c179e\"], [0.4444444444444444, \"#bd3786\"], [0.5555555555555556, \"#d8576b\"], [0.6666666666666666, \"#ed7953\"], [0.7777777777777778, \"#fb9f3a\"], [0.8888888888888888, \"#fdca26\"], [1.0, \"#f0f921\"]], \"type\": \"heatmapgl\"}], \"histogram\": [{\"marker\": {\"colorbar\": {\"outlinewidth\": 0, \"ticks\": \"\"}}, \"type\": \"histogram\"}], \"histogram2d\": [{\"colorbar\": {\"outlinewidth\": 0, \"ticks\": \"\"}, \"colorscale\": [[0.0, \"#0d0887\"], [0.1111111111111111, \"#46039f\"], [0.2222222222222222, \"#7201a8\"], [0.3333333333333333, \"#9c179e\"], [0.4444444444444444, \"#bd3786\"], [0.5555555555555556, \"#d8576b\"], [0.6666666666666666, \"#ed7953\"], [0.7777777777777778, \"#fb9f3a\"], [0.8888888888888888, \"#fdca26\"], [1.0, \"#f0f921\"]], \"type\": \"histogram2d\"}], \"histogram2dcontour\": [{\"colorbar\": {\"outlinewidth\": 0, \"ticks\": \"\"}, \"colorscale\": [[0.0, \"#0d0887\"], [0.1111111111111111, \"#46039f\"], [0.2222222222222222, \"#7201a8\"], [0.3333333333333333, \"#9c179e\"], [0.4444444444444444, \"#bd3786\"], [0.5555555555555556, \"#d8576b\"], [0.6666666666666666, \"#ed7953\"], [0.7777777777777778, \"#fb9f3a\"], [0.8888888888888888, \"#fdca26\"], [1.0, \"#f0f921\"]], \"type\": \"histogram2dcontour\"}], \"mesh3d\": [{\"colorbar\": {\"outlinewidth\": 0, \"ticks\": \"\"}, \"type\": \"mesh3d\"}], \"parcoords\": [{\"line\": {\"colorbar\": {\"outlinewidth\": 0, \"ticks\": \"\"}}, \"type\": \"parcoords\"}], \"pie\": [{\"automargin\": true, \"type\": \"pie\"}], \"scatter\": [{\"marker\": {\"colorbar\": {\"outlinewidth\": 0, \"ticks\": \"\"}}, \"type\": \"scatter\"}], \"scatter3d\": [{\"line\": {\"colorbar\": {\"outlinewidth\": 0, \"ticks\": \"\"}}, \"marker\": {\"colorbar\": {\"outlinewidth\": 0, \"ticks\": \"\"}}, \"type\": \"scatter3d\"}], \"scattercarpet\": [{\"marker\": {\"colorbar\": {\"outlinewidth\": 0, \"ticks\": \"\"}}, \"type\": \"scattercarpet\"}], \"scattergeo\": [{\"marker\": {\"colorbar\": {\"outlinewidth\": 0, \"ticks\": \"\"}}, \"type\": \"scattergeo\"}], \"scattergl\": [{\"marker\": {\"colorbar\": {\"outlinewidth\": 0, \"ticks\": \"\"}}, \"type\": \"scattergl\"}], \"scattermapbox\": [{\"marker\": {\"colorbar\": {\"outlinewidth\": 0, \"ticks\": \"\"}}, \"type\": \"scattermapbox\"}], \"scatterpolar\": [{\"marker\": {\"colorbar\": {\"outlinewidth\": 0, \"ticks\": \"\"}}, \"type\": \"scatterpolar\"}], \"scatterpolargl\": [{\"marker\": {\"colorbar\": {\"outlinewidth\": 0, \"ticks\": \"\"}}, \"type\": \"scatterpolargl\"}], \"scatterternary\": [{\"marker\": {\"colorbar\": {\"outlinewidth\": 0, \"ticks\": \"\"}}, \"type\": \"scatterternary\"}], \"surface\": [{\"colorbar\": {\"outlinewidth\": 0, \"ticks\": \"\"}, \"colorscale\": [[0.0, \"#0d0887\"], [0.1111111111111111, \"#46039f\"], [0.2222222222222222, \"#7201a8\"], [0.3333333333333333, \"#9c179e\"], [0.4444444444444444, \"#bd3786\"], [0.5555555555555556, \"#d8576b\"], [0.6666666666666666, \"#ed7953\"], [0.7777777777777778, \"#fb9f3a\"], [0.8888888888888888, \"#fdca26\"], [1.0, \"#f0f921\"]], \"type\": \"surface\"}], \"table\": [{\"cells\": {\"fill\": {\"color\": \"#EBF0F8\"}, \"line\": {\"color\": \"white\"}}, \"header\": {\"fill\": {\"color\": \"#C8D4E3\"}, \"line\": {\"color\": \"white\"}}, \"type\": \"table\"}]}, \"layout\": {\"annotationdefaults\": {\"arrowcolor\": \"#2a3f5f\", \"arrowhead\": 0, \"arrowwidth\": 1}, \"coloraxis\": {\"colorbar\": {\"outlinewidth\": 0, \"ticks\": \"\"}}, \"colorscale\": {\"diverging\": [[0, \"#8e0152\"], [0.1, \"#c51b7d\"], [0.2, \"#de77ae\"], [0.3, \"#f1b6da\"], [0.4, \"#fde0ef\"], [0.5, \"#f7f7f7\"], [0.6, \"#e6f5d0\"], [0.7, \"#b8e186\"], [0.8, \"#7fbc41\"], [0.9, \"#4d9221\"], [1, \"#276419\"]], \"sequential\": [[0.0, \"#0d0887\"], [0.1111111111111111, \"#46039f\"], [0.2222222222222222, \"#7201a8\"], [0.3333333333333333, \"#9c179e\"], [0.4444444444444444, \"#bd3786\"], [0.5555555555555556, \"#d8576b\"], [0.6666666666666666, \"#ed7953\"], [0.7777777777777778, \"#fb9f3a\"], [0.8888888888888888, \"#fdca26\"], [1.0, \"#f0f921\"]], \"sequentialminus\": [[0.0, \"#0d0887\"], [0.1111111111111111, \"#46039f\"], [0.2222222222222222, \"#7201a8\"], [0.3333333333333333, \"#9c179e\"], [0.4444444444444444, \"#bd3786\"], [0.5555555555555556, \"#d8576b\"], [0.6666666666666666, \"#ed7953\"], [0.7777777777777778, \"#fb9f3a\"], [0.8888888888888888, \"#fdca26\"], [1.0, \"#f0f921\"]]}, \"colorway\": [\"#636efa\", \"#EF553B\", \"#00cc96\", \"#ab63fa\", \"#FFA15A\", \"#19d3f3\", \"#FF6692\", \"#B6E880\", \"#FF97FF\", \"#FECB52\"], \"font\": {\"color\": \"#2a3f5f\"}, \"geo\": {\"bgcolor\": \"white\", \"lakecolor\": \"white\", \"landcolor\": \"#E5ECF6\", \"showlakes\": true, \"showland\": true, \"subunitcolor\": \"white\"}, \"hoverlabel\": {\"align\": \"left\"}, \"hovermode\": \"closest\", \"mapbox\": {\"style\": \"light\"}, \"paper_bgcolor\": \"white\", \"plot_bgcolor\": \"#E5ECF6\", \"polar\": {\"angularaxis\": {\"gridcolor\": \"white\", \"linecolor\": \"white\", \"ticks\": \"\"}, \"bgcolor\": \"#E5ECF6\", \"radialaxis\": {\"gridcolor\": \"white\", \"linecolor\": \"white\", \"ticks\": \"\"}}, \"scene\": {\"xaxis\": {\"backgroundcolor\": \"#E5ECF6\", \"gridcolor\": \"white\", \"gridwidth\": 2, \"linecolor\": \"white\", \"showbackground\": true, \"ticks\": \"\", \"zerolinecolor\": \"white\"}, \"yaxis\": {\"backgroundcolor\": \"#E5ECF6\", \"gridcolor\": \"white\", \"gridwidth\": 2, \"linecolor\": \"white\", \"showbackground\": true, \"ticks\": \"\", \"zerolinecolor\": \"white\"}, \"zaxis\": {\"backgroundcolor\": \"#E5ECF6\", \"gridcolor\": \"white\", \"gridwidth\": 2, \"linecolor\": \"white\", \"showbackground\": true, \"ticks\": \"\", \"zerolinecolor\": \"white\"}}, \"shapedefaults\": {\"line\": {\"color\": \"#2a3f5f\"}}, \"ternary\": {\"aaxis\": {\"gridcolor\": \"white\", \"linecolor\": \"white\", \"ticks\": \"\"}, \"baxis\": {\"gridcolor\": \"white\", \"linecolor\": \"white\", \"ticks\": \"\"}, \"bgcolor\": \"#E5ECF6\", \"caxis\": {\"gridcolor\": \"white\", \"linecolor\": \"white\", \"ticks\": \"\"}}, \"title\": {\"x\": 0.05}, \"xaxis\": {\"automargin\": true, \"gridcolor\": \"white\", \"linecolor\": \"white\", \"ticks\": \"\", \"title\": {\"standoff\": 15}, \"zerolinecolor\": \"white\", \"zerolinewidth\": 2}, \"yaxis\": {\"automargin\": true, \"gridcolor\": \"white\", \"linecolor\": \"white\", \"ticks\": \"\", \"title\": {\"standoff\": 15}, \"zerolinecolor\": \"white\", \"zerolinewidth\": 2}}}, \"title\": {\"text\": \"TRAVELING SALESMAN ROUTE\"}},\n",
              "                        {\"scrollZoom\": false, \"responsive\": true}\n",
              "                    ).then(function(){\n",
              "                            \n",
              "var gd = document.getElementById('96392d24-78c8-4473-ab8a-733eea482b16');\n",
              "var x = new MutationObserver(function (mutations, observer) {{\n",
              "        var display = window.getComputedStyle(gd).display;\n",
              "        if (!display || display === 'none') {{\n",
              "            console.log([gd, 'removed!']);\n",
              "            Plotly.purge(gd);\n",
              "            observer.disconnect();\n",
              "        }}\n",
              "}});\n",
              "\n",
              "// Listen for the removal of the full notebook cells\n",
              "var notebookContainer = gd.closest('#notebook-container');\n",
              "if (notebookContainer) {{\n",
              "    x.observe(notebookContainer, {childList: true});\n",
              "}}\n",
              "\n",
              "// Listen for the clearing of the current output cell\n",
              "var outputEl = gd.closest('.output');\n",
              "if (outputEl) {{\n",
              "    x.observe(outputEl, {childList: true});\n",
              "}}\n",
              "\n",
              "                        })\n",
              "                };\n",
              "                \n",
              "            </script>\n",
              "        </div>\n",
              "</body>\n",
              "</html>"
            ]
          },
          "metadata": {
            "tags": []
          }
        },
        {
          "output_type": "stream",
          "name": "stdout",
          "text": [
            "time: 2.25 s (started: 2021-04-19 15:04:52 +00:00)\n"
          ]
        }
      ],
      "metadata": {
        "colab": {
          "base_uri": "https://localhost:8080/",
          "height": 561
        },
        "id": "Pj5Wn5X--iCN",
        "outputId": "7e984c47-8627-47fe-c752-9b709210161a"
      }
    },
    {
      "cell_type": "markdown",
      "source": [
        "**We notice OR tools has generated an optimal solution which travels in clockwise direction.**"
      ],
      "metadata": {
        "id": "Fm0i_IVc1NVB"
      }
    },
    {
      "cell_type": "markdown",
      "source": [
        "#### Animated Visualisation"
      ],
      "metadata": {
        "id": "UYqtOTTYdxDg"
      }
    },
    {
      "cell_type": "code",
      "execution_count": null,
      "source": [
        "fig = go.Figure(go.Scattermapbox(\r\n",
        "    mode = \"markers+lines\",\r\n",
        "    lon = geogTable_orig2['X'], #longitude\r\n",
        "    lat = geogTable_orig2['Y'], #latitude\r\n",
        "    name=\"Traveling Salesman\", \r\n",
        "    hovertext=geogTable_orig2['TOWN'], #town name\r\n",
        "    marker = {'size': 10}),\r\n",
        "    layout=go.Layout(\r\n",
        "        hovermode=\"closest\",\r\n",
        "        updatemenus=[dict(type=\"buttons\",\r\n",
        "                          buttons=[dict(label=\"Play\",\r\n",
        "                                        method=\"animate\",\r\n",
        "                                        args=[None])])]),\r\n",
        "        frames=[go.Frame(\r\n",
        "        data=[go.Scattermapbox(\r\n",
        "            lon=[geogTable_orig2.iloc[k,1]],\r\n",
        "            lat=[geogTable_orig2.iloc[k,2]],\r\n",
        "            mode=\"markers\",\r\n",
        "            marker=dict(color=\"red\", size=10))])\r\n",
        "\r\n",
        "        for k in range(len(geogTable_orig2))]\r\n",
        ")\r\n",
        "fig.add_trace(go.Scattermapbox(\r\n",
        "    mode = \"markers+lines\",\r\n",
        "    lon = geogTable_orig2['X'], #longitude\r\n",
        "    lat = geogTable_orig2['Y'], #latitude\r\n",
        "    name=\"Main Route\", \r\n",
        "    hovertext=geogTable_orig2['TOWN'], #town name\r\n",
        "    marker=dict(color=\"blue\", size=5)))\r\n",
        "\r\n",
        "  \r\n",
        "fig.update_layout(mapbox_style=\"carto-darkmatter\", mapbox_zoom=8.25, mapbox_center_lat = 41.26878471063158,mapbox_center_lon = -73.37656607409332,\r\n",
        "    margin={\"r\":0,\"t\":0,\"l\":0,\"b\":0},title=\"TRAVELING SALESMAN ROUTE\")\r\n",
        "config = dict({'scrollZoom': False})\r\n",
        "fig.show(config=config)"
      ],
      "outputs": [
        {
          "output_type": "display_data",
          "data": {
            "text/html": [
              "<html>\n",
              "<head><meta charset=\"utf-8\" /></head>\n",
              "<body>\n",
              "    <div>\n",
              "            <script src=\"https://cdnjs.cloudflare.com/ajax/libs/mathjax/2.7.5/MathJax.js?config=TeX-AMS-MML_SVG\"></script><script type=\"text/javascript\">if (window.MathJax) {MathJax.Hub.Config({SVG: {font: \"STIX-Web\"}});}</script>\n",
              "                <script type=\"text/javascript\">window.PlotlyConfig = {MathJaxConfig: 'local'};</script>\n",
              "        <script src=\"https://cdn.plot.ly/plotly-latest.min.js\"></script>    \n",
              "            <div id=\"c27ba0b7-753d-49d8-9b00-8ff441a4430c\" class=\"plotly-graph-div\" style=\"height:525px; width:100%;\"></div>\n",
              "            <script type=\"text/javascript\">\n",
              "                \n",
              "                    window.PLOTLYENV=window.PLOTLYENV || {};\n",
              "                    \n",
              "                if (document.getElementById(\"c27ba0b7-753d-49d8-9b00-8ff441a4430c\")) {\n",
              "                    Plotly.newPlot(\n",
              "                        'c27ba0b7-753d-49d8-9b00-8ff441a4430c',\n",
              "                        [{\"hovertext\": [\"Salisbury\", \"Sharon\", \"Cornwall\", \"Warren\", \"Kent\", \"New Milford\", \"Sherman\", \"New Fairfield\", \"Danbury\", \"Ridgefield\", \"Wilton\", \"New Canaan\", \"Stamford\", \"Greenwich\", \"Darien\", \"Norwalk\", \"Westport\", \"Fairfield\", \"Bridgeport\", \"Stratford\", \"Milford\", \"Orange\", \"West Haven\", \"New Haven\", \"Hamden\", \"North Haven\", \"East Haven\", \"Branford\", \"North Branford\", \"Guilford\", \"Madison\", \"Killingworth\", \"Chester\", \"Deep River\", \"Westbrook\", \"Clinton\", \"Old Saybrook\", \"Essex\", \"Lyme\", \"Old Lyme\", \"East Lyme\", \"Waterford\", \"New London\", \"Groton\", \"Stonington\", \"North Stonington\", \"Griswold\", \"Voluntown\", \"Sterling\", \"Plainfield\", \"Canterbury\", \"Lisbon\", \"Preston\", \"Ledyard\", \"Montville\", \"Bozrah\", \"Norwich\", \"Sprague\", \"Franklin\", \"Lebanon\", \"Columbia\", \"Windham\", \"Scotland\", \"Hampton\", \"Brooklyn\", \"Killingly\", \"Putnam\", \"Thompson\", \"Woodstock\", \"Pomfret\", \"Eastford\", \"Union\", \"Stafford\", \"Tolland\", \"Willington\", \"Ashford\", \"Chaplin\", \"Mansfield\", \"Coventry\", \"Andover\", \"Hebron\", \"Colchester\", \"Salem\", \"East Haddam\", \"Haddam\", \"East Hampton\", \"Marlborough\", \"Glastonbury\", \"Portland\", \"Cromwell\", \"Middletown\", \"Middlefield\", \"Durham\", \"Wallingford\", \"Meriden\", \"Berlin\", \"Southington\", \"Cheshire\", \"Prospect\", \"Bethany\", \"Woodbridge\", \"Ansonia\", \"Derby\", \"Seymour\", \"Beacon Falls\", \"Naugatuck\", \"Waterbury\", \"Wolcott\", \"Watertown\", \"Middlebury\", \"Oxford\", \"Southbury\", \"Newtown\", \"Monroe\", \"Shelton\", \"Trumbull\", \"Easton\", \"Weston\", \"Redding\", \"Bethel\", \"Brookfield\", \"Bridgewater\", \"Washington\", \"Roxbury\", \"Woodbury\", \"Bethlehem\", \"Morris\", \"Litchfield\", \"Harwinton\", \"Thomaston\", \"Plymouth\", \"Bristol\", \"Burlington\", \"Avon\", \"Farmington\", \"Plainville\", \"New Britain\", \"Newington\", \"Rocky Hill\", \"Wethersfield\", \"Hartford\", \"West Hartford\", \"East Hartford\", \"South Windsor\", \"Manchester\", \"Bolton\", \"Vernon\", \"Ellington\", \"Somers\", \"Enfield\", \"East Windsor\", \"Windsor Locks\", \"Suffield\", \"Windsor\", \"Bloomfield\", \"East Granby\", \"Granby\", \"Simsbury\", \"Canton\", \"New Hartford\", \"Barkhamsted\", \"Hartland\", \"Colebrook\", \"Winchester\", \"Torrington\", \"Goshen\", \"Norfolk\", \"North Canaan\", \"Canaan\", \"Salisbury\"], \"lat\": [41.9860188845167, 41.8575043637978, 41.8474896133564, 41.740546828057106, 41.7299002649182, 41.6040901099685, 41.5800698592504, 41.487803860917, 41.4013640556389, 41.3061539956989, 41.2069319946664, 41.159119368569705, 41.1050279961402, 41.0690824769707, 41.0811456463311, 41.1181478024976, 41.145318674426996, 41.177753851639295, 41.192561537954894, 41.2078673215556, 41.226401304606206, 41.2826216564714, 41.2736530384784, 41.311528996884, 41.3959857885991, 41.3817873414325, 41.2991364527903, 41.2859826579306, 41.3644807020046, 41.3345214819421, 41.3406863807877, 41.379066522790495, 41.4059693678592, 41.368963900413796, 41.3070099878697, 41.2988987084103, 41.303097687905, 41.3500326055836, 41.3964893416275, 41.3204258413288, 41.36744987979971, 41.370346134318, 41.353725673210604, 41.3620893829628, 41.3766222042302, 41.469653234319104, 41.5852054411731, 41.5798896186091, 41.702422485965705, 41.6991630320256, 41.697913437685706, 41.6014468231256, 41.5224183811399, 41.4399706517297, 41.4638005936708, 41.5453490766784, 41.549395531592104, 41.6304321472755, 41.6153242786404, 41.6313840169409, 41.6939232200983, 41.7098093290534, 41.6979385189305, 41.7841829089636, 41.786982449712205, 41.831025769004796, 41.9093194577146, 41.9797342500963, 41.9694334934481, 41.867044101718506, 41.8915873961555, 41.9930248216721, 41.9875205371605, 41.8785788524061, 41.8895360910517, 41.8911163608229, 41.7930498572278, 41.789205393686295, 41.782915481050104, 41.7331340876676, 41.6593678680616, 41.5620266026866, 41.485381927511604, 41.479796473239006, 41.4675703294021, 41.569590883116, 41.6326835770749, 41.6920472679109, 41.5993369576271, 41.612159112064795, 41.5476609967849, 41.5176869616306, 41.46229475074001, 41.4590599814914, 41.536838375833, 41.6111577680927, 41.604891708861295, 41.5114518461356, 41.4991810624054, 41.425995390854396, 41.356608391724, 41.344271993997204, 41.3264492150586, 41.3810259961196, 41.4389273225178, 41.4889777436159, 41.5582594181289, 41.6006625827308, 41.616015824789, 41.5271246742485, 41.431314709575794, 41.4745319243586, 41.398822983464605, 41.3379344444351, 41.3060975143692, 41.260173481741205, 41.2648859129813, 41.228433019273794, 41.305021333867295, 41.374801560580295, 41.46752965155571, 41.5208399735827, 41.6522912170332, 41.5539629750069, 41.561360772670604, 41.6374955633252, 41.6897975797642, 41.7413071978242, 41.7550048175454, 41.6697057889872, 41.6641584144003, 41.6810808569771, 41.75987067192471, 41.790697032807, 41.7288400459629, 41.674147416588504, 41.6760020842678, 41.686986134308796, 41.6571099624868, 41.7011868652194, 41.7660045597751, 41.7669492878176, 41.763461161618096, 41.8352178682275, 41.7752467245319, 41.766401884112895, 41.836415024626604, 41.9151388393704, 41.994879419309996, 41.9839789750923, 41.904929960402, 41.9267906193425, 41.9944863271393, 41.871287740846896, 41.8426291646744, 41.942477007580706, 41.969545409347205, 41.873002196110704, 41.8599346850351, 41.844227114742296, 41.9315839801224, 42.0042931274258, 42.0015458695464, 41.92188246061121, 41.8349402852756, 41.8500986021862, 41.9801449565525, 42.022264251516795, 41.9598824529327, 41.9860188845167], \"lon\": [-73.4256505768319, -73.4376171756981, -73.3298339680571, -73.34487849818741, -73.4539777298338, -73.4215781633603, -73.49918170807399, -73.48828101582191, -73.4705270599115, -73.50188133191, -73.4398877871749, -73.49922395167201, -73.5590370224089, -73.6384674457496, -73.4823550054125, -73.422614497081, -73.34649487600929, -73.273260725136, -73.1959867493456, -73.13040399903791, -73.06040522122241, -73.027165033765, -72.96647597850391, -72.924809299028, -72.9215549788146, -72.85746892182071, -72.8573471042596, -72.79878509424591, -72.77674848592659, -72.7002976268178, -72.6285335304292, -72.57822866383358, -72.4830766735014, -72.4620688034714, -72.4663766397619, -72.5299495686544, -72.38701975615949, -72.4145607585472, -72.34377768171571, -72.3032521958035, -72.235486024346, -72.14827239706159, -72.10432116854591, -72.0278633926364, -71.9023848606722, -71.8753461199257, -71.9227438288552, -71.832464335089, -71.8184870093514, -71.89871628600659, -71.9997518338538, -72.01416336195891, -72.0007559246447, -72.0164775868916, -72.1567159462634, -72.17487272627521, -72.0882419909586, -72.0758082998052, -72.14324053666171, -72.2401323290683, -72.3069772480909, -72.1668123714238, -72.0880322531898, -72.058305704605, -71.9545082407126, -71.84996561528341, -71.8711989534025, -71.8735879746113, -72.0221320760756, -71.983430263771, -72.0919766524868, -72.16026431037359, -72.3123280592977, -72.3649354623998, -72.2593699540284, -72.17098562559829, -72.1277306749492, -72.2287318574139, -72.33940560807771, -72.3761079827343, -72.3903209065753, -72.34727571199859, -72.26643801788471, -72.39434858053251, -72.54594731520359, -72.5074074836945, -72.4544996759191, -72.5471809420126, -72.5885378812523, -72.663730492445, -72.6545470832036, -72.71492443300221, -72.68308644283859, -72.8041565391719, -72.7944939940579, -72.77601524654371, -72.8800272635791, -72.90399530183129, -72.9762778428478, -72.99287956171429, -73.01003180977209, -73.0688896980701, -73.0829994779898, -73.08716650266041, -73.0568349128605, -73.0517676810289, -73.0360213515486, -72.9731820072739, -73.1177301876986, -73.12276027340859, -73.1350983140828, -73.23274796141651, -73.29282774457009, -73.2249189440438, -73.13822123369779, -73.2084247211173, -73.30008424693729, -73.37256725904192, -73.3913916801082, -73.39265624011591, -73.3923244597689, -73.3600973886368, -73.31454070999929, -73.30056856944191, -73.20720726172492, -73.2113934154445, -73.2079925872203, -73.1931458075758, -73.0582653297907, -73.0858876745003, -73.0262780011343, -72.9406338211413, -72.9590844223388, -72.8540158383504, -72.84094406240949, -72.8571304957605, -72.7859315625518, -72.7309184896193, -72.6632873641259, -72.6703646023617, -72.6834270445884, -72.7538722699359, -72.6152853024233, -72.5734404755258, -72.5242263078394, -72.439087792347, -72.4607471462613, -72.448494217229, -72.4530514231731, -72.55471870029, -72.56730081590659, -72.65484126141241, -72.6788512497815, -72.6736582647048, -72.74073779390041, -72.74113864747609, -72.8348515800958, -72.82580761596621, -72.9085434023694, -73.0055296300638, -72.97295525251491, -72.9488967294987, -73.0808105833225, -73.10281770555859, -73.128075803883, -73.2335576516127, -73.1962241920279, -73.2935685900945, -73.31004419446779, -73.4256505768319], \"marker\": {\"size\": 10}, \"mode\": \"markers+lines\", \"name\": \"Traveling Salesman\", \"type\": \"scattermapbox\"}, {\"hovertext\": [\"Salisbury\", \"Sharon\", \"Cornwall\", \"Warren\", \"Kent\", \"New Milford\", \"Sherman\", \"New Fairfield\", \"Danbury\", \"Ridgefield\", \"Wilton\", \"New Canaan\", \"Stamford\", \"Greenwich\", \"Darien\", \"Norwalk\", \"Westport\", \"Fairfield\", \"Bridgeport\", \"Stratford\", \"Milford\", \"Orange\", \"West Haven\", \"New Haven\", \"Hamden\", \"North Haven\", \"East Haven\", \"Branford\", \"North Branford\", \"Guilford\", \"Madison\", \"Killingworth\", \"Chester\", \"Deep River\", \"Westbrook\", \"Clinton\", \"Old Saybrook\", \"Essex\", \"Lyme\", \"Old Lyme\", \"East Lyme\", \"Waterford\", \"New London\", \"Groton\", \"Stonington\", \"North Stonington\", \"Griswold\", \"Voluntown\", \"Sterling\", \"Plainfield\", \"Canterbury\", \"Lisbon\", \"Preston\", \"Ledyard\", \"Montville\", \"Bozrah\", \"Norwich\", \"Sprague\", \"Franklin\", \"Lebanon\", \"Columbia\", \"Windham\", \"Scotland\", \"Hampton\", \"Brooklyn\", \"Killingly\", \"Putnam\", \"Thompson\", \"Woodstock\", \"Pomfret\", \"Eastford\", \"Union\", \"Stafford\", \"Tolland\", \"Willington\", \"Ashford\", \"Chaplin\", \"Mansfield\", \"Coventry\", \"Andover\", \"Hebron\", \"Colchester\", \"Salem\", \"East Haddam\", \"Haddam\", \"East Hampton\", \"Marlborough\", \"Glastonbury\", \"Portland\", \"Cromwell\", \"Middletown\", \"Middlefield\", \"Durham\", \"Wallingford\", \"Meriden\", \"Berlin\", \"Southington\", \"Cheshire\", \"Prospect\", \"Bethany\", \"Woodbridge\", \"Ansonia\", \"Derby\", \"Seymour\", \"Beacon Falls\", \"Naugatuck\", \"Waterbury\", \"Wolcott\", \"Watertown\", \"Middlebury\", \"Oxford\", \"Southbury\", \"Newtown\", \"Monroe\", \"Shelton\", \"Trumbull\", \"Easton\", \"Weston\", \"Redding\", \"Bethel\", \"Brookfield\", \"Bridgewater\", \"Washington\", \"Roxbury\", \"Woodbury\", \"Bethlehem\", \"Morris\", \"Litchfield\", \"Harwinton\", \"Thomaston\", \"Plymouth\", \"Bristol\", \"Burlington\", \"Avon\", \"Farmington\", \"Plainville\", \"New Britain\", \"Newington\", \"Rocky Hill\", \"Wethersfield\", \"Hartford\", \"West Hartford\", \"East Hartford\", \"South Windsor\", \"Manchester\", \"Bolton\", \"Vernon\", \"Ellington\", \"Somers\", \"Enfield\", \"East Windsor\", \"Windsor Locks\", \"Suffield\", \"Windsor\", \"Bloomfield\", \"East Granby\", \"Granby\", \"Simsbury\", \"Canton\", \"New Hartford\", \"Barkhamsted\", \"Hartland\", \"Colebrook\", \"Winchester\", \"Torrington\", \"Goshen\", \"Norfolk\", \"North Canaan\", \"Canaan\", \"Salisbury\"], \"lat\": [41.9860188845167, 41.8575043637978, 41.8474896133564, 41.740546828057106, 41.7299002649182, 41.6040901099685, 41.5800698592504, 41.487803860917, 41.4013640556389, 41.3061539956989, 41.2069319946664, 41.159119368569705, 41.1050279961402, 41.0690824769707, 41.0811456463311, 41.1181478024976, 41.145318674426996, 41.177753851639295, 41.192561537954894, 41.2078673215556, 41.226401304606206, 41.2826216564714, 41.2736530384784, 41.311528996884, 41.3959857885991, 41.3817873414325, 41.2991364527903, 41.2859826579306, 41.3644807020046, 41.3345214819421, 41.3406863807877, 41.379066522790495, 41.4059693678592, 41.368963900413796, 41.3070099878697, 41.2988987084103, 41.303097687905, 41.3500326055836, 41.3964893416275, 41.3204258413288, 41.36744987979971, 41.370346134318, 41.353725673210604, 41.3620893829628, 41.3766222042302, 41.469653234319104, 41.5852054411731, 41.5798896186091, 41.702422485965705, 41.6991630320256, 41.697913437685706, 41.6014468231256, 41.5224183811399, 41.4399706517297, 41.4638005936708, 41.5453490766784, 41.549395531592104, 41.6304321472755, 41.6153242786404, 41.6313840169409, 41.6939232200983, 41.7098093290534, 41.6979385189305, 41.7841829089636, 41.786982449712205, 41.831025769004796, 41.9093194577146, 41.9797342500963, 41.9694334934481, 41.867044101718506, 41.8915873961555, 41.9930248216721, 41.9875205371605, 41.8785788524061, 41.8895360910517, 41.8911163608229, 41.7930498572278, 41.789205393686295, 41.782915481050104, 41.7331340876676, 41.6593678680616, 41.5620266026866, 41.485381927511604, 41.479796473239006, 41.4675703294021, 41.569590883116, 41.6326835770749, 41.6920472679109, 41.5993369576271, 41.612159112064795, 41.5476609967849, 41.5176869616306, 41.46229475074001, 41.4590599814914, 41.536838375833, 41.6111577680927, 41.604891708861295, 41.5114518461356, 41.4991810624054, 41.425995390854396, 41.356608391724, 41.344271993997204, 41.3264492150586, 41.3810259961196, 41.4389273225178, 41.4889777436159, 41.5582594181289, 41.6006625827308, 41.616015824789, 41.5271246742485, 41.431314709575794, 41.4745319243586, 41.398822983464605, 41.3379344444351, 41.3060975143692, 41.260173481741205, 41.2648859129813, 41.228433019273794, 41.305021333867295, 41.374801560580295, 41.46752965155571, 41.5208399735827, 41.6522912170332, 41.5539629750069, 41.561360772670604, 41.6374955633252, 41.6897975797642, 41.7413071978242, 41.7550048175454, 41.6697057889872, 41.6641584144003, 41.6810808569771, 41.75987067192471, 41.790697032807, 41.7288400459629, 41.674147416588504, 41.6760020842678, 41.686986134308796, 41.6571099624868, 41.7011868652194, 41.7660045597751, 41.7669492878176, 41.763461161618096, 41.8352178682275, 41.7752467245319, 41.766401884112895, 41.836415024626604, 41.9151388393704, 41.994879419309996, 41.9839789750923, 41.904929960402, 41.9267906193425, 41.9944863271393, 41.871287740846896, 41.8426291646744, 41.942477007580706, 41.969545409347205, 41.873002196110704, 41.8599346850351, 41.844227114742296, 41.9315839801224, 42.0042931274258, 42.0015458695464, 41.92188246061121, 41.8349402852756, 41.8500986021862, 41.9801449565525, 42.022264251516795, 41.9598824529327, 41.9860188845167], \"lon\": [-73.4256505768319, -73.4376171756981, -73.3298339680571, -73.34487849818741, -73.4539777298338, -73.4215781633603, -73.49918170807399, -73.48828101582191, -73.4705270599115, -73.50188133191, -73.4398877871749, -73.49922395167201, -73.5590370224089, -73.6384674457496, -73.4823550054125, -73.422614497081, -73.34649487600929, -73.273260725136, -73.1959867493456, -73.13040399903791, -73.06040522122241, -73.027165033765, -72.96647597850391, -72.924809299028, -72.9215549788146, -72.85746892182071, -72.8573471042596, -72.79878509424591, -72.77674848592659, -72.7002976268178, -72.6285335304292, -72.57822866383358, -72.4830766735014, -72.4620688034714, -72.4663766397619, -72.5299495686544, -72.38701975615949, -72.4145607585472, -72.34377768171571, -72.3032521958035, -72.235486024346, -72.14827239706159, -72.10432116854591, -72.0278633926364, -71.9023848606722, -71.8753461199257, -71.9227438288552, -71.832464335089, -71.8184870093514, -71.89871628600659, -71.9997518338538, -72.01416336195891, -72.0007559246447, -72.0164775868916, -72.1567159462634, -72.17487272627521, -72.0882419909586, -72.0758082998052, -72.14324053666171, -72.2401323290683, -72.3069772480909, -72.1668123714238, -72.0880322531898, -72.058305704605, -71.9545082407126, -71.84996561528341, -71.8711989534025, -71.8735879746113, -72.0221320760756, -71.983430263771, -72.0919766524868, -72.16026431037359, -72.3123280592977, -72.3649354623998, -72.2593699540284, -72.17098562559829, -72.1277306749492, -72.2287318574139, -72.33940560807771, -72.3761079827343, -72.3903209065753, -72.34727571199859, -72.26643801788471, -72.39434858053251, -72.54594731520359, -72.5074074836945, -72.4544996759191, -72.5471809420126, -72.5885378812523, -72.663730492445, -72.6545470832036, -72.71492443300221, -72.68308644283859, -72.8041565391719, -72.7944939940579, -72.77601524654371, -72.8800272635791, -72.90399530183129, -72.9762778428478, -72.99287956171429, -73.01003180977209, -73.0688896980701, -73.0829994779898, -73.08716650266041, -73.0568349128605, -73.0517676810289, -73.0360213515486, -72.9731820072739, -73.1177301876986, -73.12276027340859, -73.1350983140828, -73.23274796141651, -73.29282774457009, -73.2249189440438, -73.13822123369779, -73.2084247211173, -73.30008424693729, -73.37256725904192, -73.3913916801082, -73.39265624011591, -73.3923244597689, -73.3600973886368, -73.31454070999929, -73.30056856944191, -73.20720726172492, -73.2113934154445, -73.2079925872203, -73.1931458075758, -73.0582653297907, -73.0858876745003, -73.0262780011343, -72.9406338211413, -72.9590844223388, -72.8540158383504, -72.84094406240949, -72.8571304957605, -72.7859315625518, -72.7309184896193, -72.6632873641259, -72.6703646023617, -72.6834270445884, -72.7538722699359, -72.6152853024233, -72.5734404755258, -72.5242263078394, -72.439087792347, -72.4607471462613, -72.448494217229, -72.4530514231731, -72.55471870029, -72.56730081590659, -72.65484126141241, -72.6788512497815, -72.6736582647048, -72.74073779390041, -72.74113864747609, -72.8348515800958, -72.82580761596621, -72.9085434023694, -73.0055296300638, -72.97295525251491, -72.9488967294987, -73.0808105833225, -73.10281770555859, -73.128075803883, -73.2335576516127, -73.1962241920279, -73.2935685900945, -73.31004419446779, -73.4256505768319], \"marker\": {\"color\": \"blue\", \"size\": 5}, \"mode\": \"markers+lines\", \"name\": \"Main Route\", \"type\": \"scattermapbox\"}],\n",
              "                        {\"hovermode\": \"closest\", \"mapbox\": {\"center\": {\"lat\": 41.26878471063158, \"lon\": -73.37656607409332}, \"style\": \"carto-darkmatter\", \"zoom\": 8.25}, \"margin\": {\"b\": 0, \"l\": 0, \"r\": 0, \"t\": 0}, \"template\": {\"data\": {\"bar\": [{\"error_x\": {\"color\": \"#2a3f5f\"}, \"error_y\": {\"color\": \"#2a3f5f\"}, \"marker\": {\"line\": {\"color\": \"#E5ECF6\", \"width\": 0.5}}, \"type\": \"bar\"}], \"barpolar\": [{\"marker\": {\"line\": {\"color\": \"#E5ECF6\", \"width\": 0.5}}, \"type\": \"barpolar\"}], \"carpet\": [{\"aaxis\": {\"endlinecolor\": \"#2a3f5f\", \"gridcolor\": \"white\", \"linecolor\": \"white\", \"minorgridcolor\": \"white\", \"startlinecolor\": \"#2a3f5f\"}, \"baxis\": {\"endlinecolor\": \"#2a3f5f\", \"gridcolor\": \"white\", \"linecolor\": \"white\", \"minorgridcolor\": \"white\", \"startlinecolor\": \"#2a3f5f\"}, \"type\": \"carpet\"}], \"choropleth\": [{\"colorbar\": {\"outlinewidth\": 0, \"ticks\": \"\"}, \"type\": \"choropleth\"}], \"contour\": [{\"colorbar\": {\"outlinewidth\": 0, \"ticks\": \"\"}, \"colorscale\": [[0.0, \"#0d0887\"], [0.1111111111111111, \"#46039f\"], [0.2222222222222222, \"#7201a8\"], [0.3333333333333333, \"#9c179e\"], [0.4444444444444444, \"#bd3786\"], [0.5555555555555556, \"#d8576b\"], [0.6666666666666666, \"#ed7953\"], [0.7777777777777778, \"#fb9f3a\"], [0.8888888888888888, \"#fdca26\"], [1.0, \"#f0f921\"]], \"type\": \"contour\"}], \"contourcarpet\": [{\"colorbar\": {\"outlinewidth\": 0, \"ticks\": \"\"}, \"type\": \"contourcarpet\"}], \"heatmap\": [{\"colorbar\": {\"outlinewidth\": 0, \"ticks\": \"\"}, \"colorscale\": [[0.0, \"#0d0887\"], [0.1111111111111111, \"#46039f\"], [0.2222222222222222, \"#7201a8\"], [0.3333333333333333, \"#9c179e\"], [0.4444444444444444, \"#bd3786\"], [0.5555555555555556, \"#d8576b\"], [0.6666666666666666, \"#ed7953\"], [0.7777777777777778, \"#fb9f3a\"], [0.8888888888888888, \"#fdca26\"], [1.0, \"#f0f921\"]], \"type\": \"heatmap\"}], \"heatmapgl\": [{\"colorbar\": {\"outlinewidth\": 0, \"ticks\": \"\"}, \"colorscale\": [[0.0, \"#0d0887\"], [0.1111111111111111, \"#46039f\"], [0.2222222222222222, \"#7201a8\"], [0.3333333333333333, \"#9c179e\"], [0.4444444444444444, \"#bd3786\"], [0.5555555555555556, \"#d8576b\"], [0.6666666666666666, \"#ed7953\"], [0.7777777777777778, \"#fb9f3a\"], [0.8888888888888888, \"#fdca26\"], [1.0, \"#f0f921\"]], \"type\": \"heatmapgl\"}], \"histogram\": [{\"marker\": {\"colorbar\": {\"outlinewidth\": 0, \"ticks\": \"\"}}, \"type\": \"histogram\"}], \"histogram2d\": [{\"colorbar\": {\"outlinewidth\": 0, \"ticks\": \"\"}, \"colorscale\": [[0.0, \"#0d0887\"], [0.1111111111111111, \"#46039f\"], [0.2222222222222222, \"#7201a8\"], [0.3333333333333333, \"#9c179e\"], [0.4444444444444444, \"#bd3786\"], [0.5555555555555556, \"#d8576b\"], [0.6666666666666666, \"#ed7953\"], [0.7777777777777778, \"#fb9f3a\"], [0.8888888888888888, \"#fdca26\"], [1.0, \"#f0f921\"]], \"type\": \"histogram2d\"}], \"histogram2dcontour\": [{\"colorbar\": {\"outlinewidth\": 0, \"ticks\": \"\"}, \"colorscale\": [[0.0, \"#0d0887\"], [0.1111111111111111, \"#46039f\"], [0.2222222222222222, \"#7201a8\"], [0.3333333333333333, \"#9c179e\"], [0.4444444444444444, \"#bd3786\"], [0.5555555555555556, \"#d8576b\"], [0.6666666666666666, \"#ed7953\"], [0.7777777777777778, \"#fb9f3a\"], [0.8888888888888888, \"#fdca26\"], [1.0, \"#f0f921\"]], \"type\": \"histogram2dcontour\"}], \"mesh3d\": [{\"colorbar\": {\"outlinewidth\": 0, \"ticks\": \"\"}, \"type\": \"mesh3d\"}], \"parcoords\": [{\"line\": {\"colorbar\": {\"outlinewidth\": 0, \"ticks\": \"\"}}, \"type\": \"parcoords\"}], \"pie\": [{\"automargin\": true, \"type\": \"pie\"}], \"scatter\": [{\"marker\": {\"colorbar\": {\"outlinewidth\": 0, \"ticks\": \"\"}}, \"type\": \"scatter\"}], \"scatter3d\": [{\"line\": {\"colorbar\": {\"outlinewidth\": 0, \"ticks\": \"\"}}, \"marker\": {\"colorbar\": {\"outlinewidth\": 0, \"ticks\": \"\"}}, \"type\": \"scatter3d\"}], \"scattercarpet\": [{\"marker\": {\"colorbar\": {\"outlinewidth\": 0, \"ticks\": \"\"}}, \"type\": \"scattercarpet\"}], \"scattergeo\": [{\"marker\": {\"colorbar\": {\"outlinewidth\": 0, \"ticks\": \"\"}}, \"type\": \"scattergeo\"}], \"scattergl\": [{\"marker\": {\"colorbar\": {\"outlinewidth\": 0, \"ticks\": \"\"}}, \"type\": \"scattergl\"}], \"scattermapbox\": [{\"marker\": {\"colorbar\": {\"outlinewidth\": 0, \"ticks\": \"\"}}, \"type\": \"scattermapbox\"}], \"scatterpolar\": [{\"marker\": {\"colorbar\": {\"outlinewidth\": 0, \"ticks\": \"\"}}, \"type\": \"scatterpolar\"}], \"scatterpolargl\": [{\"marker\": {\"colorbar\": {\"outlinewidth\": 0, \"ticks\": \"\"}}, \"type\": \"scatterpolargl\"}], \"scatterternary\": [{\"marker\": {\"colorbar\": {\"outlinewidth\": 0, \"ticks\": \"\"}}, \"type\": \"scatterternary\"}], \"surface\": [{\"colorbar\": {\"outlinewidth\": 0, \"ticks\": \"\"}, \"colorscale\": [[0.0, \"#0d0887\"], [0.1111111111111111, \"#46039f\"], [0.2222222222222222, \"#7201a8\"], [0.3333333333333333, \"#9c179e\"], [0.4444444444444444, \"#bd3786\"], [0.5555555555555556, \"#d8576b\"], [0.6666666666666666, \"#ed7953\"], [0.7777777777777778, \"#fb9f3a\"], [0.8888888888888888, \"#fdca26\"], [1.0, \"#f0f921\"]], \"type\": \"surface\"}], \"table\": [{\"cells\": {\"fill\": {\"color\": \"#EBF0F8\"}, \"line\": {\"color\": \"white\"}}, \"header\": {\"fill\": {\"color\": \"#C8D4E3\"}, \"line\": {\"color\": \"white\"}}, \"type\": \"table\"}]}, \"layout\": {\"annotationdefaults\": {\"arrowcolor\": \"#2a3f5f\", \"arrowhead\": 0, \"arrowwidth\": 1}, \"coloraxis\": {\"colorbar\": {\"outlinewidth\": 0, \"ticks\": \"\"}}, \"colorscale\": {\"diverging\": [[0, \"#8e0152\"], [0.1, \"#c51b7d\"], [0.2, \"#de77ae\"], [0.3, \"#f1b6da\"], [0.4, \"#fde0ef\"], [0.5, \"#f7f7f7\"], [0.6, \"#e6f5d0\"], [0.7, \"#b8e186\"], [0.8, \"#7fbc41\"], [0.9, \"#4d9221\"], [1, \"#276419\"]], \"sequential\": [[0.0, \"#0d0887\"], [0.1111111111111111, \"#46039f\"], [0.2222222222222222, \"#7201a8\"], [0.3333333333333333, \"#9c179e\"], [0.4444444444444444, \"#bd3786\"], [0.5555555555555556, \"#d8576b\"], [0.6666666666666666, \"#ed7953\"], [0.7777777777777778, \"#fb9f3a\"], [0.8888888888888888, \"#fdca26\"], [1.0, \"#f0f921\"]], \"sequentialminus\": [[0.0, \"#0d0887\"], [0.1111111111111111, \"#46039f\"], [0.2222222222222222, \"#7201a8\"], [0.3333333333333333, \"#9c179e\"], [0.4444444444444444, \"#bd3786\"], [0.5555555555555556, \"#d8576b\"], [0.6666666666666666, \"#ed7953\"], [0.7777777777777778, \"#fb9f3a\"], [0.8888888888888888, \"#fdca26\"], [1.0, \"#f0f921\"]]}, \"colorway\": [\"#636efa\", \"#EF553B\", \"#00cc96\", \"#ab63fa\", \"#FFA15A\", \"#19d3f3\", \"#FF6692\", \"#B6E880\", \"#FF97FF\", \"#FECB52\"], \"font\": {\"color\": \"#2a3f5f\"}, \"geo\": {\"bgcolor\": \"white\", \"lakecolor\": \"white\", \"landcolor\": \"#E5ECF6\", \"showlakes\": true, \"showland\": true, \"subunitcolor\": \"white\"}, \"hoverlabel\": {\"align\": \"left\"}, \"hovermode\": \"closest\", \"mapbox\": {\"style\": \"light\"}, \"paper_bgcolor\": \"white\", \"plot_bgcolor\": \"#E5ECF6\", \"polar\": {\"angularaxis\": {\"gridcolor\": \"white\", \"linecolor\": \"white\", \"ticks\": \"\"}, \"bgcolor\": \"#E5ECF6\", \"radialaxis\": {\"gridcolor\": \"white\", \"linecolor\": \"white\", \"ticks\": \"\"}}, \"scene\": {\"xaxis\": {\"backgroundcolor\": \"#E5ECF6\", \"gridcolor\": \"white\", \"gridwidth\": 2, \"linecolor\": \"white\", \"showbackground\": true, \"ticks\": \"\", \"zerolinecolor\": \"white\"}, \"yaxis\": {\"backgroundcolor\": \"#E5ECF6\", \"gridcolor\": \"white\", \"gridwidth\": 2, \"linecolor\": \"white\", \"showbackground\": true, \"ticks\": \"\", \"zerolinecolor\": \"white\"}, \"zaxis\": {\"backgroundcolor\": \"#E5ECF6\", \"gridcolor\": \"white\", \"gridwidth\": 2, \"linecolor\": \"white\", \"showbackground\": true, \"ticks\": \"\", \"zerolinecolor\": \"white\"}}, \"shapedefaults\": {\"line\": {\"color\": \"#2a3f5f\"}}, \"ternary\": {\"aaxis\": {\"gridcolor\": \"white\", \"linecolor\": \"white\", \"ticks\": \"\"}, \"baxis\": {\"gridcolor\": \"white\", \"linecolor\": \"white\", \"ticks\": \"\"}, \"bgcolor\": \"#E5ECF6\", \"caxis\": {\"gridcolor\": \"white\", \"linecolor\": \"white\", \"ticks\": \"\"}}, \"title\": {\"x\": 0.05}, \"xaxis\": {\"automargin\": true, \"gridcolor\": \"white\", \"linecolor\": \"white\", \"ticks\": \"\", \"title\": {\"standoff\": 15}, \"zerolinecolor\": \"white\", \"zerolinewidth\": 2}, \"yaxis\": {\"automargin\": true, \"gridcolor\": \"white\", \"linecolor\": \"white\", \"ticks\": \"\", \"title\": {\"standoff\": 15}, \"zerolinecolor\": \"white\", \"zerolinewidth\": 2}}}, \"title\": {\"text\": \"TRAVELING SALESMAN ROUTE\"}, \"updatemenus\": [{\"buttons\": [{\"args\": [null], \"label\": \"Play\", \"method\": \"animate\"}], \"type\": \"buttons\"}]},\n",
              "                        {\"scrollZoom\": false, \"responsive\": true}\n",
              "                    ).then(function(){\n",
              "                            Plotly.addFrames('c27ba0b7-753d-49d8-9b00-8ff441a4430c', [{\"data\": [{\"lat\": [41.9860188845167], \"lon\": [-73.4256505768319], \"marker\": {\"color\": \"red\", \"size\": 10}, \"mode\": \"markers\", \"type\": \"scattermapbox\"}]}, {\"data\": [{\"lat\": [41.8575043637978], \"lon\": [-73.4376171756981], \"marker\": {\"color\": \"red\", \"size\": 10}, \"mode\": \"markers\", \"type\": \"scattermapbox\"}]}, {\"data\": [{\"lat\": [41.8474896133564], \"lon\": [-73.3298339680571], \"marker\": {\"color\": \"red\", \"size\": 10}, \"mode\": \"markers\", \"type\": \"scattermapbox\"}]}, {\"data\": [{\"lat\": [41.740546828057106], \"lon\": [-73.34487849818741], \"marker\": {\"color\": \"red\", \"size\": 10}, \"mode\": \"markers\", \"type\": \"scattermapbox\"}]}, {\"data\": [{\"lat\": [41.7299002649182], \"lon\": [-73.4539777298338], \"marker\": {\"color\": \"red\", \"size\": 10}, \"mode\": \"markers\", \"type\": \"scattermapbox\"}]}, {\"data\": [{\"lat\": [41.6040901099685], \"lon\": [-73.4215781633603], \"marker\": {\"color\": \"red\", \"size\": 10}, \"mode\": \"markers\", \"type\": \"scattermapbox\"}]}, {\"data\": [{\"lat\": [41.5800698592504], \"lon\": [-73.49918170807399], \"marker\": {\"color\": \"red\", \"size\": 10}, \"mode\": \"markers\", \"type\": \"scattermapbox\"}]}, {\"data\": [{\"lat\": [41.487803860917], \"lon\": [-73.48828101582191], \"marker\": {\"color\": \"red\", \"size\": 10}, \"mode\": \"markers\", \"type\": \"scattermapbox\"}]}, {\"data\": [{\"lat\": [41.4013640556389], \"lon\": [-73.4705270599115], \"marker\": {\"color\": \"red\", \"size\": 10}, \"mode\": \"markers\", \"type\": \"scattermapbox\"}]}, {\"data\": [{\"lat\": [41.3061539956989], \"lon\": [-73.50188133191], \"marker\": {\"color\": \"red\", \"size\": 10}, \"mode\": \"markers\", \"type\": \"scattermapbox\"}]}, {\"data\": [{\"lat\": [41.2069319946664], \"lon\": [-73.4398877871749], \"marker\": {\"color\": \"red\", \"size\": 10}, \"mode\": \"markers\", \"type\": \"scattermapbox\"}]}, {\"data\": [{\"lat\": [41.159119368569705], \"lon\": [-73.49922395167201], \"marker\": {\"color\": \"red\", \"size\": 10}, \"mode\": \"markers\", \"type\": \"scattermapbox\"}]}, {\"data\": [{\"lat\": [41.1050279961402], \"lon\": [-73.5590370224089], \"marker\": {\"color\": \"red\", \"size\": 10}, \"mode\": \"markers\", \"type\": \"scattermapbox\"}]}, {\"data\": [{\"lat\": [41.0690824769707], \"lon\": [-73.6384674457496], \"marker\": {\"color\": \"red\", \"size\": 10}, \"mode\": \"markers\", \"type\": \"scattermapbox\"}]}, {\"data\": [{\"lat\": [41.0811456463311], \"lon\": [-73.4823550054125], \"marker\": {\"color\": \"red\", \"size\": 10}, \"mode\": \"markers\", \"type\": \"scattermapbox\"}]}, {\"data\": [{\"lat\": [41.1181478024976], \"lon\": [-73.422614497081], \"marker\": {\"color\": \"red\", \"size\": 10}, \"mode\": \"markers\", \"type\": \"scattermapbox\"}]}, {\"data\": [{\"lat\": [41.145318674426996], \"lon\": [-73.34649487600929], \"marker\": {\"color\": \"red\", \"size\": 10}, \"mode\": \"markers\", \"type\": \"scattermapbox\"}]}, {\"data\": [{\"lat\": [41.177753851639295], \"lon\": [-73.273260725136], \"marker\": {\"color\": \"red\", \"size\": 10}, \"mode\": \"markers\", \"type\": \"scattermapbox\"}]}, {\"data\": [{\"lat\": [41.192561537954894], \"lon\": [-73.1959867493456], \"marker\": {\"color\": \"red\", \"size\": 10}, \"mode\": \"markers\", \"type\": \"scattermapbox\"}]}, {\"data\": [{\"lat\": [41.2078673215556], \"lon\": [-73.13040399903791], \"marker\": {\"color\": \"red\", \"size\": 10}, \"mode\": \"markers\", \"type\": \"scattermapbox\"}]}, {\"data\": [{\"lat\": [41.226401304606206], \"lon\": [-73.06040522122241], \"marker\": {\"color\": \"red\", \"size\": 10}, \"mode\": \"markers\", \"type\": \"scattermapbox\"}]}, {\"data\": [{\"lat\": [41.2826216564714], \"lon\": [-73.027165033765], \"marker\": {\"color\": \"red\", \"size\": 10}, \"mode\": \"markers\", \"type\": \"scattermapbox\"}]}, {\"data\": [{\"lat\": [41.2736530384784], \"lon\": [-72.96647597850391], \"marker\": {\"color\": \"red\", \"size\": 10}, \"mode\": \"markers\", \"type\": \"scattermapbox\"}]}, {\"data\": [{\"lat\": [41.311528996884], \"lon\": [-72.924809299028], \"marker\": {\"color\": \"red\", \"size\": 10}, \"mode\": \"markers\", \"type\": \"scattermapbox\"}]}, {\"data\": [{\"lat\": [41.3959857885991], \"lon\": [-72.9215549788146], \"marker\": {\"color\": \"red\", \"size\": 10}, \"mode\": \"markers\", \"type\": \"scattermapbox\"}]}, {\"data\": [{\"lat\": [41.3817873414325], \"lon\": [-72.85746892182071], \"marker\": {\"color\": \"red\", \"size\": 10}, \"mode\": \"markers\", \"type\": \"scattermapbox\"}]}, {\"data\": [{\"lat\": [41.2991364527903], \"lon\": [-72.8573471042596], \"marker\": {\"color\": \"red\", \"size\": 10}, \"mode\": \"markers\", \"type\": \"scattermapbox\"}]}, {\"data\": [{\"lat\": [41.2859826579306], \"lon\": [-72.79878509424591], \"marker\": {\"color\": \"red\", \"size\": 10}, \"mode\": \"markers\", \"type\": \"scattermapbox\"}]}, {\"data\": [{\"lat\": [41.3644807020046], \"lon\": [-72.77674848592659], \"marker\": {\"color\": \"red\", \"size\": 10}, \"mode\": \"markers\", \"type\": \"scattermapbox\"}]}, {\"data\": [{\"lat\": [41.3345214819421], \"lon\": [-72.7002976268178], \"marker\": {\"color\": \"red\", \"size\": 10}, \"mode\": \"markers\", \"type\": \"scattermapbox\"}]}, {\"data\": [{\"lat\": [41.3406863807877], \"lon\": [-72.6285335304292], \"marker\": {\"color\": \"red\", \"size\": 10}, \"mode\": \"markers\", \"type\": \"scattermapbox\"}]}, {\"data\": [{\"lat\": [41.379066522790495], \"lon\": [-72.57822866383358], \"marker\": {\"color\": \"red\", \"size\": 10}, \"mode\": \"markers\", \"type\": \"scattermapbox\"}]}, {\"data\": [{\"lat\": [41.4059693678592], \"lon\": [-72.4830766735014], \"marker\": {\"color\": \"red\", \"size\": 10}, \"mode\": \"markers\", \"type\": \"scattermapbox\"}]}, {\"data\": [{\"lat\": [41.368963900413796], \"lon\": [-72.4620688034714], \"marker\": {\"color\": \"red\", \"size\": 10}, \"mode\": \"markers\", \"type\": \"scattermapbox\"}]}, {\"data\": [{\"lat\": [41.3070099878697], \"lon\": [-72.4663766397619], \"marker\": {\"color\": \"red\", \"size\": 10}, \"mode\": \"markers\", \"type\": \"scattermapbox\"}]}, {\"data\": [{\"lat\": [41.2988987084103], \"lon\": [-72.5299495686544], \"marker\": {\"color\": \"red\", \"size\": 10}, \"mode\": \"markers\", \"type\": \"scattermapbox\"}]}, {\"data\": [{\"lat\": [41.303097687905], \"lon\": [-72.38701975615949], \"marker\": {\"color\": \"red\", \"size\": 10}, \"mode\": \"markers\", \"type\": \"scattermapbox\"}]}, {\"data\": [{\"lat\": [41.3500326055836], \"lon\": [-72.4145607585472], \"marker\": {\"color\": \"red\", \"size\": 10}, \"mode\": \"markers\", \"type\": \"scattermapbox\"}]}, {\"data\": [{\"lat\": [41.3964893416275], \"lon\": [-72.34377768171571], \"marker\": {\"color\": \"red\", \"size\": 10}, \"mode\": \"markers\", \"type\": \"scattermapbox\"}]}, {\"data\": [{\"lat\": [41.3204258413288], \"lon\": [-72.3032521958035], \"marker\": {\"color\": \"red\", \"size\": 10}, \"mode\": \"markers\", \"type\": \"scattermapbox\"}]}, {\"data\": [{\"lat\": [41.36744987979971], \"lon\": [-72.235486024346], \"marker\": {\"color\": \"red\", \"size\": 10}, \"mode\": \"markers\", \"type\": \"scattermapbox\"}]}, {\"data\": [{\"lat\": [41.370346134318], \"lon\": [-72.14827239706159], \"marker\": {\"color\": \"red\", \"size\": 10}, \"mode\": \"markers\", \"type\": \"scattermapbox\"}]}, {\"data\": [{\"lat\": [41.353725673210604], \"lon\": [-72.10432116854591], \"marker\": {\"color\": \"red\", \"size\": 10}, \"mode\": \"markers\", \"type\": \"scattermapbox\"}]}, {\"data\": [{\"lat\": [41.3620893829628], \"lon\": [-72.0278633926364], \"marker\": {\"color\": \"red\", \"size\": 10}, \"mode\": \"markers\", \"type\": \"scattermapbox\"}]}, {\"data\": [{\"lat\": [41.3766222042302], \"lon\": [-71.9023848606722], \"marker\": {\"color\": \"red\", \"size\": 10}, \"mode\": \"markers\", \"type\": \"scattermapbox\"}]}, {\"data\": [{\"lat\": [41.469653234319104], \"lon\": [-71.8753461199257], \"marker\": {\"color\": \"red\", \"size\": 10}, \"mode\": \"markers\", \"type\": \"scattermapbox\"}]}, {\"data\": [{\"lat\": [41.5852054411731], \"lon\": [-71.9227438288552], \"marker\": {\"color\": \"red\", \"size\": 10}, \"mode\": \"markers\", \"type\": \"scattermapbox\"}]}, {\"data\": [{\"lat\": [41.5798896186091], \"lon\": [-71.832464335089], \"marker\": {\"color\": \"red\", \"size\": 10}, \"mode\": \"markers\", \"type\": \"scattermapbox\"}]}, {\"data\": [{\"lat\": [41.702422485965705], \"lon\": [-71.8184870093514], \"marker\": {\"color\": \"red\", \"size\": 10}, \"mode\": \"markers\", \"type\": \"scattermapbox\"}]}, {\"data\": [{\"lat\": [41.6991630320256], \"lon\": [-71.89871628600659], \"marker\": {\"color\": \"red\", \"size\": 10}, \"mode\": \"markers\", \"type\": \"scattermapbox\"}]}, {\"data\": [{\"lat\": [41.697913437685706], \"lon\": [-71.9997518338538], \"marker\": {\"color\": \"red\", \"size\": 10}, \"mode\": \"markers\", \"type\": \"scattermapbox\"}]}, {\"data\": [{\"lat\": [41.6014468231256], \"lon\": [-72.01416336195891], \"marker\": {\"color\": \"red\", \"size\": 10}, \"mode\": \"markers\", \"type\": \"scattermapbox\"}]}, {\"data\": [{\"lat\": [41.5224183811399], \"lon\": [-72.0007559246447], \"marker\": {\"color\": \"red\", \"size\": 10}, \"mode\": \"markers\", \"type\": \"scattermapbox\"}]}, {\"data\": [{\"lat\": [41.4399706517297], \"lon\": [-72.0164775868916], \"marker\": {\"color\": \"red\", \"size\": 10}, \"mode\": \"markers\", \"type\": \"scattermapbox\"}]}, {\"data\": [{\"lat\": [41.4638005936708], \"lon\": [-72.1567159462634], \"marker\": {\"color\": \"red\", \"size\": 10}, \"mode\": \"markers\", \"type\": \"scattermapbox\"}]}, {\"data\": [{\"lat\": [41.5453490766784], \"lon\": [-72.17487272627521], \"marker\": {\"color\": \"red\", \"size\": 10}, \"mode\": \"markers\", \"type\": \"scattermapbox\"}]}, {\"data\": [{\"lat\": [41.549395531592104], \"lon\": [-72.0882419909586], \"marker\": {\"color\": \"red\", \"size\": 10}, \"mode\": \"markers\", \"type\": \"scattermapbox\"}]}, {\"data\": [{\"lat\": [41.6304321472755], \"lon\": [-72.0758082998052], \"marker\": {\"color\": \"red\", \"size\": 10}, \"mode\": \"markers\", \"type\": \"scattermapbox\"}]}, {\"data\": [{\"lat\": [41.6153242786404], \"lon\": [-72.14324053666171], \"marker\": {\"color\": \"red\", \"size\": 10}, \"mode\": \"markers\", \"type\": \"scattermapbox\"}]}, {\"data\": [{\"lat\": [41.6313840169409], \"lon\": [-72.2401323290683], \"marker\": {\"color\": \"red\", \"size\": 10}, \"mode\": \"markers\", \"type\": \"scattermapbox\"}]}, {\"data\": [{\"lat\": [41.6939232200983], \"lon\": [-72.3069772480909], \"marker\": {\"color\": \"red\", \"size\": 10}, \"mode\": \"markers\", \"type\": \"scattermapbox\"}]}, {\"data\": [{\"lat\": [41.7098093290534], \"lon\": [-72.1668123714238], \"marker\": {\"color\": \"red\", \"size\": 10}, \"mode\": \"markers\", \"type\": \"scattermapbox\"}]}, {\"data\": [{\"lat\": [41.6979385189305], \"lon\": [-72.0880322531898], \"marker\": {\"color\": \"red\", \"size\": 10}, \"mode\": \"markers\", \"type\": \"scattermapbox\"}]}, {\"data\": [{\"lat\": [41.7841829089636], \"lon\": [-72.058305704605], \"marker\": {\"color\": \"red\", \"size\": 10}, \"mode\": \"markers\", \"type\": \"scattermapbox\"}]}, {\"data\": [{\"lat\": [41.786982449712205], \"lon\": [-71.9545082407126], \"marker\": {\"color\": \"red\", \"size\": 10}, \"mode\": \"markers\", \"type\": \"scattermapbox\"}]}, {\"data\": [{\"lat\": [41.831025769004796], \"lon\": [-71.84996561528341], \"marker\": {\"color\": \"red\", \"size\": 10}, \"mode\": \"markers\", \"type\": \"scattermapbox\"}]}, {\"data\": [{\"lat\": [41.9093194577146], \"lon\": [-71.8711989534025], \"marker\": {\"color\": \"red\", \"size\": 10}, \"mode\": \"markers\", \"type\": \"scattermapbox\"}]}, {\"data\": [{\"lat\": [41.9797342500963], \"lon\": [-71.8735879746113], \"marker\": {\"color\": \"red\", \"size\": 10}, \"mode\": \"markers\", \"type\": \"scattermapbox\"}]}, {\"data\": [{\"lat\": [41.9694334934481], \"lon\": [-72.0221320760756], \"marker\": {\"color\": \"red\", \"size\": 10}, \"mode\": \"markers\", \"type\": \"scattermapbox\"}]}, {\"data\": [{\"lat\": [41.867044101718506], \"lon\": [-71.983430263771], \"marker\": {\"color\": \"red\", \"size\": 10}, \"mode\": \"markers\", \"type\": \"scattermapbox\"}]}, {\"data\": [{\"lat\": [41.8915873961555], \"lon\": [-72.0919766524868], \"marker\": {\"color\": \"red\", \"size\": 10}, \"mode\": \"markers\", \"type\": \"scattermapbox\"}]}, {\"data\": [{\"lat\": [41.9930248216721], \"lon\": [-72.16026431037359], \"marker\": {\"color\": \"red\", \"size\": 10}, \"mode\": \"markers\", \"type\": \"scattermapbox\"}]}, {\"data\": [{\"lat\": [41.9875205371605], \"lon\": [-72.3123280592977], \"marker\": {\"color\": \"red\", \"size\": 10}, \"mode\": \"markers\", \"type\": \"scattermapbox\"}]}, {\"data\": [{\"lat\": [41.8785788524061], \"lon\": [-72.3649354623998], \"marker\": {\"color\": \"red\", \"size\": 10}, \"mode\": \"markers\", \"type\": \"scattermapbox\"}]}, {\"data\": [{\"lat\": [41.8895360910517], \"lon\": [-72.2593699540284], \"marker\": {\"color\": \"red\", \"size\": 10}, \"mode\": \"markers\", \"type\": \"scattermapbox\"}]}, {\"data\": [{\"lat\": [41.8911163608229], \"lon\": [-72.17098562559829], \"marker\": {\"color\": \"red\", \"size\": 10}, \"mode\": \"markers\", \"type\": \"scattermapbox\"}]}, {\"data\": [{\"lat\": [41.7930498572278], \"lon\": [-72.1277306749492], \"marker\": {\"color\": \"red\", \"size\": 10}, \"mode\": \"markers\", \"type\": \"scattermapbox\"}]}, {\"data\": [{\"lat\": [41.789205393686295], \"lon\": [-72.2287318574139], \"marker\": {\"color\": \"red\", \"size\": 10}, \"mode\": \"markers\", \"type\": \"scattermapbox\"}]}, {\"data\": [{\"lat\": [41.782915481050104], \"lon\": [-72.33940560807771], \"marker\": {\"color\": \"red\", \"size\": 10}, \"mode\": \"markers\", \"type\": \"scattermapbox\"}]}, {\"data\": [{\"lat\": [41.7331340876676], \"lon\": [-72.3761079827343], \"marker\": {\"color\": \"red\", \"size\": 10}, \"mode\": \"markers\", \"type\": \"scattermapbox\"}]}, {\"data\": [{\"lat\": [41.6593678680616], \"lon\": [-72.3903209065753], \"marker\": {\"color\": \"red\", \"size\": 10}, \"mode\": \"markers\", \"type\": \"scattermapbox\"}]}, {\"data\": [{\"lat\": [41.5620266026866], \"lon\": [-72.34727571199859], \"marker\": {\"color\": \"red\", \"size\": 10}, \"mode\": \"markers\", \"type\": \"scattermapbox\"}]}, {\"data\": [{\"lat\": [41.485381927511604], \"lon\": [-72.26643801788471], \"marker\": {\"color\": \"red\", \"size\": 10}, \"mode\": \"markers\", \"type\": \"scattermapbox\"}]}, {\"data\": [{\"lat\": [41.479796473239006], \"lon\": [-72.39434858053251], \"marker\": {\"color\": \"red\", \"size\": 10}, \"mode\": \"markers\", \"type\": \"scattermapbox\"}]}, {\"data\": [{\"lat\": [41.4675703294021], \"lon\": [-72.54594731520359], \"marker\": {\"color\": \"red\", \"size\": 10}, \"mode\": \"markers\", \"type\": \"scattermapbox\"}]}, {\"data\": [{\"lat\": [41.569590883116], \"lon\": [-72.5074074836945], \"marker\": {\"color\": \"red\", \"size\": 10}, \"mode\": \"markers\", \"type\": \"scattermapbox\"}]}, {\"data\": [{\"lat\": [41.6326835770749], \"lon\": [-72.4544996759191], \"marker\": {\"color\": \"red\", \"size\": 10}, \"mode\": \"markers\", \"type\": \"scattermapbox\"}]}, {\"data\": [{\"lat\": [41.6920472679109], \"lon\": [-72.5471809420126], \"marker\": {\"color\": \"red\", \"size\": 10}, \"mode\": \"markers\", \"type\": \"scattermapbox\"}]}, {\"data\": [{\"lat\": [41.5993369576271], \"lon\": [-72.5885378812523], \"marker\": {\"color\": \"red\", \"size\": 10}, \"mode\": \"markers\", \"type\": \"scattermapbox\"}]}, {\"data\": [{\"lat\": [41.612159112064795], \"lon\": [-72.663730492445], \"marker\": {\"color\": \"red\", \"size\": 10}, \"mode\": \"markers\", \"type\": \"scattermapbox\"}]}, {\"data\": [{\"lat\": [41.5476609967849], \"lon\": [-72.6545470832036], \"marker\": {\"color\": \"red\", \"size\": 10}, \"mode\": \"markers\", \"type\": \"scattermapbox\"}]}, {\"data\": [{\"lat\": [41.5176869616306], \"lon\": [-72.71492443300221], \"marker\": {\"color\": \"red\", \"size\": 10}, \"mode\": \"markers\", \"type\": \"scattermapbox\"}]}, {\"data\": [{\"lat\": [41.46229475074001], \"lon\": [-72.68308644283859], \"marker\": {\"color\": \"red\", \"size\": 10}, \"mode\": \"markers\", \"type\": \"scattermapbox\"}]}, {\"data\": [{\"lat\": [41.4590599814914], \"lon\": [-72.8041565391719], \"marker\": {\"color\": \"red\", \"size\": 10}, \"mode\": \"markers\", \"type\": \"scattermapbox\"}]}, {\"data\": [{\"lat\": [41.536838375833], \"lon\": [-72.7944939940579], \"marker\": {\"color\": \"red\", \"size\": 10}, \"mode\": \"markers\", \"type\": \"scattermapbox\"}]}, {\"data\": [{\"lat\": [41.6111577680927], \"lon\": [-72.77601524654371], \"marker\": {\"color\": \"red\", \"size\": 10}, \"mode\": \"markers\", \"type\": \"scattermapbox\"}]}, {\"data\": [{\"lat\": [41.604891708861295], \"lon\": [-72.8800272635791], \"marker\": {\"color\": \"red\", \"size\": 10}, \"mode\": \"markers\", \"type\": \"scattermapbox\"}]}, {\"data\": [{\"lat\": [41.5114518461356], \"lon\": [-72.90399530183129], \"marker\": {\"color\": \"red\", \"size\": 10}, \"mode\": \"markers\", \"type\": \"scattermapbox\"}]}, {\"data\": [{\"lat\": [41.4991810624054], \"lon\": [-72.9762778428478], \"marker\": {\"color\": \"red\", \"size\": 10}, \"mode\": \"markers\", \"type\": \"scattermapbox\"}]}, {\"data\": [{\"lat\": [41.425995390854396], \"lon\": [-72.99287956171429], \"marker\": {\"color\": \"red\", \"size\": 10}, \"mode\": \"markers\", \"type\": \"scattermapbox\"}]}, {\"data\": [{\"lat\": [41.356608391724], \"lon\": [-73.01003180977209], \"marker\": {\"color\": \"red\", \"size\": 10}, \"mode\": \"markers\", \"type\": \"scattermapbox\"}]}, {\"data\": [{\"lat\": [41.344271993997204], \"lon\": [-73.0688896980701], \"marker\": {\"color\": \"red\", \"size\": 10}, \"mode\": \"markers\", \"type\": \"scattermapbox\"}]}, {\"data\": [{\"lat\": [41.3264492150586], \"lon\": [-73.0829994779898], \"marker\": {\"color\": \"red\", \"size\": 10}, \"mode\": \"markers\", \"type\": \"scattermapbox\"}]}, {\"data\": [{\"lat\": [41.3810259961196], \"lon\": [-73.08716650266041], \"marker\": {\"color\": \"red\", \"size\": 10}, \"mode\": \"markers\", \"type\": \"scattermapbox\"}]}, {\"data\": [{\"lat\": [41.4389273225178], \"lon\": [-73.0568349128605], \"marker\": {\"color\": \"red\", \"size\": 10}, \"mode\": \"markers\", \"type\": \"scattermapbox\"}]}, {\"data\": [{\"lat\": [41.4889777436159], \"lon\": [-73.0517676810289], \"marker\": {\"color\": \"red\", \"size\": 10}, \"mode\": \"markers\", \"type\": \"scattermapbox\"}]}, {\"data\": [{\"lat\": [41.5582594181289], \"lon\": [-73.0360213515486], \"marker\": {\"color\": \"red\", \"size\": 10}, \"mode\": \"markers\", \"type\": \"scattermapbox\"}]}, {\"data\": [{\"lat\": [41.6006625827308], \"lon\": [-72.9731820072739], \"marker\": {\"color\": \"red\", \"size\": 10}, \"mode\": \"markers\", \"type\": \"scattermapbox\"}]}, {\"data\": [{\"lat\": [41.616015824789], \"lon\": [-73.1177301876986], \"marker\": {\"color\": \"red\", \"size\": 10}, \"mode\": \"markers\", \"type\": \"scattermapbox\"}]}, {\"data\": [{\"lat\": [41.5271246742485], \"lon\": [-73.12276027340859], \"marker\": {\"color\": \"red\", \"size\": 10}, \"mode\": \"markers\", \"type\": \"scattermapbox\"}]}, {\"data\": [{\"lat\": [41.431314709575794], \"lon\": [-73.1350983140828], \"marker\": {\"color\": \"red\", \"size\": 10}, \"mode\": \"markers\", \"type\": \"scattermapbox\"}]}, {\"data\": [{\"lat\": [41.4745319243586], \"lon\": [-73.23274796141651], \"marker\": {\"color\": \"red\", \"size\": 10}, \"mode\": \"markers\", \"type\": \"scattermapbox\"}]}, {\"data\": [{\"lat\": [41.398822983464605], \"lon\": [-73.29282774457009], \"marker\": {\"color\": \"red\", \"size\": 10}, \"mode\": \"markers\", \"type\": \"scattermapbox\"}]}, {\"data\": [{\"lat\": [41.3379344444351], \"lon\": [-73.2249189440438], \"marker\": {\"color\": \"red\", \"size\": 10}, \"mode\": \"markers\", \"type\": \"scattermapbox\"}]}, {\"data\": [{\"lat\": [41.3060975143692], \"lon\": [-73.13822123369779], \"marker\": {\"color\": \"red\", \"size\": 10}, \"mode\": \"markers\", \"type\": \"scattermapbox\"}]}, {\"data\": [{\"lat\": [41.260173481741205], \"lon\": [-73.2084247211173], \"marker\": {\"color\": \"red\", \"size\": 10}, \"mode\": \"markers\", \"type\": \"scattermapbox\"}]}, {\"data\": [{\"lat\": [41.2648859129813], \"lon\": [-73.30008424693729], \"marker\": {\"color\": \"red\", \"size\": 10}, \"mode\": \"markers\", \"type\": \"scattermapbox\"}]}, {\"data\": [{\"lat\": [41.228433019273794], \"lon\": [-73.37256725904192], \"marker\": {\"color\": \"red\", \"size\": 10}, \"mode\": \"markers\", \"type\": \"scattermapbox\"}]}, {\"data\": [{\"lat\": [41.305021333867295], \"lon\": [-73.3913916801082], \"marker\": {\"color\": \"red\", \"size\": 10}, \"mode\": \"markers\", \"type\": \"scattermapbox\"}]}, {\"data\": [{\"lat\": [41.374801560580295], \"lon\": [-73.39265624011591], \"marker\": {\"color\": \"red\", \"size\": 10}, \"mode\": \"markers\", \"type\": \"scattermapbox\"}]}, {\"data\": [{\"lat\": [41.46752965155571], \"lon\": [-73.3923244597689], \"marker\": {\"color\": \"red\", \"size\": 10}, \"mode\": \"markers\", \"type\": \"scattermapbox\"}]}, {\"data\": [{\"lat\": [41.5208399735827], \"lon\": [-73.3600973886368], \"marker\": {\"color\": \"red\", \"size\": 10}, \"mode\": \"markers\", \"type\": \"scattermapbox\"}]}, {\"data\": [{\"lat\": [41.6522912170332], \"lon\": [-73.31454070999929], \"marker\": {\"color\": \"red\", \"size\": 10}, \"mode\": \"markers\", \"type\": \"scattermapbox\"}]}, {\"data\": [{\"lat\": [41.5539629750069], \"lon\": [-73.30056856944191], \"marker\": {\"color\": \"red\", \"size\": 10}, \"mode\": \"markers\", \"type\": \"scattermapbox\"}]}, {\"data\": [{\"lat\": [41.561360772670604], \"lon\": [-73.20720726172492], \"marker\": {\"color\": \"red\", \"size\": 10}, \"mode\": \"markers\", \"type\": \"scattermapbox\"}]}, {\"data\": [{\"lat\": [41.6374955633252], \"lon\": [-73.2113934154445], \"marker\": {\"color\": \"red\", \"size\": 10}, \"mode\": \"markers\", \"type\": \"scattermapbox\"}]}, {\"data\": [{\"lat\": [41.6897975797642], \"lon\": [-73.2079925872203], \"marker\": {\"color\": \"red\", \"size\": 10}, \"mode\": \"markers\", \"type\": \"scattermapbox\"}]}, {\"data\": [{\"lat\": [41.7413071978242], \"lon\": [-73.1931458075758], \"marker\": {\"color\": \"red\", \"size\": 10}, \"mode\": \"markers\", \"type\": \"scattermapbox\"}]}, {\"data\": [{\"lat\": [41.7550048175454], \"lon\": [-73.0582653297907], \"marker\": {\"color\": \"red\", \"size\": 10}, \"mode\": \"markers\", \"type\": \"scattermapbox\"}]}, {\"data\": [{\"lat\": [41.6697057889872], \"lon\": [-73.0858876745003], \"marker\": {\"color\": \"red\", \"size\": 10}, \"mode\": \"markers\", \"type\": \"scattermapbox\"}]}, {\"data\": [{\"lat\": [41.6641584144003], \"lon\": [-73.0262780011343], \"marker\": {\"color\": \"red\", \"size\": 10}, \"mode\": \"markers\", \"type\": \"scattermapbox\"}]}, {\"data\": [{\"lat\": [41.6810808569771], \"lon\": [-72.9406338211413], \"marker\": {\"color\": \"red\", \"size\": 10}, \"mode\": \"markers\", \"type\": \"scattermapbox\"}]}, {\"data\": [{\"lat\": [41.75987067192471], \"lon\": [-72.9590844223388], \"marker\": {\"color\": \"red\", \"size\": 10}, \"mode\": \"markers\", \"type\": \"scattermapbox\"}]}, {\"data\": [{\"lat\": [41.790697032807], \"lon\": [-72.8540158383504], \"marker\": {\"color\": \"red\", \"size\": 10}, \"mode\": \"markers\", \"type\": \"scattermapbox\"}]}, {\"data\": [{\"lat\": [41.7288400459629], \"lon\": [-72.84094406240949], \"marker\": {\"color\": \"red\", \"size\": 10}, \"mode\": \"markers\", \"type\": \"scattermapbox\"}]}, {\"data\": [{\"lat\": [41.674147416588504], \"lon\": [-72.8571304957605], \"marker\": {\"color\": \"red\", \"size\": 10}, \"mode\": \"markers\", \"type\": \"scattermapbox\"}]}, {\"data\": [{\"lat\": [41.6760020842678], \"lon\": [-72.7859315625518], \"marker\": {\"color\": \"red\", \"size\": 10}, \"mode\": \"markers\", \"type\": \"scattermapbox\"}]}, {\"data\": [{\"lat\": [41.686986134308796], \"lon\": [-72.7309184896193], \"marker\": {\"color\": \"red\", \"size\": 10}, \"mode\": \"markers\", \"type\": \"scattermapbox\"}]}, {\"data\": [{\"lat\": [41.6571099624868], \"lon\": [-72.6632873641259], \"marker\": {\"color\": \"red\", \"size\": 10}, \"mode\": \"markers\", \"type\": \"scattermapbox\"}]}, {\"data\": [{\"lat\": [41.7011868652194], \"lon\": [-72.6703646023617], \"marker\": {\"color\": \"red\", \"size\": 10}, \"mode\": \"markers\", \"type\": \"scattermapbox\"}]}, {\"data\": [{\"lat\": [41.7660045597751], \"lon\": [-72.6834270445884], \"marker\": {\"color\": \"red\", \"size\": 10}, \"mode\": \"markers\", \"type\": \"scattermapbox\"}]}, {\"data\": [{\"lat\": [41.7669492878176], \"lon\": [-72.7538722699359], \"marker\": {\"color\": \"red\", \"size\": 10}, \"mode\": \"markers\", \"type\": \"scattermapbox\"}]}, {\"data\": [{\"lat\": [41.763461161618096], \"lon\": [-72.6152853024233], \"marker\": {\"color\": \"red\", \"size\": 10}, \"mode\": \"markers\", \"type\": \"scattermapbox\"}]}, {\"data\": [{\"lat\": [41.8352178682275], \"lon\": [-72.5734404755258], \"marker\": {\"color\": \"red\", \"size\": 10}, \"mode\": \"markers\", \"type\": \"scattermapbox\"}]}, {\"data\": [{\"lat\": [41.7752467245319], \"lon\": [-72.5242263078394], \"marker\": {\"color\": \"red\", \"size\": 10}, \"mode\": \"markers\", \"type\": \"scattermapbox\"}]}, {\"data\": [{\"lat\": [41.766401884112895], \"lon\": [-72.439087792347], \"marker\": {\"color\": \"red\", \"size\": 10}, \"mode\": \"markers\", \"type\": \"scattermapbox\"}]}, {\"data\": [{\"lat\": [41.836415024626604], \"lon\": [-72.4607471462613], \"marker\": {\"color\": \"red\", \"size\": 10}, \"mode\": \"markers\", \"type\": \"scattermapbox\"}]}, {\"data\": [{\"lat\": [41.9151388393704], \"lon\": [-72.448494217229], \"marker\": {\"color\": \"red\", \"size\": 10}, \"mode\": \"markers\", \"type\": \"scattermapbox\"}]}, {\"data\": [{\"lat\": [41.994879419309996], \"lon\": [-72.4530514231731], \"marker\": {\"color\": \"red\", \"size\": 10}, \"mode\": \"markers\", \"type\": \"scattermapbox\"}]}, {\"data\": [{\"lat\": [41.9839789750923], \"lon\": [-72.55471870029], \"marker\": {\"color\": \"red\", \"size\": 10}, \"mode\": \"markers\", \"type\": \"scattermapbox\"}]}, {\"data\": [{\"lat\": [41.904929960402], \"lon\": [-72.56730081590659], \"marker\": {\"color\": \"red\", \"size\": 10}, \"mode\": \"markers\", \"type\": \"scattermapbox\"}]}, {\"data\": [{\"lat\": [41.9267906193425], \"lon\": [-72.65484126141241], \"marker\": {\"color\": \"red\", \"size\": 10}, \"mode\": \"markers\", \"type\": \"scattermapbox\"}]}, {\"data\": [{\"lat\": [41.9944863271393], \"lon\": [-72.6788512497815], \"marker\": {\"color\": \"red\", \"size\": 10}, \"mode\": \"markers\", \"type\": \"scattermapbox\"}]}, {\"data\": [{\"lat\": [41.871287740846896], \"lon\": [-72.6736582647048], \"marker\": {\"color\": \"red\", \"size\": 10}, \"mode\": \"markers\", \"type\": \"scattermapbox\"}]}, {\"data\": [{\"lat\": [41.8426291646744], \"lon\": [-72.74073779390041], \"marker\": {\"color\": \"red\", \"size\": 10}, \"mode\": \"markers\", \"type\": \"scattermapbox\"}]}, {\"data\": [{\"lat\": [41.942477007580706], \"lon\": [-72.74113864747609], \"marker\": {\"color\": \"red\", \"size\": 10}, \"mode\": \"markers\", \"type\": \"scattermapbox\"}]}, {\"data\": [{\"lat\": [41.969545409347205], \"lon\": [-72.8348515800958], \"marker\": {\"color\": \"red\", \"size\": 10}, \"mode\": \"markers\", \"type\": \"scattermapbox\"}]}, {\"data\": [{\"lat\": [41.873002196110704], \"lon\": [-72.82580761596621], \"marker\": {\"color\": \"red\", \"size\": 10}, \"mode\": \"markers\", \"type\": \"scattermapbox\"}]}, {\"data\": [{\"lat\": [41.8599346850351], \"lon\": [-72.9085434023694], \"marker\": {\"color\": \"red\", \"size\": 10}, \"mode\": \"markers\", \"type\": \"scattermapbox\"}]}, {\"data\": [{\"lat\": [41.844227114742296], \"lon\": [-73.0055296300638], \"marker\": {\"color\": \"red\", \"size\": 10}, \"mode\": \"markers\", \"type\": \"scattermapbox\"}]}, {\"data\": [{\"lat\": [41.9315839801224], \"lon\": [-72.97295525251491], \"marker\": {\"color\": \"red\", \"size\": 10}, \"mode\": \"markers\", \"type\": \"scattermapbox\"}]}, {\"data\": [{\"lat\": [42.0042931274258], \"lon\": [-72.9488967294987], \"marker\": {\"color\": \"red\", \"size\": 10}, \"mode\": \"markers\", \"type\": \"scattermapbox\"}]}, {\"data\": [{\"lat\": [42.0015458695464], \"lon\": [-73.0808105833225], \"marker\": {\"color\": \"red\", \"size\": 10}, \"mode\": \"markers\", \"type\": \"scattermapbox\"}]}, {\"data\": [{\"lat\": [41.92188246061121], \"lon\": [-73.10281770555859], \"marker\": {\"color\": \"red\", \"size\": 10}, \"mode\": \"markers\", \"type\": \"scattermapbox\"}]}, {\"data\": [{\"lat\": [41.8349402852756], \"lon\": [-73.128075803883], \"marker\": {\"color\": \"red\", \"size\": 10}, \"mode\": \"markers\", \"type\": \"scattermapbox\"}]}, {\"data\": [{\"lat\": [41.8500986021862], \"lon\": [-73.2335576516127], \"marker\": {\"color\": \"red\", \"size\": 10}, \"mode\": \"markers\", \"type\": \"scattermapbox\"}]}, {\"data\": [{\"lat\": [41.9801449565525], \"lon\": [-73.1962241920279], \"marker\": {\"color\": \"red\", \"size\": 10}, \"mode\": \"markers\", \"type\": \"scattermapbox\"}]}, {\"data\": [{\"lat\": [42.022264251516795], \"lon\": [-73.2935685900945], \"marker\": {\"color\": \"red\", \"size\": 10}, \"mode\": \"markers\", \"type\": \"scattermapbox\"}]}, {\"data\": [{\"lat\": [41.9598824529327], \"lon\": [-73.31004419446779], \"marker\": {\"color\": \"red\", \"size\": 10}, \"mode\": \"markers\", \"type\": \"scattermapbox\"}]}, {\"data\": [{\"lat\": [41.9860188845167], \"lon\": [-73.4256505768319], \"marker\": {\"color\": \"red\", \"size\": 10}, \"mode\": \"markers\", \"type\": \"scattermapbox\"}]}]);\n",
              "                        }).then(function(){\n",
              "                            \n",
              "var gd = document.getElementById('c27ba0b7-753d-49d8-9b00-8ff441a4430c');\n",
              "var x = new MutationObserver(function (mutations, observer) {{\n",
              "        var display = window.getComputedStyle(gd).display;\n",
              "        if (!display || display === 'none') {{\n",
              "            console.log([gd, 'removed!']);\n",
              "            Plotly.purge(gd);\n",
              "            observer.disconnect();\n",
              "        }}\n",
              "}});\n",
              "\n",
              "// Listen for the removal of the full notebook cells\n",
              "var notebookContainer = gd.closest('#notebook-container');\n",
              "if (notebookContainer) {{\n",
              "    x.observe(notebookContainer, {childList: true});\n",
              "}}\n",
              "\n",
              "// Listen for the clearing of the current output cell\n",
              "var outputEl = gd.closest('.output');\n",
              "if (outputEl) {{\n",
              "    x.observe(outputEl, {childList: true});\n",
              "}}\n",
              "\n",
              "                        })\n",
              "                };\n",
              "                \n",
              "            </script>\n",
              "        </div>\n",
              "</body>\n",
              "</html>"
            ]
          },
          "metadata": {
            "tags": []
          }
        },
        {
          "output_type": "stream",
          "name": "stdout",
          "text": [
            "time: 11.7 s (started: 2021-04-19 15:04:35 +00:00)\n"
          ]
        }
      ],
      "metadata": {
        "colab": {
          "base_uri": "https://localhost:8080/",
          "height": 561
        },
        "id": "crj75X2ydxDh",
        "outputId": "6d616331-32ef-4567-e098-ab950c756016"
      }
    },
    {
      "cell_type": "code",
      "execution_count": null,
      "source": [
        "print('Minimum distance: {} km'.format(solution.ObjectiveValue())) #Minimum distance covered (or) Minimum Cost= 17139 km"
      ],
      "outputs": [
        {
          "output_type": "stream",
          "name": "stdout",
          "text": [
            "Minimum distance: 114768 km\n",
            "time: 2.12 ms (started: 2021-04-19 15:04:47 +00:00)\n"
          ]
        }
      ],
      "metadata": {
        "colab": {
          "base_uri": "https://localhost:8080/"
        },
        "id": "s2p_2onX_ocj",
        "outputId": "ce36c87b-1137-49a8-e938-7338d640aa5a"
      }
    },
    {
      "cell_type": "markdown",
      "source": [
        "# End time"
      ],
      "metadata": {
        "id": "XaOW2H84cY2Q"
      }
    },
    {
      "cell_type": "code",
      "execution_count": null,
      "source": [
        "end = time.time() #End time noted\r\n",
        "print(end - start,\" s\")"
      ],
      "outputs": [
        {
          "output_type": "stream",
          "name": "stdout",
          "text": [
            "32.3384108543396  s\n",
            "time: 2.41 ms (started: 2021-04-19 15:04:47 +00:00)\n"
          ]
        }
      ],
      "metadata": {
        "colab": {
          "base_uri": "https://localhost:8080/"
        },
        "id": "cqm_-Tqgca4C",
        "outputId": "3c78e084-710e-4b22-bda8-556a9abc12d2"
      }
    },
    {
      "cell_type": "markdown",
      "source": [
        "# Conclusion\r\n",
        "\r\n",
        "In this modeling example, we have shown how to formulate the symmetric Traveling Salesman Problem. We also showed how to dynamically use heuristics in service solvers and use TSP."
      ],
      "metadata": {
        "id": "Kqp2DfD8dyKz"
      }
    }
  ]
}
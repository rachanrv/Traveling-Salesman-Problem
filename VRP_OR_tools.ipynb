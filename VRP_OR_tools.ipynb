{
  "nbformat": 4,
  "nbformat_minor": 2,
  "metadata": {
    "colab": {
      "name": "VRP#OR tools.ipynb",
      "provenance": [],
      "collapsed_sections": [],
      "toc_visible": true
    },
    "kernelspec": {
      "name": "python3",
      "display_name": "Python 3"
    }
  },
  "cells": [
    {
      "cell_type": "markdown",
      "source": [
        "# **VEHICLE ROUTING PROBLEM**\r\n",
        "\r\n",
        "This project presents an example that shows how to solve the  Uncapacitated,capacitated,pick-up delivery and time window constraints Vehicle Routing problem (VRP) using OR Tools.\r\n",
        "\r\n",
        " https://developers.google.com/optimization/routing/vrp"
      ],
      "metadata": {
        "id": "_VBSv3-cGvFV"
      }
    },
    {
      "cell_type": "markdown",
      "source": [
        "<image src='https://media3.giphy.com/media/WSBcKq3IMknO1ichgo/giphy.gif' width=\"400\"/>"
      ],
      "metadata": {
        "id": "ze1kToC9f-zA"
      }
    },
    {
      "cell_type": "markdown",
      "source": [
        "In this notebook, you will learn how to:\r\n",
        "1. Formulate the Uncapacitated Vehicle Routing Problem\r\n",
        "2. Formulate the Uncapacitated Vehicle Routing Problem\r\n",
        "3. Formulate the Vehicle Routing Problem with pick up and delivery constraints\r\n",
        "4. Formulate the Vehicle Routing Problem with time window constraints \r\n",
        "5. Use meta-heuristics to identify solutions of the VRP problem that are infeasible\r\n",
        "\r\n",
        "We use this classic combinatorial optimization problem to demonstrate how Gurobi can be used to easily and effectively solve small-sized problem instances of the VRP."
      ],
      "metadata": {
        "id": "TMGlvZx0MN3J"
      }
    },
    {
      "cell_type": "markdown",
      "source": [
        "# OBJECTIVE \n",
        "This model is  a vehicle routing problem. A small company with six vans has a contract with a number of airlines to pick up lost or delayed baggage and deliver each piece of luggage to its owner. This problem is formulated as a binary optimization problem .\n"
      ],
      "metadata": {
        "id": "eQ2D6SJ9i8lg"
      }
    },
    {
      "cell_type": "markdown",
      "source": [
        "# PROBLEM DESCRIPTION\n",
        " To solve this problem, we can formulate an optimization model that minimizes the number of vans that need to be used.\n",
        "\n"
      ],
      "metadata": {
        "id": "cxnzToN0i8li"
      }
    },
    {
      "cell_type": "markdown",
      "source": [
        "Objective: minimize the length of the shortest path"
      ],
      "metadata": {
        "id": "pG9g-WQHMsCh"
      }
    },
    {
      "cell_type": "code",
      "execution_count": null,
      "source": [
        "from google.colab import drive, files\r\n",
        "drive.mount('/content/drive/')"
      ],
      "outputs": [
        {
          "output_type": "stream",
          "name": "stdout",
          "text": [
            "Mounted at /content/drive/\n"
          ]
        }
      ],
      "metadata": {
        "id": "MxG8DwZWPxdy",
        "colab": {
          "base_uri": "https://localhost:8080/"
        },
        "outputId": "d4f739c6-e8bb-4256-e604-568b52e1b29b"
      }
    },
    {
      "cell_type": "markdown",
      "source": [
        "# SOLVER TIME CALCULATION"
      ],
      "metadata": {
        "id": "rM4l3orgYxs5"
      }
    },
    {
      "cell_type": "code",
      "execution_count": null,
      "source": [
        "import time\r\n",
        "start = time.time() #start time noted"
      ],
      "outputs": [
        {
          "output_type": "stream",
          "name": "stdout",
          "text": [
            "time: 1.11 ms (started: 2021-03-15 01:17:02 +00:00)\n"
          ]
        }
      ],
      "metadata": {
        "colab": {
          "base_uri": "https://localhost:8080/"
        },
        "id": "sKdldsD9dPgA",
        "outputId": "06e62bf5-78d1-496e-9dc8-e3fdb5969576"
      }
    },
    {
      "cell_type": "code",
      "execution_count": null,
      "source": [
        "# In this notebook, I will want to check the amount of time spent in the execution of each cell, so I need to install an additional package\r\n",
        "!pip install ipython-autotime\r\n",
        "%load_ext autotime"
      ],
      "outputs": [
        {
          "output_type": "stream",
          "name": "stdout",
          "text": [
            "Requirement already satisfied: ipython-autotime in /usr/local/lib/python3.7/dist-packages (0.3.1)\n",
            "Requirement already satisfied: ipython in /usr/local/lib/python3.7/dist-packages (from ipython-autotime) (5.5.0)\n",
            "Requirement already satisfied: pickleshare in /usr/local/lib/python3.7/dist-packages (from ipython->ipython-autotime) (0.7.5)\n",
            "Requirement already satisfied: simplegeneric>0.8 in /usr/local/lib/python3.7/dist-packages (from ipython->ipython-autotime) (0.8.1)\n",
            "Requirement already satisfied: pygments in /usr/local/lib/python3.7/dist-packages (from ipython->ipython-autotime) (2.6.1)\n",
            "Requirement already satisfied: prompt-toolkit<2.0.0,>=1.0.4 in /usr/local/lib/python3.7/dist-packages (from ipython->ipython-autotime) (1.0.18)\n",
            "Requirement already satisfied: decorator in /usr/local/lib/python3.7/dist-packages (from ipython->ipython-autotime) (4.4.2)\n",
            "Requirement already satisfied: setuptools>=18.5 in /usr/local/lib/python3.7/dist-packages (from ipython->ipython-autotime) (54.0.0)\n",
            "Requirement already satisfied: pexpect; sys_platform != \"win32\" in /usr/local/lib/python3.7/dist-packages (from ipython->ipython-autotime) (4.8.0)\n",
            "Requirement already satisfied: traitlets>=4.2 in /usr/local/lib/python3.7/dist-packages (from ipython->ipython-autotime) (5.0.5)\n",
            "Requirement already satisfied: wcwidth in /usr/local/lib/python3.7/dist-packages (from prompt-toolkit<2.0.0,>=1.0.4->ipython->ipython-autotime) (0.2.5)\n",
            "Requirement already satisfied: six>=1.9.0 in /usr/local/lib/python3.7/dist-packages (from prompt-toolkit<2.0.0,>=1.0.4->ipython->ipython-autotime) (1.15.0)\n",
            "Requirement already satisfied: ptyprocess>=0.5 in /usr/local/lib/python3.7/dist-packages (from pexpect; sys_platform != \"win32\"->ipython->ipython-autotime) (0.7.0)\n",
            "Requirement already satisfied: ipython-genutils in /usr/local/lib/python3.7/dist-packages (from traitlets>=4.2->ipython->ipython-autotime) (0.2.0)\n",
            "time: 1.85 ms (started: 2021-03-15 01:17:02 +00:00)\n"
          ]
        }
      ],
      "metadata": {
        "colab": {
          "base_uri": "https://localhost:8080/"
        },
        "id": "aVOm8OIqYiWZ",
        "outputId": "315d1c4b-d81b-4bd2-dce0-108b61a0e99c"
      }
    },
    {
      "cell_type": "markdown",
      "source": [
        "# VEHICLE ROUTING PROBLEM WITHOUT CAPACITY CONSTRAINTS\n"
      ],
      "metadata": {
        "id": "kkrutesyLPQZ"
      }
    },
    {
      "cell_type": "code",
      "execution_count": null,
      "source": [
        "#import pandas and numpy for operations\n",
        "import pandas as pd  #dataframes\n",
        "import numpy as np #arrays "
      ],
      "outputs": [],
      "metadata": {
        "id": "IdEV5j6Wji8b"
      }
    },
    {
      "cell_type": "code",
      "execution_count": null,
      "source": [
        "#import packages to calculate location distances \n",
        "from sklearn.metrics.pairwise import haversine_distances\n",
        "from math import radians"
      ],
      "outputs": [],
      "metadata": {
        "id": "xDn-iPrmk6L1"
      }
    },
    {
      "cell_type": "code",
      "execution_count": null,
      "source": [
        "#import packages to plot maps and plots\n",
        "import matplotlib.pyplot as plt\n",
        "import seaborn as sns\n",
        "import plotly.express as px\n",
        "import plotly.graph_objects as go\n",
        "import networkx as nx\n",
        "from pylab import * "
      ],
      "outputs": [],
      "metadata": {
        "id": "S1jj17lLlEGl"
      }
    },
    {
      "cell_type": "code",
      "execution_count": null,
      "source": [
        "import pandas as pd\n",
        "import numpy as np\n",
        "geogTable = pd.read_csv('/content/drive/MyDrive/BDM TA/Vehicle Routing Problem/geogTable_VRP_example.csv')\n",
        "geogTable = np.array(geogTable)\n",
        "geogTable # reads from data!"
      ],
      "outputs": [
        {
          "output_type": "execute_result",
          "data": {
            "text/plain": [
              "array([[456, 320],\n",
              "       [228,   0],\n",
              "       [912,   0],\n",
              "       [  0,  80],\n",
              "       [114,  80],\n",
              "       [570, 160],\n",
              "       [798, 160],\n",
              "       [342, 240],\n",
              "       [684, 240],\n",
              "       [570, 400],\n",
              "       [912, 400],\n",
              "       [114, 480],\n",
              "       [228, 480],\n",
              "       [342, 560],\n",
              "       [684, 560],\n",
              "       [  0, 640],\n",
              "       [798, 640]])"
            ]
          },
          "metadata": {
            "tags": []
          },
          "execution_count": 6
        }
      ],
      "metadata": {
        "id": "4B1zYpxvPjrz",
        "colab": {
          "base_uri": "https://localhost:8080/"
        },
        "outputId": "46faf895-40be-4420-e730-b7ddbe15adca"
      }
    },
    {
      "cell_type": "code",
      "execution_count": null,
      "source": [
        "# geogTable = [(456, 320), # location 0 - the depot\n",
        "# (228, 0),    # location 1\n",
        "# (912, 0),    # location 2\n",
        "# (0, 80),     # location 3\n",
        "# (114, 80),   # location 4\n",
        "# (570, 160),  # location 5\n",
        "# (798, 160),  # location 6\n",
        "# (342, 240),  # location 7\n",
        "# (684, 240),  # location 8\n",
        "# (570, 400),  # location 9\n",
        "# (912, 400),  # location 10\n",
        "# (114, 480),  # location 11\n",
        "# (228, 480),  # location 12\n",
        "# (342, 560),  # location 13\n",
        "# (684, 560),  # location 14\n",
        "# (0, 640),    # location 15\n",
        "# (798, 640)]  # location 16"
      ],
      "outputs": [],
      "metadata": {
        "id": "oa-LARSjMvho"
      }
    },
    {
      "cell_type": "code",
      "execution_count": null,
      "source": [
        "from sklearn.metrics.pairwise import manhattan_distances\n",
        "# got the same result!\n",
        "# you can just call this df and reference it below for data\n",
        "cost_matrix=manhattan_distances(geogTable)"
      ],
      "outputs": [],
      "metadata": {
        "id": "49ZzC7rKNymi"
      }
    },
    {
      "cell_type": "markdown",
      "source": [
        "Manhattan distance table\n"
      ],
      "metadata": {
        "id": "2z7c-WAINxAJ"
      }
    },
    {
      "cell_type": "markdown",
      "source": [
        "<image src='https://developers.google.com/optimization/images/routing/vrp.svg' height='400'>"
      ],
      "metadata": {
        "id": "FQLMAUfqM73R"
      }
    },
    {
      "cell_type": "markdown",
      "source": [
        "First, you must install [ortools](https://pypi.org/project/ortools/) package in this colab."
      ],
      "metadata": {
        "id": "bCsMd8FDPBbZ"
      }
    },
    {
      "cell_type": "code",
      "execution_count": null,
      "source": [
        "!pip install ortools"
      ],
      "outputs": [
        {
          "output_type": "stream",
          "name": "stdout",
          "text": [
            "Collecting ortools\n",
            "\u001b[?25l  Downloading https://files.pythonhosted.org/packages/63/94/2832edee6f4fb4e77e8585b6034f9506be24361fe6ead4e76de38ab0a666/ortools-8.1.8487-cp36-cp36m-manylinux1_x86_64.whl (14.0MB)\n",
            "\u001b[K     |████████████████████████████████| 14.0MB 324kB/s \n",
            "\u001b[?25hCollecting absl-py>=0.11\n",
            "\u001b[?25l  Downloading https://files.pythonhosted.org/packages/bc/58/0aa6fb779dc69cfc811df3398fcbeaeefbf18561b6e36b185df0782781cc/absl_py-0.11.0-py3-none-any.whl (127kB)\n",
            "\u001b[K     |████████████████████████████████| 133kB 39.8MB/s \n",
            "\u001b[?25hCollecting protobuf>=3.14.0\n",
            "\u001b[?25l  Downloading https://files.pythonhosted.org/packages/fe/fd/247ef25f5ec5f9acecfbc98ca3c6aaf66716cf52509aca9a93583d410493/protobuf-3.14.0-cp36-cp36m-manylinux1_x86_64.whl (1.0MB)\n",
            "\u001b[K     |████████████████████████████████| 1.0MB 23.5MB/s \n",
            "\u001b[?25hRequirement already satisfied: six in /usr/local/lib/python3.6/dist-packages (from absl-py>=0.11->ortools) (1.15.0)\n",
            "\u001b[31mERROR: tensorflow-metadata 0.26.0 has requirement absl-py<0.11,>=0.9, but you'll have absl-py 0.11.0 which is incompatible.\u001b[0m\n",
            "Installing collected packages: absl-py, protobuf, ortools\n",
            "  Found existing installation: absl-py 0.10.0\n",
            "    Uninstalling absl-py-0.10.0:\n",
            "      Successfully uninstalled absl-py-0.10.0\n",
            "  Found existing installation: protobuf 3.12.4\n",
            "    Uninstalling protobuf-3.12.4:\n",
            "      Successfully uninstalled protobuf-3.12.4\n",
            "Successfully installed absl-py-0.11.0 ortools-8.1.8487 protobuf-3.14.0\n"
          ]
        },
        {
          "output_type": "display_data",
          "data": {
            "application/vnd.colab-display-data+json": {
              "pip_warning": {
                "packages": [
                  "google"
                ]
              }
            }
          },
          "metadata": {
            "tags": []
          }
        }
      ],
      "metadata": {
        "id": "UtQyhObcPBba",
        "colab": {
          "base_uri": "https://localhost:8080/",
          "height": 471
        },
        "outputId": "42a61e66-ca30-4f36-c0e3-0398c460010b"
      }
    },
    {
      "cell_type": "code",
      "execution_count": null,
      "source": [
        "\"\"\"Vehicles Routing Problem (VRP).\"\"\"\n",
        "from __future__ import print_function\n",
        "from ortools.constraint_solver import routing_enums_pb2\n",
        "from ortools.constraint_solver import pywrapcp\n",
        "\n",
        "# these are the pairwise distances from each point\n",
        "# hard coded here, but we can add our own matrix VERY quickly\n",
        "# need to read it from a .csv\n",
        "def create_data_model():\n",
        "    \"\"\"Stores the data for the problem.\"\"\"\n",
        "    data = {}\n",
        "    data['distance_matrix'] = cost_matrix\n",
        "    data['num_vehicles'] = 4\n",
        "    data['depot'] = 0\n",
        "    return data\n",
        "\n",
        "\n",
        "def print_solution(data, manager, routing, solution):\n",
        "    \"\"\"Prints solution on console.\"\"\"\n",
        "    max_route_distance = 0\n",
        "    for vehicle_id in range(data['num_vehicles']):\n",
        "        index = routing.Start(vehicle_id)\n",
        "        plan_output = 'Route for vehicle {}:\\n'.format(vehicle_id)\n",
        "        route_distance = 0\n",
        "        while not routing.IsEnd(index):\n",
        "            plan_output += ' {} -> '.format(manager.IndexToNode(index))\n",
        "            previous_index = index\n",
        "            index = solution.Value(routing.NextVar(index))\n",
        "            route_distance += routing.GetArcCostForVehicle(\n",
        "                previous_index, index, vehicle_id)\n",
        "        plan_output += '{}\\n'.format(manager.IndexToNode(index))\n",
        "        plan_output += 'Distance of the route: {}m\\n'.format(route_distance)\n",
        "        print(plan_output)\n",
        "        max_route_distance = max(route_distance, max_route_distance)\n",
        "    print('Maximum of the route distances: {}m'.format(max_route_distance))\n",
        "\n",
        "\n",
        "\n",
        "\n",
        "def main():\n",
        "    \"\"\"Solve the CVRP problem.\"\"\"\n",
        "    # Instantiate the data problem.\n",
        "    data = create_data_model()\n",
        "\n",
        "    # Create the routing index manager.\n",
        "    manager = pywrapcp.RoutingIndexManager(len(data['distance_matrix']),\n",
        "                                           data['num_vehicles'], data['depot'])\n",
        "\n",
        "    # Create Routing Model.\n",
        "    routing = pywrapcp.RoutingModel(manager)\n",
        "\n",
        "\n",
        "    # Create and register a transit callback.\n",
        "    def distance_callback(from_index, to_index):\n",
        "        \"\"\"Returns the distance between the two nodes.\"\"\"\n",
        "        # Convert from routing variable Index to distance matrix NodeIndex.\n",
        "        from_node = manager.IndexToNode(from_index)\n",
        "        to_node = manager.IndexToNode(to_index)\n",
        "        return data['distance_matrix'][from_node][to_node]\n",
        "\n",
        "    transit_callback_index = routing.RegisterTransitCallback(distance_callback)\n",
        "\n",
        "    # Define cost of each arc.\n",
        "    routing.SetArcCostEvaluatorOfAllVehicles(transit_callback_index)\n",
        "\n",
        "    # Add Distance constraint.\n",
        "    dimension_name = 'Distance'\n",
        "    routing.AddDimension(\n",
        "        transit_callback_index,\n",
        "        0,  # no slack\n",
        "        3000,  # vehicle maximum travel distance\n",
        "        True,  # start cumul to zero\n",
        "        dimension_name)\n",
        "    distance_dimension = routing.GetDimensionOrDie(dimension_name)\n",
        "    distance_dimension.SetGlobalSpanCostCoefficient(100)\n",
        "\n",
        "    # Setting first solution heuristic.\n",
        "    search_parameters = pywrapcp.DefaultRoutingSearchParameters()\n",
        "    search_parameters.first_solution_strategy = (\n",
        "        routing_enums_pb2.FirstSolutionStrategy.PATH_CHEAPEST_ARC)\n",
        "\n",
        "    # Solve the problem.\n",
        "    solution = routing.SolveWithParameters(search_parameters)\n",
        "\n",
        "    # Print solution on console.\n",
        "    if solution:\n",
        "        print_solution(data, manager, routing, solution)\n",
        "\n",
        "\n",
        "if __name__ == '__main__':\n",
        "    main()"
      ],
      "outputs": [
        {
          "output_type": "stream",
          "name": "stdout",
          "text": [
            "Requirement already satisfied: ortools in /usr/local/lib/python3.6/dist-packages (8.1.8487)\n",
            "Requirement already satisfied: absl-py>=0.11 in /usr/local/lib/python3.6/dist-packages (from ortools) (0.11.0)\n",
            "Requirement already satisfied: protobuf>=3.14.0 in /usr/local/lib/python3.6/dist-packages (from ortools) (3.14.0)\n",
            "Requirement already satisfied: six in /usr/local/lib/python3.6/dist-packages (from absl-py>=0.11->ortools) (1.15.0)\n",
            "Route for vehicle 0:\n",
            " 0 ->  8 ->  6 ->  2 ->  5 -> 0\n",
            "Distance of the route: 1552m\n",
            "\n",
            "Route for vehicle 1:\n",
            " 0 ->  7 ->  1 ->  4 ->  3 -> 0\n",
            "Distance of the route: 1552m\n",
            "\n",
            "Route for vehicle 2:\n",
            " 0 ->  9 ->  10 ->  16 ->  14 -> 0\n",
            "Distance of the route: 1552m\n",
            "\n",
            "Route for vehicle 3:\n",
            " 0 ->  12 ->  11 ->  15 ->  13 -> 0\n",
            "Distance of the route: 1552m\n",
            "\n",
            "Maximum of the route distances: 1552m\n"
          ]
        }
      ],
      "metadata": {
        "id": "oNxPeq4mDd9N",
        "colab": {
          "base_uri": "https://localhost:8080/"
        },
        "outputId": "10c06827-2c77-4531-8f76-41ff9faed371"
      }
    },
    {
      "cell_type": "markdown",
      "source": [
        "#VEHICLE ROUTING PROBLEM WITH CAPACITY CONSTRAINTS"
      ],
      "metadata": {
        "id": "nrjKXO6QPaJ7"
      }
    },
    {
      "cell_type": "code",
      "execution_count": null,
      "source": [
        "# [START program]\n",
        "\"\"\"Capacited Vehicles Routing Problem (CVRP).\"\"\"\n",
        "\n",
        "# [START import]\n",
        "from ortools.constraint_solver import routing_enums_pb2\n",
        "from ortools.constraint_solver import pywrapcp\n",
        "# [END import]\n",
        "\n",
        "\n",
        "# [START data_model]\n",
        "def create_data_model():\n",
        "    \"\"\"Stores the data for the problem.\"\"\"\n",
        "    data = {}\n",
        "    data['distance_matrix'] = cost_matrix\n",
        "    # [START demands_capacities]\n",
        "    data['demands'] = [0, 1, 1, 2, 4, 2, 4, 8, 8, 1, 2, 1, 2, 4, 4, 8, 8]\n",
        "    data['vehicle_capacities'] = [18, 12, 11, 19]\n",
        "    # [END demands_capacities]\n",
        "    data['num_vehicles'] = 4\n",
        "    data['depot'] = 0\n",
        "    return data\n",
        "    # [END data_model]\n",
        "\n",
        "\n",
        "# [START solution_printer]\n",
        "def print_solution(data, manager, routing, solution):\n",
        "    \"\"\"Prints solution on console.\"\"\"\n",
        "    total_distance = 0\n",
        "    total_load = 0\n",
        "    for vehicle_id in range(data['num_vehicles']):\n",
        "        index = routing.Start(vehicle_id)\n",
        "        plan_output = 'Route for vehicle {}:\\n'.format(vehicle_id)\n",
        "        route_distance = 0\n",
        "        route_load = 0\n",
        "        while not routing.IsEnd(index):\n",
        "            node_index = manager.IndexToNode(index)\n",
        "            route_load += data['demands'][node_index]\n",
        "            plan_output += ' {0} Load({1}) -> '.format(node_index, route_load)\n",
        "            previous_index = index\n",
        "            index = solution.Value(routing.NextVar(index))\n",
        "            route_distance += routing.GetArcCostForVehicle(\n",
        "                previous_index, index, vehicle_id)\n",
        "        plan_output += ' {0} Load({1})\\n'.format(manager.IndexToNode(index),\n",
        "                                                 route_load)\n",
        "        plan_output += 'Distance of the route: {}m\\n'.format(route_distance)\n",
        "        plan_output += 'Load of the route: {}\\n'.format(route_load)\n",
        "        print(plan_output)\n",
        "        total_distance += route_distance\n",
        "        total_load += route_load\n",
        "    print('Total distance of all routes: {}m'.format(total_distance))\n",
        "    print('Total load of all routes: {}'.format(total_load))\n",
        "    # [END solution_printer]\n",
        "\n",
        "\n",
        "\"\"\"Solve the CVRP problem.\"\"\"\n",
        "# Instantiate the data problem.\n",
        "# [START data]\n",
        "data = create_data_model()\n",
        "# [END data]\n",
        "\n",
        "# Create the routing index manager.\n",
        "# [START index_manager]\n",
        "manager = pywrapcp.RoutingIndexManager(len(data['distance_matrix']),\n",
        "                                       data['num_vehicles'], data['depot'])\n",
        "# [END index_manager]\n",
        "\n",
        "# Create Routing Model.\n",
        "# [START routing_model]\n",
        "routing = pywrapcp.RoutingModel(manager)\n",
        "\n",
        "# [END routing_model]\n",
        "\n",
        "# Create and register a transit callback.\n",
        "# [START transit_callback]\n",
        "def distance_callback(from_index, to_index):\n",
        "    \"\"\"Returns the distance between the two nodes.\"\"\"\n",
        "    # Convert from routing variable Index to distance matrix NodeIndex.\n",
        "    from_node = manager.IndexToNode(from_index)\n",
        "    to_node = manager.IndexToNode(to_index)\n",
        "    return data['distance_matrix'][from_node][to_node]\n",
        "\n",
        "transit_callback_index = routing.RegisterTransitCallback(distance_callback)\n",
        "# [END transit_callback]\n",
        "\n",
        "# Define cost of each arc.\n",
        "# [START arc_cost]\n",
        "routing.SetArcCostEvaluatorOfAllVehicles(transit_callback_index)\n",
        "\n",
        "# [END arc_cost]\n",
        "\n",
        "# Add Capacity constraint.\n",
        "# [START capacity_constraint]\n",
        "def demand_callback(from_index):\n",
        "    \"\"\"Returns the demand of the node.\"\"\"\n",
        "    # Convert from routing variable Index to demands NodeIndex.\n",
        "    from_node = manager.IndexToNode(from_index)\n",
        "    return data['demands'][from_node]\n",
        "\n",
        "demand_callback_index = routing.RegisterUnaryTransitCallback(\n",
        "    demand_callback)\n",
        "routing.AddDimensionWithVehicleCapacity(\n",
        "    demand_callback_index,\n",
        "    0,  # null capacity slack\n",
        "    data['vehicle_capacities'],  # vehicle maximum capacities\n",
        "    True,  # start cumul to zero\n",
        "    'Capacity')\n",
        "# [END capacity_constraint]\n",
        "\n",
        "# Setting first solution heuristic.\n",
        "# [START parameters]\n",
        "search_parameters = pywrapcp.DefaultRoutingSearchParameters()\n",
        "search_parameters.first_solution_strategy = (\n",
        "    routing_enums_pb2.FirstSolutionStrategy.PATH_CHEAPEST_ARC)\n",
        "search_parameters.local_search_metaheuristic = (\n",
        "    routing_enums_pb2.LocalSearchMetaheuristic.GUIDED_LOCAL_SEARCH)\n",
        "search_parameters.time_limit.FromSeconds(1)\n",
        "# [END parameters]\n",
        "\n",
        "# Solve the problem.\n",
        "# [START solve]\n",
        "solution = routing.SolveWithParameters(search_parameters)\n",
        "# [END solve]\n",
        "\n",
        "# Print solution on console.\n",
        "# [START print_solution]\n",
        "if solution:\n",
        "    print_solution(data, manager, routing, solution)\n",
        "# [END print_solution]\n",
        "\n"
      ],
      "outputs": [
        {
          "output_type": "stream",
          "name": "stdout",
          "text": [
            "Route for vehicle 0:\n",
            " 0 Load(0) ->  5 Load(2) ->  8 Load(10) ->  6 Load(14) ->  2 Load(15) ->  10 Load(17) ->  9 Load(18) ->  0 Load(18)\n",
            "Distance of the route: 1872m\n",
            "Load of the route: 18\n",
            "\n",
            "Route for vehicle 1:\n",
            " 0 Load(0) ->  16 Load(8) ->  14 Load(12) ->  0 Load(12)\n",
            "Distance of the route: 1324m\n",
            "Load of the route: 12\n",
            "\n",
            "Route for vehicle 2:\n",
            " 0 Load(0) ->  11 Load(1) ->  12 Load(3) ->  7 Load(11) ->  0 Load(11)\n",
            "Distance of the route: 1164m\n",
            "Load of the route: 11\n",
            "\n",
            "Route for vehicle 3:\n",
            " 0 Load(0) ->  1 Load(1) ->  4 Load(5) ->  3 Load(7) ->  15 Load(15) ->  13 Load(19) ->  0 Load(19)\n",
            "Distance of the route: 2192m\n",
            "Load of the route: 19\n",
            "\n",
            "Total distance of all routes: 6552m\n",
            "Total load of all routes: 60\n"
          ]
        }
      ],
      "metadata": {
        "id": "Mgj0Gj3wPlHz",
        "colab": {
          "base_uri": "https://localhost:8080/"
        },
        "outputId": "b821b2df-8a1e-4dab-e6a3-1453707d6624"
      }
    },
    {
      "cell_type": "markdown",
      "source": [
        "#VEHICLE ROUTING PROBLEM WITH PICK UP AND DELIVERY CONSTRAINTS"
      ],
      "metadata": {
        "id": "5qWkGLdMQRjp"
      }
    },
    {
      "cell_type": "code",
      "execution_count": null,
      "source": [
        "# [START program]\n",
        "\"\"\"Simple Pickup Delivery Problem (PDP).\"\"\"\n",
        "\n",
        "# [START import]\n",
        "from ortools.constraint_solver import routing_enums_pb2\n",
        "from ortools.constraint_solver import pywrapcp\n",
        "# [END import]\n",
        "\n",
        "\n",
        "# [START data_model]\n",
        "def create_data_model():\n",
        "    \"\"\"Stores the data for the problem.\"\"\"\n",
        "    data = {}\n",
        "    data['distance_matrix'] = cost_matrix\n",
        "    # [START pickups_deliveries]\n",
        "    data['pickups_deliveries'] = [\n",
        "        [1, 6],\n",
        "        [2, 10],\n",
        "        [4, 3],\n",
        "        [5, 9],\n",
        "        [7, 8],\n",
        "        [15, 11],\n",
        "        [13, 12],\n",
        "        [16, 14],\n",
        "    ]\n",
        "    # [END pickups_deliveries]\n",
        "    data['num_vehicles'] = 4\n",
        "    data['depot'] = 0\n",
        "    return data\n",
        "    # [END data_model]\n",
        "\n",
        "\n",
        "# [START solution_printer]\n",
        "def print_solution(data, manager, routing, solution):\n",
        "    \"\"\"Prints solution on console.\"\"\"\n",
        "    total_distance = 0\n",
        "    for vehicle_id in range(data['num_vehicles']):\n",
        "        index = routing.Start(vehicle_id)\n",
        "        plan_output = 'Route for vehicle {}:\\n'.format(vehicle_id)\n",
        "        route_distance = 0\n",
        "        while not routing.IsEnd(index):\n",
        "            plan_output += ' {} -> '.format(manager.IndexToNode(index))\n",
        "            previous_index = index\n",
        "            index = solution.Value(routing.NextVar(index))\n",
        "            route_distance += routing.GetArcCostForVehicle(\n",
        "                previous_index, index, vehicle_id)\n",
        "        plan_output += '{}\\n'.format(manager.IndexToNode(index))\n",
        "        plan_output += 'Distance of the route: {}m\\n'.format(route_distance)\n",
        "        print(plan_output)\n",
        "        total_distance += route_distance\n",
        "    print('Total Distance of all routes: {}m'.format(total_distance))\n",
        "    # [END solution_printer]\n",
        "\n",
        "\n",
        "\"\"\"Entry point of the program.\"\"\"\n",
        "# Instantiate the data problem.\n",
        "# [START data]\n",
        "data = create_data_model()\n",
        "# [END data]\n",
        "\n",
        "# Create the routing index manager.\n",
        "# [START index_manager]\n",
        "manager = pywrapcp.RoutingIndexManager(len(data['distance_matrix']),\n",
        "                                       data['num_vehicles'], data['depot'])\n",
        "# [END index_manager]\n",
        "\n",
        "# Create Routing Model.\n",
        "# [START routing_model]\n",
        "routing = pywrapcp.RoutingModel(manager)\n",
        "\n",
        "# [END routing_model]\n",
        "\n",
        "# Define cost of each arc.\n",
        "# [START arc_cost]\n",
        "def distance_callback(from_index, to_index):\n",
        "    \"\"\"Returns the manhattan distance between the two nodes.\"\"\"\n",
        "    # Convert from routing variable Index to distance matrix NodeIndex.\n",
        "    from_node = manager.IndexToNode(from_index)\n",
        "    to_node = manager.IndexToNode(to_index)\n",
        "    return data['distance_matrix'][from_node][to_node]\n",
        "\n",
        "transit_callback_index = routing.RegisterTransitCallback(distance_callback)\n",
        "routing.SetArcCostEvaluatorOfAllVehicles(transit_callback_index)\n",
        "# [END arc_cost]\n",
        "\n",
        "# Add Distance constraint.\n",
        "# [START distance_constraint]\n",
        "dimension_name = 'Distance'\n",
        "routing.AddDimension(\n",
        "    transit_callback_index,\n",
        "    0,  # no slack\n",
        "    3000,  # vehicle maximum travel distance\n",
        "    True,  # start cumul to zero\n",
        "    dimension_name)\n",
        "distance_dimension = routing.GetDimensionOrDie(dimension_name)\n",
        "distance_dimension.SetGlobalSpanCostCoefficient(100)\n",
        "# [END distance_constraint]\n",
        "\n",
        "# Define Transportation Requests.\n",
        "# [START pickup_delivery_constraint]\n",
        "for request in data['pickups_deliveries']:\n",
        "    pickup_index = manager.NodeToIndex(request[0])\n",
        "    delivery_index = manager.NodeToIndex(request[1])\n",
        "    routing.AddPickupAndDelivery(pickup_index, delivery_index)\n",
        "    routing.solver().Add(\n",
        "        routing.VehicleVar(pickup_index) == routing.VehicleVar(\n",
        "            delivery_index))\n",
        "    routing.solver().Add(\n",
        "        distance_dimension.CumulVar(pickup_index) <=\n",
        "        distance_dimension.CumulVar(delivery_index))\n",
        "# [END pickup_delivery_constraint]\n",
        "\n",
        "# Setting first solution heuristic.\n",
        "# [START parameters]\n",
        "search_parameters = pywrapcp.DefaultRoutingSearchParameters()\n",
        "search_parameters.first_solution_strategy = (\n",
        "    routing_enums_pb2.FirstSolutionStrategy.PARALLEL_CHEAPEST_INSERTION)\n",
        "# [END parameters]\n",
        "\n",
        "# Solve the problem.\n",
        "# [START solve]\n",
        "solution = routing.SolveWithParameters(search_parameters)\n",
        "# [END solve]\n",
        "\n",
        "# Print solution on console.\n",
        "# [START print_solution]\n",
        "if solution:\n",
        "    print_solution(data, manager, routing, solution)\n",
        "# [END print_solution]\n",
        "\n"
      ],
      "outputs": [
        {
          "output_type": "stream",
          "name": "stdout",
          "text": [
            "Route for vehicle 0:\n",
            " 0 ->  13 ->  15 ->  11 ->  12 -> 0\n",
            "Distance of the route: 1552m\n",
            "\n",
            "Route for vehicle 1:\n",
            " 0 ->  5 ->  2 ->  10 ->  16 ->  14 ->  9 -> 0\n",
            "Distance of the route: 2192m\n",
            "\n",
            "Route for vehicle 2:\n",
            " 0 ->  4 ->  3 -> 0\n",
            "Distance of the route: 1392m\n",
            "\n",
            "Route for vehicle 3:\n",
            " 0 ->  7 ->  1 ->  6 ->  8 -> 0\n",
            "Distance of the route: 1780m\n",
            "\n",
            "Total Distance of all routes: 6916m\n"
          ]
        }
      ],
      "metadata": {
        "id": "6Yr5Lw44QJ-U",
        "colab": {
          "base_uri": "https://localhost:8080/"
        },
        "outputId": "dd318b6b-db19-406e-dc35-5beec49c9d08"
      }
    },
    {
      "cell_type": "markdown",
      "source": [
        "# VEHICLE ROUTING PROBLEM WITH TIME WINDOW CONSTRAINTS"
      ],
      "metadata": {
        "id": "C8p4oChUQ7Le"
      }
    },
    {
      "cell_type": "code",
      "execution_count": null,
      "source": [
        "# [START program]\n",
        "\"\"\"Vehicles Routing Problem (VRP) with Time Windows.\"\"\"\n",
        "\n",
        "# [START import]\n",
        "from ortools.constraint_solver import routing_enums_pb2\n",
        "from ortools.constraint_solver import pywrapcp\n",
        "# [END import]\n",
        "\n",
        "\n",
        "# [START data_model]\n",
        "def create_data_model():\n",
        "    \"\"\"Stores the data for the problem.\"\"\"\n",
        "    data = {}\n",
        "    data['time_matrix'] = [\n",
        "        [0, 6, 9, 8, 7, 3, 6, 2, 3, 2, 6, 6, 4, 4, 5, 9, 7],\n",
        "        [6, 0, 8, 3, 2, 6, 8, 4, 8, 8, 13, 7, 5, 8, 12, 10, 14],\n",
        "        [9, 8, 0, 11, 10, 6, 3, 9, 5, 8, 4, 15, 14, 13, 9, 18, 9],\n",
        "        [8, 3, 11, 0, 1, 7, 10, 6, 10, 10, 14, 6, 7, 9, 14, 6, 16],\n",
        "        [7, 2, 10, 1, 0, 6, 9, 4, 8, 9, 13, 4, 6, 8, 12, 8, 14],\n",
        "        [3, 6, 6, 7, 6, 0, 2, 3, 2, 2, 7, 9, 7, 7, 6, 12, 8],\n",
        "        [6, 8, 3, 10, 9, 2, 0, 6, 2, 5, 4, 12, 10, 10, 6, 15, 5],\n",
        "        [2, 4, 9, 6, 4, 3, 6, 0, 4, 4, 8, 5, 4, 3, 7, 8, 10],\n",
        "        [3, 8, 5, 10, 8, 2, 2, 4, 0, 3, 4, 9, 8, 7, 3, 13, 6],\n",
        "        [2, 8, 8, 10, 9, 2, 5, 4, 3, 0, 4, 6, 5, 4, 3, 9, 5],\n",
        "        [6, 13, 4, 14, 13, 7, 4, 8, 4, 4, 0, 10, 9, 8, 4, 13, 4],\n",
        "        [6, 7, 15, 6, 4, 9, 12, 5, 9, 6, 10, 0, 1, 3, 7, 3, 10],\n",
        "        [4, 5, 14, 7, 6, 7, 10, 4, 8, 5, 9, 1, 0, 2, 6, 4, 8],\n",
        "        [4, 8, 13, 9, 8, 7, 10, 3, 7, 4, 8, 3, 2, 0, 4, 5, 6],\n",
        "        [5, 12, 9, 14, 12, 6, 6, 7, 3, 3, 4, 7, 6, 4, 0, 9, 2],\n",
        "        [9, 10, 18, 6, 8, 12, 15, 8, 13, 9, 13, 3, 4, 5, 9, 0, 9],\n",
        "        [7, 14, 9, 16, 14, 8, 5, 10, 6, 5, 4, 10, 8, 6, 2, 9, 0],\n",
        "    ]\n",
        "    data['time_windows'] = [\n",
        "        (0, 5),  # depot\n",
        "        (7, 12),  # 1\n",
        "        (10, 15),  # 2\n",
        "        (16, 18),  # 3\n",
        "        (10, 13),  # 4\n",
        "        (0, 5),  # 5\n",
        "        (5, 10),  # 6\n",
        "        (0, 4),  # 7\n",
        "        (5, 10),  # 8\n",
        "        (0, 3),  # 9\n",
        "        (10, 16),  # 10\n",
        "        (10, 15),  # 11\n",
        "        (0, 5),  # 12\n",
        "        (5, 10),  # 13\n",
        "        (7, 8),  # 14\n",
        "        (10, 15),  # 15\n",
        "        (11, 15),  # 16\n",
        "    ]\n",
        "    data['num_vehicles'] = 4\n",
        "    data['depot'] = 0\n",
        "    return data\n",
        "    # [END data_model]\n",
        "\n",
        "\n",
        "# [START solution_printer]\n",
        "def print_solution(data, manager, routing, solution):\n",
        "    \"\"\"Prints solution on console.\"\"\"\n",
        "    time_dimension = routing.GetDimensionOrDie('Time')\n",
        "    total_time = 0\n",
        "    for vehicle_id in range(data['num_vehicles']):\n",
        "        index = routing.Start(vehicle_id)\n",
        "        plan_output = 'Route for vehicle {}:\\n'.format(vehicle_id)\n",
        "        while not routing.IsEnd(index):\n",
        "            time_var = time_dimension.CumulVar(index)\n",
        "            plan_output += '{0} Time({1},{2}) -> '.format(\n",
        "                manager.IndexToNode(index), solution.Min(time_var),\n",
        "                solution.Max(time_var))\n",
        "            index = solution.Value(routing.NextVar(index))\n",
        "        time_var = time_dimension.CumulVar(index)\n",
        "        plan_output += '{0} Time({1},{2})\\n'.format(manager.IndexToNode(index),\n",
        "                                                    solution.Min(time_var),\n",
        "                                                    solution.Max(time_var))\n",
        "        plan_output += 'Time of the route: {}min\\n'.format(\n",
        "            solution.Min(time_var))\n",
        "        print(plan_output)\n",
        "        total_time += solution.Min(time_var)\n",
        "    print('Total time of all routes: {}min'.format(total_time))\n",
        "    # [END solution_printer]\n",
        "\n",
        "\n",
        "\"\"\"Solve the VRP with time windows.\"\"\"\n",
        "# Instantiate the data problem.\n",
        "# [START data]\n",
        "data = create_data_model()\n",
        "# [END data]\n",
        "\n",
        "# Create the routing index manager.\n",
        "# [START index_manager]\n",
        "manager = pywrapcp.RoutingIndexManager(len(data['time_matrix']),\n",
        "                                       data['num_vehicles'], data['depot'])\n",
        "# [END index_manager]\n",
        "\n",
        "# Create Routing Model.\n",
        "# [START routing_model]\n",
        "routing = pywrapcp.RoutingModel(manager)\n",
        "\n",
        "# [END routing_model]\n",
        "\n",
        "# Create and register a transit callback.\n",
        "# [START transit_callback]\n",
        "def time_callback(from_index, to_index):\n",
        "    \"\"\"Returns the travel time between the two nodes.\"\"\"\n",
        "    # Convert from routing variable Index to time matrix NodeIndex.\n",
        "    from_node = manager.IndexToNode(from_index)\n",
        "    to_node = manager.IndexToNode(to_index)\n",
        "    return data['time_matrix'][from_node][to_node]\n",
        "\n",
        "transit_callback_index = routing.RegisterTransitCallback(time_callback)\n",
        "# [END transit_callback]\n",
        "\n",
        "# Define cost of each arc.\n",
        "# [START arc_cost]\n",
        "routing.SetArcCostEvaluatorOfAllVehicles(transit_callback_index)\n",
        "# [END arc_cost]\n",
        "\n",
        "# Add Time Windows constraint.\n",
        "# [START time_windows_constraint]\n",
        "time = 'Time'\n",
        "routing.AddDimension(\n",
        "    transit_callback_index,\n",
        "    30,  # allow waiting time\n",
        "    30,  # maximum time per vehicle\n",
        "    False,  # Don't force start cumul to zero.\n",
        "    time)\n",
        "time_dimension = routing.GetDimensionOrDie(time)\n",
        "# Add time window constraints for each location except depot.\n",
        "for location_idx, time_window in enumerate(data['time_windows']):\n",
        "    if location_idx == 0:\n",
        "        continue\n",
        "    index = manager.NodeToIndex(location_idx)\n",
        "    time_dimension.CumulVar(index).SetRange(time_window[0], time_window[1])\n",
        "# Add time window constraints for each vehicle start node.\n",
        "for vehicle_id in range(data['num_vehicles']):\n",
        "    index = routing.Start(vehicle_id)\n",
        "    time_dimension.CumulVar(index).SetRange(data['time_windows'][0][0],\n",
        "                                            data['time_windows'][0][1])\n",
        "# [END time_windows_constraint]\n",
        "\n",
        "# Instantiate route start and end times to produce feasible times.\n",
        "# [START depot_start_end_times]\n",
        "for i in range(data['num_vehicles']):\n",
        "    routing.AddVariableMinimizedByFinalizer(\n",
        "        time_dimension.CumulVar(routing.Start(i)))\n",
        "    routing.AddVariableMinimizedByFinalizer(\n",
        "        time_dimension.CumulVar(routing.End(i)))\n",
        "# [END depot_start_end_times]\n",
        "\n",
        "# Setting first solution heuristic.\n",
        "# [START parameters]\n",
        "search_parameters = pywrapcp.DefaultRoutingSearchParameters()\n",
        "search_parameters.first_solution_strategy = (\n",
        "    routing_enums_pb2.FirstSolutionStrategy.PATH_CHEAPEST_ARC)\n",
        "# [END parameters]\n",
        "\n",
        "# Solve the problem.\n",
        "# [START solve]\n",
        "solution = routing.SolveWithParameters(search_parameters)\n",
        "# [END solve]\n",
        "\n",
        "# Print solution on console.\n",
        "# [START print_solution]\n",
        "if solution:\n",
        "    print_solution(data, manager, routing, solution)\n",
        "# [END print_solution]\n",
        "\n"
      ],
      "outputs": [
        {
          "output_type": "stream",
          "name": "stdout",
          "text": [
            "Route for vehicle 0:\n",
            "0 Time(0,0) -> 9 Time(2,3) -> 14 Time(7,8) -> 16 Time(11,11) -> 0 Time(18,18)\n",
            "Time of the route: 18min\n",
            "\n",
            "Route for vehicle 1:\n",
            "0 Time(0,0) -> 7 Time(2,4) -> 1 Time(7,11) -> 4 Time(10,13) -> 3 Time(16,16) -> 0 Time(24,24)\n",
            "Time of the route: 24min\n",
            "\n",
            "Route for vehicle 2:\n",
            "0 Time(0,0) -> 12 Time(4,4) -> 13 Time(6,6) -> 15 Time(11,11) -> 11 Time(14,14) -> 0 Time(20,20)\n",
            "Time of the route: 20min\n",
            "\n",
            "Route for vehicle 3:\n",
            "0 Time(0,0) -> 5 Time(3,3) -> 8 Time(5,5) -> 6 Time(7,7) -> 2 Time(10,10) -> 10 Time(14,14) -> 0 Time(20,20)\n",
            "Time of the route: 20min\n",
            "\n",
            "Total time of all routes: 82min\n"
          ]
        }
      ],
      "metadata": {
        "id": "4os3pgfTRP7d",
        "colab": {
          "base_uri": "https://localhost:8080/"
        },
        "outputId": "9ec81f8e-85e6-476f-87b4-6bc474a03916"
      }
    },
    {
      "cell_type": "markdown",
      "source": [
        "# END TIME "
      ],
      "metadata": {
        "id": "XaOW2H84cY2Q"
      }
    },
    {
      "cell_type": "code",
      "execution_count": null,
      "source": [
        "end = time.time()\n",
        "print(end - start,\" s\")"
      ],
      "outputs": [
        {
          "output_type": "stream",
          "name": "stdout",
          "text": [
            "10.450500011444092  s\n",
            "time: 2.26 ms (started: 2021-03-15 01:17:13 +00:00)\n"
          ]
        }
      ],
      "metadata": {
        "id": "cqm_-Tqgca4C",
        "colab": {
          "base_uri": "https://localhost:8080/"
        },
        "outputId": "ab75a224-2d65-40dc-c0fa-be4f57008922"
      }
    },
    {
      "cell_type": "markdown",
      "source": [
        "#CONCLUSION\n",
        "\n",
        "The Vehicle Routing Problem (VRP) is the most popular combinatorial optimization problem. \n",
        "In this modeling example, we have shown how to formulate the Capacitated Vehicle Routing with different meta-heuristics"
      ],
      "metadata": {
        "id": "TMjO5su_I1mu"
      }
    },
    {
      "cell_type": "markdown",
      "source": [
        "#REFERENCES\n",
        "\n"
      ],
      "metadata": {
        "id": "x00BHTk2PIVP"
      }
    },
    {
      "cell_type": "markdown",
      "source": [
        "Example for using Google Maps API:\n",
        "\n",
        "* https://medium.com/how-to-use-google-distance-matrix-api-in-python/how-to-use-google-distance-matrix-api-in-python-ef9cd895303c \n",
        "* https://www.tandfonline.com/doi/full/10.1080/19475683.2011.625977"
      ],
      "metadata": {
        "id": "FzNfG_XqTCw3"
      }
    },
    {
      "cell_type": "markdown",
      "source": [
        "\n",
        " * https://scikit-learn.org/stable/modules/generated/sklearn.metrics.pairwise.manhattan_distances.html"
      ],
      "metadata": {
        "id": "t74ssJTIPM_O"
      }
    }
  ]
}